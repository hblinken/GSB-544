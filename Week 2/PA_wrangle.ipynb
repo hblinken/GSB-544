{
  "cells": [
    {
      "cell_type": "markdown",
      "metadata": {
        "id": "r9YPMJZueiQ_"
      },
      "source": [
        "## Intro\n",
        "\n",
        "In this PA, you will practice altering data frame objects in order to solve a riddle.\n",
        "\n",
        "### Advice for troubleshooting your code\n",
        "\n",
        "#### Check results often\n",
        "\n",
        "If a chunk of code runs smoothly without giving you any error or warnings this does not necessarily mean it accomplished the desired task.\n",
        "\n",
        "It is a good habit to check the results of your code every time you finish a task.\n",
        "\n",
        "If you created or updated a data frame, make sure your edits did what you hoped.  Use the *Environment* or the `head()` function to investigate your changes.\n",
        "\n",
        "#### Document your work\n",
        "\n",
        "In the text before the code chunk, make sure to briefly state what the point of the chunk is.  This will remind later readers - which might be your future self! - what the desired output is.\n",
        "\n",
        "Use comments in the code to give quick explanations of the goals of complex steps.\n",
        "\n",
        "#### Two heads are better than one\n",
        "\n",
        "It can be hard to spot bugs in code that you yourself wrote.t\n",
        "(Have you ever sent a text message and not spotted an obvious  typo?  Same idea!)\n",
        "\n",
        "Work with people around you if you can - if something goes wrong, ask a friend to take a peek at your code and see if any glaring errors (like *syntax error*) pop out.\n",
        "\n",
        "#### Explain your code out loud\n",
        "\n",
        "The best way to troubleshoot a sneaky bug is to explain out loud each step of your code, and what you hoped to accomplish.\n",
        "\n",
        "If you are alone, try [Rubber Duck Debugging](https://en.wikipedia.org/wiki/Rubber_duck_debugging)!\n",
        "\n",
        "#### Google is your friend\n",
        "\n",
        "The whole of the internet is at your disposal!  Use it early, use it often.\n",
        "\n",
        "Copy-paste the exact error message into Google. Chances are, somebody else had a similar problem and got a similar message.\n",
        "\n",
        "\n",
        "Include package names in your search terms.  For example, \"bar plot in plotnine with pandas data frame\" is a better search than \"bar plot in python\".\n",
        "\n",
        "\n",
        "## Part One: Data import and cleaning\n",
        "\n",
        "This section will walk you through some steps to clean up today's dataset, so that you can use it more easily in Part Two.  \n",
        "\n",
        "First, we declare our package dependencies and load the data.\n",
        "\n",
        "(Note that the data loading function `read_csv` will give you an outpouring of helpful information about the dataset.  If you do not see the word \"error\", there is nothing to be concerned about.)\n"
      ]
    },
    {
      "cell_type": "code",
      "execution_count": 2,
      "metadata": {
        "id": "9asR0S4_eiRA"
      },
      "outputs": [],
      "source": [
        "import numpy as np\n",
        "import pandas as pd\n",
        "\n",
        "colleges = pd.read_csv(\"https://www.dropbox.com/s/bt5hvctdevhbq6j/colleges.csv?dl=1\")"
      ]
    },
    {
      "cell_type": "markdown",
      "metadata": {
        "id": "ZdYqoIsieiRB"
      },
      "source": [
        "The code chunks in this section will cause an error and/or do the desired task incorrectly.  (Even the chunks that run without error are not correct!) You will need to find the mistake, and correct it, to complete the intended action.\n",
        "\n",
        "None of the *text* is incorrect, only the *code* - your goal is to make the code do exactly what the documentation claims it will.\n",
        "\n",
        "#### 1. Narrow down the columns to variables of interest\n",
        "\n",
        "There are too many variables in this dataset.  We don't need all of them. We will limit our dataset down to only:\n",
        "\n",
        "Name of the institution\n",
        "City, State, and ZIP code of the institution\n",
        "The Admissions Rate\n",
        "The average SAT score\n",
        "The number of undergraduate students\n",
        "The in and out of state tuitions\n",
        "Whether the school is public or private\n",
        "The \"REGION\" variable.\n"
      ]
    },
    {
      "cell_type": "code",
      "execution_count": 3,
      "metadata": {
        "id": "1QZE0D5TeiRC"
      },
      "outputs": [],
      "source": [
        "colleges_clean = colleges[['INSTNM', 'CITY', 'STABBR', 'ZIP', 'CONTROL', 'ADM_RATE', 'SAT_AVG', 'TUITIONFEE_IN', 'TUITIONFEE_OUT', 'UGDS', 'REGION']]"
      ]
    },
    {
      "cell_type": "markdown",
      "metadata": {
        "id": "p-0lfoOleiRC"
      },
      "source": [
        "#### 2. Remove observations that aren't needed\n",
        "\n",
        "Drop the schools that are \"private for-profit\" (category 3).  We will not need these for the puzzle.\n"
      ]
    },
    {
      "cell_type": "code",
      "execution_count": 4,
      "metadata": {
        "id": "E7Xx6YsKeiRC"
      },
      "outputs": [],
      "source": [
        "colleges_clean = colleges_clean[(colleges_clean['CONTROL'] == 1) | (colleges_clean['CONTROL'] == 2)]\n"
      ]
    },
    {
      "cell_type": "code",
      "execution_count": 5,
      "metadata": {},
      "outputs": [
        {
          "data": {
            "text/html": [
              "<div>\n",
              "<style scoped>\n",
              "    .dataframe tbody tr th:only-of-type {\n",
              "        vertical-align: middle;\n",
              "    }\n",
              "\n",
              "    .dataframe tbody tr th {\n",
              "        vertical-align: top;\n",
              "    }\n",
              "\n",
              "    .dataframe thead th {\n",
              "        text-align: right;\n",
              "    }\n",
              "</style>\n",
              "<table border=\"1\" class=\"dataframe\">\n",
              "  <thead>\n",
              "    <tr style=\"text-align: right;\">\n",
              "      <th></th>\n",
              "      <th>INSTNM</th>\n",
              "      <th>CITY</th>\n",
              "      <th>STABBR</th>\n",
              "      <th>ZIP</th>\n",
              "      <th>CONTROL</th>\n",
              "      <th>ADM_RATE</th>\n",
              "      <th>SAT_AVG</th>\n",
              "      <th>TUITIONFEE_IN</th>\n",
              "      <th>TUITIONFEE_OUT</th>\n",
              "      <th>UGDS</th>\n",
              "      <th>REGION</th>\n",
              "    </tr>\n",
              "  </thead>\n",
              "  <tbody>\n",
              "    <tr>\n",
              "      <th>0</th>\n",
              "      <td>Alabama A &amp; M University</td>\n",
              "      <td>Normal</td>\n",
              "      <td>AL</td>\n",
              "      <td>35762</td>\n",
              "      <td>1</td>\n",
              "      <td>0.9027</td>\n",
              "      <td>929.0</td>\n",
              "      <td>9857.0</td>\n",
              "      <td>18236.0</td>\n",
              "      <td>4824.0</td>\n",
              "      <td>5</td>\n",
              "    </tr>\n",
              "    <tr>\n",
              "      <th>1</th>\n",
              "      <td>University of Alabama at Birmingham</td>\n",
              "      <td>Birmingham</td>\n",
              "      <td>AL</td>\n",
              "      <td>35294-0110</td>\n",
              "      <td>1</td>\n",
              "      <td>0.9181</td>\n",
              "      <td>1195.0</td>\n",
              "      <td>8328.0</td>\n",
              "      <td>19032.0</td>\n",
              "      <td>12866.0</td>\n",
              "      <td>5</td>\n",
              "    </tr>\n",
              "    <tr>\n",
              "      <th>2</th>\n",
              "      <td>Amridge University</td>\n",
              "      <td>Montgomery</td>\n",
              "      <td>AL</td>\n",
              "      <td>36117-3553</td>\n",
              "      <td>2</td>\n",
              "      <td>NaN</td>\n",
              "      <td>NaN</td>\n",
              "      <td>6900.0</td>\n",
              "      <td>6900.0</td>\n",
              "      <td>322.0</td>\n",
              "      <td>5</td>\n",
              "    </tr>\n",
              "    <tr>\n",
              "      <th>3</th>\n",
              "      <td>University of Alabama in Huntsville</td>\n",
              "      <td>Huntsville</td>\n",
              "      <td>AL</td>\n",
              "      <td>35899</td>\n",
              "      <td>1</td>\n",
              "      <td>0.8123</td>\n",
              "      <td>1322.0</td>\n",
              "      <td>10280.0</td>\n",
              "      <td>21480.0</td>\n",
              "      <td>6917.0</td>\n",
              "      <td>5</td>\n",
              "    </tr>\n",
              "    <tr>\n",
              "      <th>4</th>\n",
              "      <td>Alabama State University</td>\n",
              "      <td>Montgomery</td>\n",
              "      <td>AL</td>\n",
              "      <td>36104-0271</td>\n",
              "      <td>1</td>\n",
              "      <td>0.9787</td>\n",
              "      <td>935.0</td>\n",
              "      <td>11068.0</td>\n",
              "      <td>19396.0</td>\n",
              "      <td>4189.0</td>\n",
              "      <td>5</td>\n",
              "    </tr>\n",
              "  </tbody>\n",
              "</table>\n",
              "</div>"
            ],
            "text/plain": [
              "                                INSTNM        CITY STABBR         ZIP  \\\n",
              "0             Alabama A & M University      Normal     AL       35762   \n",
              "1  University of Alabama at Birmingham  Birmingham     AL  35294-0110   \n",
              "2                   Amridge University  Montgomery     AL  36117-3553   \n",
              "3  University of Alabama in Huntsville  Huntsville     AL       35899   \n",
              "4             Alabama State University  Montgomery     AL  36104-0271   \n",
              "\n",
              "   CONTROL  ADM_RATE  SAT_AVG  TUITIONFEE_IN  TUITIONFEE_OUT     UGDS  REGION  \n",
              "0        1    0.9027    929.0         9857.0         18236.0   4824.0       5  \n",
              "1        1    0.9181   1195.0         8328.0         19032.0  12866.0       5  \n",
              "2        2       NaN      NaN         6900.0          6900.0    322.0       5  \n",
              "3        1    0.8123   1322.0        10280.0         21480.0   6917.0       5  \n",
              "4        1    0.9787    935.0        11068.0         19396.0   4189.0       5  "
            ]
          },
          "execution_count": 5,
          "metadata": {},
          "output_type": "execute_result"
        }
      ],
      "source": [
        "colleges_clean.head()"
      ]
    },
    {
      "cell_type": "markdown",
      "metadata": {
        "id": "NEM5H8nYeiRC"
      },
      "source": [
        "### 3. Adjust variable types: Numeric\n",
        "\n",
        "Some of the columns of the dataset were automatically understood by the computer to be categorical, due to missing data appearing like strings.\n",
        "\n",
        "Adjust the appropriate columns to be numeric.\n"
      ]
    },
    {
      "cell_type": "code",
      "execution_count": 6,
      "metadata": {
        "id": "cIOpSHCjeiRC"
      },
      "outputs": [],
      "source": [
        "colleges_clean['TUITIONFEE_IN'] = colleges_clean['TUITIONFEE_IN'].astype(float)\n",
        "\n",
        "colleges_clean['TUITIONFEE_OUT'] = colleges_clean['TUITIONFEE_OUT'].astype(float)\n",
        "\n",
        "colleges_clean['SAT_AVG'] = colleges_clean['SAT_AVG'].astype(float)\n",
        "\n",
        "colleges_clean['ADM_RATE'] = colleges_clean['ADM_RATE'].astype(float)"
      ]
    },
    {
      "cell_type": "markdown",
      "metadata": {
        "id": "zKH6226NeiRC"
      },
      "source": [
        "### 4. Adjust variable types: Categorical\n",
        "\n",
        "Similarly, columns of the dataset that are not numbers are automatically understood by the computer to be strings.\n",
        "\n",
        "We know, however, that some variables are truly *categorical*, in that there are only a few categories (or \"levels\") that can be values of the column.\n",
        "\n",
        "Adjust the appropriate columns to be understood as categorical.\n"
      ]
    },
    {
      "cell_type": "code",
      "execution_count": 44,
      "metadata": {
        "id": "TFBmCHMLeiRD"
      },
      "outputs": [],
      "source": [
        "colleges_clean['CONTROL']= colleges_clean['CONTROL'].astype('string')\n",
        "colleges_clean['REGION']= colleges_clean['REGION'].astype('string')"
      ]
    },
    {
      "cell_type": "markdown",
      "metadata": {
        "id": "ra03-sWbeiRD"
      },
      "source": [
        "#### 5. Calculate new variables\n",
        "\n",
        "Create a new variable called TUITION_DIFF which contains the difference between in and out of state costs.\n"
      ]
    },
    {
      "cell_type": "code",
      "execution_count": 45,
      "metadata": {
        "id": "i3gRwBgbeiRD"
      },
      "outputs": [],
      "source": [
        "colleges_clean['TUITION_DIFF'] = (colleges_clean['TUITIONFEE_OUT'] - colleges_clean['TUITIONFEE_IN'])"
      ]
    },
    {
      "cell_type": "markdown",
      "metadata": {
        "id": "aBNvuTWCeiRD"
      },
      "source": [
        "#### 6. Deal with missing data\n",
        "\n",
        "Drop all the rows with missing data.\n",
        "\n",
        "(It is often a terrible idea to simply drop all rows with *any* missing data!  Usually, even if *some* of the information is missing, we don't want to throw out the entire row.  In this example, however, we'll be lazy.)\n"
      ]
    },
    {
      "cell_type": "code",
      "execution_count": 46,
      "metadata": {
        "id": "520ghDYBeiRD"
      },
      "outputs": [],
      "source": [
        "colleges_clean = colleges_clean.dropna(axis = 0)"
      ]
    },
    {
      "cell_type": "markdown",
      "metadata": {
        "id": "HviEJnpPeiRD"
      },
      "source": [
        "## Part Two:  Identify the mystery college\n",
        "\n",
        "Wow!  Your best friend Ephelia has been accepted to the college of her dreams!  Unfortunately, Ephelia is a very mysterious person, and she won't tell you directly which college this is.  You'll have to use her clues to figure out which school is her dream school.\n",
        "\n",
        "Clues:\n",
        "\n",
        "1. This college is located in Region 1.\n",
        "\n",
        "2. This college's admission rate is in the first quartile for the region.\n",
        "\n",
        "3. This college charges the same for in- and out-of-state tuition.\n",
        "\n",
        "4. The average SAT score of this college is an odd number.\n",
        "\n",
        "5. This college is NOT in New Hampshire or in the city of Boston.\n",
        "\n",
        "6. More than 3,000 people apply to this college every year.  (Hint: Make a new variable to compute how many people apply.  Assume the size of an incoming class is 1/4 of the total undergraduate population, and remember that not everyone who *applies* is *admitted*.)\n",
        "\n",
        "7. Ephelia is not going to an Ivy League school.\n",
        "\n",
        "8. Of the two options remaining at this step, Ephelia will attend the cheaper one.\n"
      ]
    },
    {
      "cell_type": "code",
      "execution_count": 36,
      "metadata": {},
      "outputs": [],
      "source": [
        "college_backup = colleges_clean"
      ]
    },
    {
      "cell_type": "code",
      "execution_count": 47,
      "metadata": {},
      "outputs": [],
      "source": [
        "colleges_clean = colleges_clean[colleges_clean['REGION'] == '1']"
      ]
    },
    {
      "cell_type": "code",
      "execution_count": 48,
      "metadata": {},
      "outputs": [],
      "source": [
        "first_quartile = colleges_clean['ADM_RATE'].quantile(0.25)\n",
        "\n",
        "colleges_clean = colleges_clean[colleges_clean['ADM_RATE'] <= first_quartile]\n",
        "\n"
      ]
    },
    {
      "cell_type": "code",
      "execution_count": 49,
      "metadata": {},
      "outputs": [],
      "source": [
        "colleges_clean = colleges_clean[colleges_clean['TUITION_DIFF'] == 0]"
      ]
    },
    {
      "cell_type": "code",
      "execution_count": 50,
      "metadata": {},
      "outputs": [],
      "source": [
        "colleges_clean = colleges_clean[colleges_clean['SAT_AVG'] % 2 != 0]"
      ]
    },
    {
      "cell_type": "code",
      "execution_count": 51,
      "metadata": {},
      "outputs": [],
      "source": [
        "\n",
        "colleges_clean = colleges_clean[colleges_clean['CITY'] != 'Boston']\n"
      ]
    },
    {
      "cell_type": "code",
      "execution_count": 52,
      "metadata": {},
      "outputs": [],
      "source": [
        "colleges_clean = colleges_clean[colleges_clean['STABBR'] != 'NH']"
      ]
    },
    {
      "cell_type": "code",
      "execution_count": 53,
      "metadata": {},
      "outputs": [],
      "source": [
        "colleges_clean['incoming_class'] = colleges_clean['UGDS'] / 4"
      ]
    },
    {
      "cell_type": "code",
      "execution_count": 54,
      "metadata": {},
      "outputs": [],
      "source": [
        "colleges_clean['applied'] = colleges_clean['incoming_class'] / colleges_clean['ADM_RATE']"
      ]
    },
    {
      "cell_type": "code",
      "execution_count": 55,
      "metadata": {},
      "outputs": [],
      "source": [
        "colleges_clean = colleges_clean[colleges_clean['applied'] >= 3000]"
      ]
    },
    {
      "cell_type": "code",
      "execution_count": 56,
      "metadata": {},
      "outputs": [
        {
          "name": "stdout",
          "output_type": "stream",
          "text": [
            "                  INSTNM          CITY STABBR         ZIP CONTROL  ADM_RATE  \\\n",
            "1500     Amherst College       Amherst     MA  01002-5000       2    0.1290   \n",
            "1549  Harvard University     Cambridge     MA        2138       2    0.0516   \n",
            "1619    Williams College  Williamstown     MA        1267       2    0.1458   \n",
            "\n",
            "      SAT_AVG  TUITIONFEE_IN  TUITIONFEE_OUT    UGDS REGION  TUITION_DIFF  \\\n",
            "1500   1497.0        54310.0         54310.0  1835.0      1           0.0   \n",
            "1549   1523.0        48949.0         48949.0  7532.0      1           0.0   \n",
            "1619   1493.0        53550.0         53550.0  2033.0      1           0.0   \n",
            "\n",
            "      incoming_class       applied  \n",
            "1500          458.75   3556.201550  \n",
            "1549         1883.00  36492.248062  \n",
            "1619          508.25   3485.939643  \n"
          ]
        }
      ],
      "source": [
        "print(colleges_clean)"
      ]
    },
    {
      "cell_type": "code",
      "execution_count": 57,
      "metadata": {},
      "outputs": [],
      "source": [
        "colleges_clean = colleges_clean[colleges_clean['INSTNM'] != 'Harvard University']"
      ]
    },
    {
      "cell_type": "code",
      "execution_count": null,
      "metadata": {},
      "outputs": [],
      "source": [
        "print(colleges_clean)"
      ]
    },
    {
      "cell_type": "markdown",
      "metadata": {},
      "source": [
        "Williams College"
      ]
    }
  ],
  "metadata": {
    "colab": {
      "provenance": []
    },
    "kernelspec": {
      "display_name": "Python 3",
      "language": "python",
      "name": "python3"
    },
    "language_info": {
      "codemirror_mode": {
        "name": "ipython",
        "version": 3
      },
      "file_extension": ".py",
      "mimetype": "text/x-python",
      "name": "python",
      "nbconvert_exporter": "python",
      "pygments_lexer": "ipython3",
      "version": "3.12.5"
    }
  },
  "nbformat": 4,
  "nbformat_minor": 0
}
