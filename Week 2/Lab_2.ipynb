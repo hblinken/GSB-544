{
 "cells": [
  {
   "cell_type": "markdown",
   "metadata": {},
   "source": [
    "---\n",
    "title: 'Lab 2'\n",
    "author: \"Hunter Blinkenberg\"\n",
    "embed-resources: true\n",
    "format: \n",
    "    html:\n",
    "        toc: true\n",
    "        code-fold: true\n",
    "        theme: cosmo\n",
    "        echo: true\n",
    "---"
   ]
  },
  {
   "cell_type": "code",
   "execution_count": 2,
   "metadata": {},
   "outputs": [],
   "source": [
    "import pandas as pd"
   ]
  },
  {
   "cell_type": "code",
   "execution_count": 8,
   "metadata": {},
   "outputs": [],
   "source": [
    "avocados = pd.read_csv(\"C:/Users/hblin/OneDrive - Cal Poly/GSB 544/Week 2/avocado-updated-2020.csv\")"
   ]
  },
  {
   "cell_type": "markdown",
   "metadata": {},
   "source": [
    "1. This dataset is from the Hass Avocado Board (HAB). It describes historical data on avocado prices, and sales volume in cities, states, and regions of the USA. The data spans the years 2015-2020.\n",
    "\n",
    "The variables and their desriptions are as follows:\n",
    "\n",
    "Date - The date of the observation\n",
    "\n",
    "AveragePrice - the average price of a single avocado\n",
    "\n",
    "type - conventional or organic\n",
    "\n",
    "year - the year\n",
    "\n",
    "Region - the city or region of the observation\n",
    "\n",
    "Total Volume - Total number of avocados sold\n",
    "\n",
    "4046 - Total number of avocados with PLU 4046 sold (small/medium avocados)\n",
    "\n",
    "4225 - Total number of avocados with PLU 4225 sold (large avocados)\n",
    "\n",
    "4770 - Total number of avocados with PLU 4770 sold (x-large avocados)\n",
    "\n",
    "small_bags - Total number of small bags sold\n",
    "\n",
    "large_bags - Total number of large bags sold\n",
    "\n",
    "xlarge_bags - Total number of xlarge bags sold"
   ]
  },
  {
   "cell_type": "code",
   "execution_count": 7,
   "metadata": {},
   "outputs": [],
   "source": [
    "#renaming PLU size\n",
    "avocados_clean = avocados.rename(columns={'4046': 'small'})\n",
    "\n",
    "avocados_clean = avocados.rename(columns={'4225': 'large'})\n",
    "\n",
    "avocados_clean = avocados.rename(columns={'4770': 'xlarge'})"
   ]
  },
  {
   "cell_type": "code",
   "execution_count": 6,
   "metadata": {},
   "outputs": [
    {
     "name": "stdout",
     "output_type": "stream",
     "text": [
      "['Albany' 'Atlanta' 'Baltimore/Washington' 'Boise' 'Boston'\n",
      " 'Buffalo/Rochester' 'California' 'Charlotte' 'Chicago'\n",
      " 'Cincinnati/Dayton' 'Columbus' 'Dallas/Ft. Worth' 'Denver' 'Detroit'\n",
      " 'Grand Rapids' 'Great Lakes' 'Harrisburg/Scranton' 'Hartford/Springfield'\n",
      " 'Houston' 'Indianapolis' 'Jacksonville' 'Las Vegas' 'Los Angeles'\n",
      " 'Louisville' 'Miami/Ft. Lauderdale' 'Midsouth' 'Nashville'\n",
      " 'New Orleans/Mobile' 'New York' 'Northeast' 'Northern New England'\n",
      " 'Orlando' 'Philadelphia' 'Phoenix/Tucson' 'Pittsburgh' 'Plains'\n",
      " 'Portland' 'Raleigh/Greensboro' 'Richmond/Norfolk' 'Roanoke' 'Sacramento'\n",
      " 'San Diego' 'San Francisco' 'Seattle' 'South Carolina' 'South Central'\n",
      " 'Southeast' 'Spokane' 'St. Louis' 'Syracuse' 'Tampa' 'Total U.S.' 'West'\n",
      " 'West Tex/New Mexico']\n"
     ]
    }
   ],
   "source": [
    "#finding unique values in geography variable\n",
    "unique_values = avocados['geography'].unique()\n",
    "print(unique_values)"
   ]
  },
  {
   "cell_type": "code",
   "execution_count": 9,
   "metadata": {},
   "outputs": [],
   "source": [
    "#creating the region variable \n",
    "# Create a dictionary to map cities to regions\n",
    "region_mapping = {\n",
    "    'Albany': 'Northeast', 'Atlanta': 'South', 'Baltimore/Washington': 'South',\n",
    "    'Boise': 'West', 'Boston': 'Northeast', 'Buffalo/Rochester': 'Northeast',\n",
    "    'California': 'West', 'Charlotte': 'South', 'Chicago': 'Midwest',\n",
    "    'Cincinnati/Dayton': 'Midwest', 'Columbus': 'Midwest', 'Dallas/Ft. Worth': 'South',\n",
    "    'Denver': 'West', 'Detroit': 'Midwest', 'Grand Rapids': 'Midwest',\n",
    "    'Great Lakes': 'Midwest', 'Harrisburg/Scranton': 'Northeast',\n",
    "    'Hartford/Springfield': 'Northeast', 'Houston': 'South', 'Indianapolis': 'Midwest',\n",
    "    'Jacksonville': 'South', 'Las Vegas': 'West', 'Los Angeles': 'West',\n",
    "    'Louisville': 'Midwest', 'Miami/Ft. Lauderdale': 'South', 'Midsouth': 'South',\n",
    "    'Nashville': 'South', 'New Orleans/Mobile': 'South', 'New York': 'Northeast',\n",
    "    'Northeast': 'Northeast', 'Northern New England': 'Northeast', 'Orlando': 'South',\n",
    "    'Philadelphia': 'Northeast', 'Phoenix/Tucson': 'West', 'Pittsburgh': 'Midwest',\n",
    "    'Plains': 'Midwest', 'Portland': 'West', 'Raleigh/Greensboro': 'South',\n",
    "    'Richmond/Norfolk': 'South', 'Roanoke': 'South', 'Sacramento': 'West',\n",
    "    'San Diego': 'West', 'San Francisco': 'West', 'Seattle': 'West',\n",
    "    'South Carolina': 'South', 'South Central': 'South', 'Southeast': 'South',\n",
    "    'Spokane': 'West', 'St. Louis': 'Midwest', 'Syracuse': 'Northeast',\n",
    "    'Tampa': 'South', 'Total U.S.': 'Other', 'West': 'West', 'West Tex/New Mexico': 'West'\n",
    "}\n",
    "\n",
    "# Create a new column 'Region' based on the 'geography' column\n",
    "avocados_clean['Region'] = avocados_clean['geography'].map(region_mapping)\n"
   ]
  },
  {
   "cell_type": "markdown",
   "metadata": {},
   "source": [
    "3. See code below. Technically \"Other\" aka the total US was first, but the specific major region that sold the most organic small hass avocados in 2017 was the West."
   ]
  },
  {
   "cell_type": "code",
   "execution_count": 16,
   "metadata": {},
   "outputs": [],
   "source": [
    "#separating date variable \n",
    "avocados_clean['date'] = pd.to_datetime(avocados_clean['date'])\n",
    "\n",
    "avocados_clean['year'] = avocados_clean['date'].dt.year\n",
    "avocados_clean['month'] = avocados_clean['date'].dt.month\n",
    "avocados_clean['day'] = avocados_clean['date'].dt.day"
   ]
  },
  {
   "cell_type": "code",
   "execution_count": 24,
   "metadata": {},
   "outputs": [
    {
     "name": "stdout",
     "output_type": "stream",
     "text": [
      "Region\n",
      "Other        6882024.42\n",
      "West         5826061.33\n",
      "South        3405183.34\n",
      "Northeast    1730562.32\n",
      "Midwest       561471.13\n",
      "Name: small, dtype: float64\n"
     ]
    }
   ],
   "source": [
    "region_sales_organic2017 = avocados_clean[(avocados_clean['type'] == 'organic') & (avocados_clean['year'] == 2017)].groupby('Region')['small'].sum().sort_values(ascending=False)\n",
    "\n",
    "print(region_sales_organic2017)"
   ]
  },
  {
   "cell_type": "markdown",
   "metadata": {},
   "source": []
  },
  {
   "cell_type": "code",
   "execution_count": 22,
   "metadata": {},
   "outputs": [
    {
     "name": "stdout",
     "output_type": "stream",
     "text": [
      "5\n"
     ]
    }
   ],
   "source": [
    "avg_month_sales = avocados_clean.groupby('month')['total_volume'].mean().sort_values(ascending=False)\n",
    "highest_avg_month = avg_month_sales.idxmax()\n",
    "print(highest_avg_month)"
   ]
  }
 ],
 "metadata": {
  "kernelspec": {
   "display_name": "Python 3",
   "language": "python",
   "name": "python3"
  },
  "language_info": {
   "codemirror_mode": {
    "name": "ipython",
    "version": 3
   },
   "file_extension": ".py",
   "mimetype": "text/x-python",
   "name": "python",
   "nbconvert_exporter": "python",
   "pygments_lexer": "ipython3",
   "version": "3.12.5"
  }
 },
 "nbformat": 4,
 "nbformat_minor": 2
}
