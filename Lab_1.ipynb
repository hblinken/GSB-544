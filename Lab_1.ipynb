{
 "cells": [
  {
   "cell_type": "markdown",
   "metadata": {},
   "source": [
    "---\n",
    "title: 'Lab 1'\n",
    "author: \"Hunter Blinkenberg\"\n",
    "format: \n",
    "    html:\n",
    "        toc: true\n",
    "        code-fold: true\n",
    "        theme: vapor\n",
    "---"
   ]
  },
  {
   "cell_type": "markdown",
   "metadata": {},
   "source": [
    "###Section 1\n"
   ]
  },
  {
   "cell_type": "code",
   "execution_count": 2,
   "metadata": {},
   "outputs": [],
   "source": [
    "import pandas as pd"
   ]
  },
  {
   "cell_type": "code",
   "execution_count": 4,
   "metadata": {},
   "outputs": [
    {
     "name": "stdout",
     "output_type": "stream",
     "text": [
      "    income  life_exp  population  year      country four_regions  \\\n",
      "0   1910.0      61.0  29200000.0  2010  Afghanistan         asia   \n",
      "1  11100.0      78.1   2950000.0  2010      Albania       europe   \n",
      "2  11100.0      74.7  36000000.0  2010      Algeria       africa   \n",
      "3  46900.0      81.9     84500.0  2010      Andorra       europe   \n",
      "4   7680.0      60.8  23400000.0  2010       Angola       africa   \n",
      "\n",
      "                six_regions       eight_regions           world_bank_region  \n",
      "0                south_asia           asia_west                  South Asia  \n",
      "1       europe_central_asia         europe_east       Europe & Central Asia  \n",
      "2  middle_east_north_africa        africa_north  Middle East & North Africa  \n",
      "3       europe_central_asia         europe_west       Europe & Central Asia  \n",
      "4        sub_saharan_africa  africa_sub_saharan          Sub-Saharan Africa  \n"
     ]
    }
   ],
   "source": [
    "q1_data = pd.read_csv(\"C:/Users/hblin/OneDrive - Cal Poly/GSB 544/q1data.csv\")\n",
    "\n",
    "print(q1_data.head())"
   ]
  },
  {
   "cell_type": "code",
   "execution_count": 6,
   "metadata": {},
   "outputs": [],
   "source": [
    "q2_data = pd.read_csv(\"C:/Users/hblin/OneDrive - Cal Poly/GSB 544/q2data.csv\")"
   ]
  },
  {
   "cell_type": "code",
   "execution_count": 7,
   "metadata": {},
   "outputs": [],
   "source": [
    "q3_data = pd.read_csv(\"C:/Users/hblin/OneDrive - Cal Poly/GSB 544/q3data.csv\")"
   ]
  }
 ],
 "metadata": {
  "kernelspec": {
   "display_name": "Python 3",
   "language": "python",
   "name": "python3"
  },
  "language_info": {
   "codemirror_mode": {
    "name": "ipython",
    "version": 3
   },
   "file_extension": ".py",
   "mimetype": "text/x-python",
   "name": "python",
   "nbconvert_exporter": "python",
   "pygments_lexer": "ipython3",
   "version": "3.12.5"
  }
 },
 "nbformat": 4,
 "nbformat_minor": 2
}
