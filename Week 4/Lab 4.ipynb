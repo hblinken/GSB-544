{
 "cells": [
  {
   "cell_type": "markdown",
   "metadata": {},
   "source": [
    "---\n",
    "title: 'Lab 4'\n",
    "author: \"Hunter Blinkenberg\"\n",
    "embed-resources: true\n",
    "format: \n",
    "    html:\n",
    "        toc: true\n",
    "        code-fold: true\n",
    "        theme: cosmo\n",
    "        echo: true\n",
    "---"
   ]
  },
  {
   "cell_type": "code",
   "execution_count": 1,
   "metadata": {},
   "outputs": [],
   "source": [
    "import pandas as pd\n",
    "import numpy as np\n",
    "import requests \n",
    "from bs4 import BeautifulSoup"
   ]
  },
  {
   "cell_type": "code",
   "execution_count": 6,
   "metadata": {},
   "outputs": [],
   "source": [
    "starbucks = requests.get(\"https://worldpopulationreview.com/state-rankings/starbucks-stores-by-state\")\n",
    "\n",
    "starbs = BeautifulSoup(starbucks.content, \"html.parser\")\n",
    "\n",
    "dunkin = requests.get(\"https://worldpopulationreview.com/state-rankings/dunkin-donuts-by-state\")\n",
    "\n",
    "dunkind = BeautifulSoup(dunkin.content, \"html.parser\")"
   ]
  },
  {
   "cell_type": "code",
   "execution_count": 7,
   "metadata": {},
   "outputs": [
    {
     "data": {
      "text/plain": [
       "1"
      ]
     },
     "execution_count": 7,
     "metadata": {},
     "output_type": "execute_result"
    }
   ],
   "source": [
    "len(starbs.find_all(\"table\",\n",
    "                  attrs={\n",
    "                      \"class\": \"wpr-table\",\n",
    "                      #\"style\": \"text-align:right\"\n",
    "                      }\n",
    "                  ))"
   ]
  },
  {
   "cell_type": "code",
   "execution_count": 16,
   "metadata": {},
   "outputs": [
    {
     "name": "stdout",
     "output_type": "stream",
     "text": [
      "{'State': 'California', '2023': '1,346', '2021': '844', '2024': '741'}\n"
     ]
    }
   ],
   "source": [
    "rows = []\n",
    "\n",
    "# iterate over all rows in the table, skipping the first row (header row)\n",
    "for row in starbs.find_all(\"tbody\")[0:]:\n",
    "    \n",
    "    # Get all the cells (<td>) in the current row.\n",
    "    cells = row.find_all(\"tr\")\n",
    "\n",
    "    # Make sure there are enough cells in the row (to avoid IndexError)\n",
    "    if len(cells) >= 4:\n",
    "        # Find the name of the city in cell[0], looking for a link (<a>) or just the text in the <td>.\n",
    "        state_tag = cells[0].find(\"a\") or cells[0]\n",
    "        state = state_tag.get_text(strip=True)\n",
    "\n",
    "        # Find the state in cell[1]\n",
    "        s2023_tag = cells[1].find(\"td\") or cells[1]\n",
    "        s2023 = s2023_tag.get_text(strip=True)\n",
    "\n",
    "        # Find the population in cell[3]\n",
    "        s2021_tag = cells[2].find(\"td\") or cells[2]\n",
    "        s2021 = s2021_tag.get_text(strip=True)\n",
    "\n",
    "        # Find the land area in cell[2] (make sure you access the right cell index)\n",
    "        s2024_tag = cells[3].find(\"td\") or cells[3]\n",
    "        s2024 = s2024_tag.get_text(strip=True)\n",
    "\n",
    "        # Append this data to the rows list.\n",
    "        rows.append({\n",
    "            \"State\": state,\n",
    "            \"2023\": s2023,\n",
    "            \"2021\": s2021,\n",
    "            \"2024\": s2024\n",
    "        })\n",
    "\n",
    "# Output the extracted data (for example, print the first 5 rows)\n",
    "for row in rows[:5]:\n",
    "    print(row)"
   ]
  }
 ],
 "metadata": {
  "kernelspec": {
   "display_name": "Python 3",
   "language": "python",
   "name": "python3"
  },
  "language_info": {
   "codemirror_mode": {
    "name": "ipython",
    "version": 3
   },
   "file_extension": ".py",
   "mimetype": "text/x-python",
   "name": "python",
   "nbconvert_exporter": "python",
   "pygments_lexer": "ipython3",
   "version": "3.12.5"
  }
 },
 "nbformat": 4,
 "nbformat_minor": 2
}
