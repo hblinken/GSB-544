{
 "cells": [
  {
   "cell_type": "markdown",
   "metadata": {},
   "source": [
    "# Midterm Prep"
   ]
  },
  {
   "cell_type": "code",
   "execution_count": 8,
   "metadata": {},
   "outputs": [],
   "source": [
    "import pandas as pd\n",
    "import numpy as np \n",
    "\n",
    "trails = pd.read_csv(\"C:/Users/hblin/OneDrive - Cal Poly/GSB 544/Week 5/national_park_trails.csv\")"
   ]
  },
  {
   "cell_type": "code",
   "execution_count": 9,
   "metadata": {},
   "outputs": [],
   "source": [
    "ca = trails[trails['state_name'] == 'California']"
   ]
  },
  {
   "cell_type": "code",
   "execution_count": 11,
   "metadata": {},
   "outputs": [
    {
     "name": "stderr",
     "output_type": "stream",
     "text": [
      "C:\\Users\\hblin\\AppData\\Local\\Temp\\ipykernel_82496\\2975731207.py:2: SettingWithCopyWarning: \n",
      "A value is trying to be set on a copy of a slice from a DataFrame.\n",
      "Try using .loc[row_indexer,col_indexer] = value instead\n",
      "\n",
      "See the caveats in the documentation: https://pandas.pydata.org/pandas-docs/stable/user_guide/indexing.html#returning-a-view-versus-a-copy\n",
      "  ca['ez_trail'] = False  # Initialize the entire column as False\n"
     ]
    }
   ],
   "source": [
    "# Correct assignment\n",
    "ca['ez_trail'] = False  # Initialize the entire column as False\n",
    "\n",
    "# Use .loc to set True for rows that meet the conditions\n",
    "ca.loc[(ca['elevation_gain'] < 500) & (ca['length'] < 5000) & (ca['difficulty_rating'] < 4), 'ez_trail'] = True\n"
   ]
  },
  {
   "cell_type": "code",
   "execution_count": 14,
   "metadata": {},
   "outputs": [],
   "source": [
    "import re\n",
    "def find_land(text):\n",
    "    return re.findall(\"[Ll]and\", str(text))\n",
    "\n",
    "trails[\"land_present\"] = trails[\"area_name\"].apply(lambda x: find_land(x))\n"
   ]
  },
  {
   "cell_type": "code",
   "execution_count": 16,
   "metadata": {},
   "outputs": [
    {
     "data": {
      "text/plain": [
       "109"
      ]
     },
     "execution_count": 16,
     "metadata": {},
     "output_type": "execute_result"
    }
   ],
   "source": [
    "trails['land_present'] = trails['land_present'].astype(bool)\n",
    "sum(trails['land_present'])\n"
   ]
  }
 ],
 "metadata": {
  "kernelspec": {
   "display_name": "Python 3",
   "language": "python",
   "name": "python3"
  },
  "language_info": {
   "codemirror_mode": {
    "name": "ipython",
    "version": 3
   },
   "file_extension": ".py",
   "mimetype": "text/x-python",
   "name": "python",
   "nbconvert_exporter": "python",
   "pygments_lexer": "ipython3",
   "version": "3.12.5"
  }
 },
 "nbformat": 4,
 "nbformat_minor": 2
}
