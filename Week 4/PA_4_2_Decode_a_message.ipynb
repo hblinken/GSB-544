{
  "cells": [
    {
      "cell_type": "markdown",
      "metadata": {
        "id": "kPj76X_FP2uq"
      },
      "source": [
        "## Setup\n",
        "\n",
        "Run the code below to load the scrambled message:\n"
      ]
    },
    {
      "cell_type": "code",
      "execution_count": 1,
      "metadata": {
        "id": "YwkYMR2qP2ur"
      },
      "outputs": [],
      "source": [
        "import pandas as pd\n",
        "\n",
        "message = pd.read_csv(\"https://www.dropbox.com/s/lgpn3vmksk3ssdo/scrambled_message.txt?dl=1\")['Word']"
      ]
    },
    {
      "cell_type": "code",
      "execution_count": 2,
      "metadata": {},
      "outputs": [],
      "source": [
        "import re"
      ]
    },
    {
      "cell_type": "code",
      "execution_count": 3,
      "metadata": {
        "colab": {
          "base_uri": "https://localhost:8080/"
        },
        "id": "rqykaCOxF1Z9",
        "outputId": "78651d97-c46b-4c24-b5e9-f67ae6a0ea1c"
      },
      "outputs": [],
      "source": [
        "message = message.to_frame()"
      ]
    },
    {
      "cell_type": "markdown",
      "metadata": {
        "id": "cI8ZE3LAP2us"
      },
      "source": [
        "In this activity, a \"word\" refers to any set of characters with no white space, even though they are not truly an English word.  That is, even though many of elements of the scrambled message vector are nonsense, and some have punctuation, you can consider each element to be a \"word\".\n",
        "\n",
        "Beware!  The object named `message` is a **pandas Series** of strings.  If you want to use functions that expect a string, rather than a series, remember `.apply()` and `lambda` functions.\n",
        "\n"
      ]
    },
    {
      "cell_type": "markdown",
      "metadata": {
        "id": "dYISAD8uQLAy"
      },
      "source": [
        "\n",
        "## Warm-up exercises\n",
        "\n",
        "1. How many characters are in the scrambled message?\n",
        "2. How many of these characters are white space?\n",
        "3. How many words are in the scrambled message?\n",
        "4. Show all the punctuation marks in the scrambled message.\n",
        "5. Print out, in all capitals, the longest word in the scrambled message.\n",
        "6. Print out every piece of a word that starts with the letter \"m\" and ends with the letter \"z\" in the scrambled message."
      ]
    },
    {
      "cell_type": "code",
      "execution_count": 4,
      "metadata": {},
      "outputs": [
        {
          "name": "stdout",
          "output_type": "stream",
          "text": [
            "Index(['Word'], dtype='object')\n"
          ]
        }
      ],
      "source": [
        "print(message.columns)\n"
      ]
    },
    {
      "cell_type": "code",
      "execution_count": 5,
      "metadata": {
        "id": "6vB1tbjiQNvE"
      },
      "outputs": [],
      "source": [
        "#1\n",
        "\n",
        "# Define the function to count characters based on a regex pattern\n",
        "def count_chars(text, pattern=r\".\"):\n",
        "    return len(re.findall(pattern, text))\n",
        "\n",
        "# Apply the function to the DataFrame column 'Word' and create a new column 'char_count_all'\n",
        "message['char_count_all'] = message['Word'].apply(lambda x: count_chars(x, r\".\"))\n",
        "\n",
        "# 20 characters in each cell, so 20 * 127 = 2540 characters in total.\n"
      ]
    },
    {
      "cell_type": "code",
      "execution_count": 6,
      "metadata": {},
      "outputs": [],
      "source": [
        "message['char_count_no_spaces'] = message['Word'].apply(lambda x: count_chars(x, r\"\\S\"))\n"
      ]
    },
    {
      "cell_type": "code",
      "execution_count": 7,
      "metadata": {},
      "outputs": [
        {
          "name": "stdout",
          "output_type": "stream",
          "text": [
            "1652\n"
          ]
        }
      ],
      "source": [
        "message[\"char_dif\"] = message['char_count_all'] - message['char_count_no_spaces']\n",
        "print(message['char_dif'].sum())\n",
        "\n",
        "# 1652 out of 2540 characters are white space\n",
        "# 127 words in the scrambled message."
      ]
    },
    {
      "cell_type": "code",
      "execution_count": 8,
      "metadata": {},
      "outputs": [
        {
          "name": "stdout",
          "output_type": "stream",
          "text": [
            "0         [!]\n",
            "1          []\n",
            "2         [,]\n",
            "3          []\n",
            "4          []\n",
            "        ...  \n",
            "122        []\n",
            "123       [.]\n",
            "124       [?]\n",
            "125    [., !]\n",
            "126       [.]\n",
            "Name: punctuation, Length: 127, dtype: object\n"
          ]
        }
      ],
      "source": [
        "def find_punctuation(text):\n",
        "    return re.findall(r\"[^\\w\\s]\", str(text))\n",
        "\n",
        "message['punctuation'] = message['Word'].apply(lambda x: find_punctuation(x))\n",
        "\n",
        "print(message['punctuation'])"
      ]
    },
    {
      "cell_type": "code",
      "execution_count": 9,
      "metadata": {},
      "outputs": [
        {
          "name": "stdout",
          "output_type": "stream",
          "text": [
            "KAUDEVILLIANUGH?AOGHAJDBN\n"
          ]
        }
      ],
      "source": [
        "longest_string = message.loc[message['Word'].str.len().idxmax(), 'Word']\n",
        "print(longest_string.upper())"
      ]
    },
    {
      "cell_type": "code",
      "execution_count": 10,
      "metadata": {},
      "outputs": [
        {
          "name": "stdout",
          "output_type": "stream",
          "text": [
            "['mosz' 'maaz']\n"
          ]
        }
      ],
      "source": [
        "pattern = r'm.*?z'\n",
        "mz = (message['Word'].str.findall(pattern))\n",
        "matching_words = mz.explode().dropna().unique()\n",
        "print(matching_words)"
      ]
    },
    {
      "cell_type": "markdown",
      "metadata": {
        "id": "l3iJnnCJQOh7"
      },
      "source": [
        "\n",
        "\n",
        "## Decode a message\n",
        "\n",
        "Complete the following steps to decode the message.  \n",
        "\n",
        "1. Remove any spaces before or after each word.\n",
        "2. Any time you see the word \"ugh\", with any number of h's, followed by a punctuation mark, delete this.\n",
        "3. No word should be longer than 16 characters. Drop all extra characters beyond 13 off the end of each word.\n",
        "4. Replace all instances of exactly 2 a's with exactly 2 e's.\n",
        "5. Replace all z's with t's.\n",
        "6. Every word that ends in b, change that to a y.  *Hint: look out for punctuation!*\n",
        "7. Every word that starts with k, change that to a v.  *Hint: look out for capitalization!*\n",
        "8. Use `.join()` to recombine all your words into a message.\n",
        "9. Find the movie this quote is from."
      ]
    },
    {
      "cell_type": "code",
      "execution_count": 11,
      "metadata": {
        "id": "RRfjUzxMQQ5j"
      },
      "outputs": [],
      "source": [
        "message[\"Word\"] = message[\"Word\"].str.strip()"
      ]
    },
    {
      "cell_type": "code",
      "execution_count": 12,
      "metadata": {},
      "outputs": [],
      "source": [
        "message[\"Word\"] = message[\"Word\"].str.replace(r\"ugh+h*[^\\w\\s]?\", \"\", regex=True)"
      ]
    },
    {
      "cell_type": "code",
      "execution_count": 13,
      "metadata": {},
      "outputs": [],
      "source": [
        "message[\"Word\"] = message[\"Word\"].str[: 13]"
      ]
    },
    {
      "cell_type": "code",
      "execution_count": 14,
      "metadata": {},
      "outputs": [],
      "source": [
        "message[\"Word\"] = message[\"Word\"].str.replace(r\"aa\", \"ee\", regex=True)"
      ]
    },
    {
      "cell_type": "code",
      "execution_count": 15,
      "metadata": {},
      "outputs": [],
      "source": [
        "message[\"Word\"] = message[\"Word\"].str.replace(r\"z\", \"t\", regex=True)"
      ]
    },
    {
      "cell_type": "code",
      "execution_count": 16,
      "metadata": {},
      "outputs": [],
      "source": [
        "message[\"Word\"] = message[\"Word\"].str.replace(r'b[!.,?]*$', 'y', regex=True)"
      ]
    },
    {
      "cell_type": "code",
      "execution_count": 17,
      "metadata": {},
      "outputs": [],
      "source": [
        "message[\"Word\"] = message[\"Word\"].str.replace(r'k', 'v', regex=True)"
      ]
    },
    {
      "cell_type": "code",
      "execution_count": 18,
      "metadata": {},
      "outputs": [],
      "source": [
        "def replace_k_with_v(word):\n",
        "    if re.match(r'^[Kk]', word):  # Check if the word starts with 'K' or 'k'\n",
        "        # Replace with 'v' or 'V' based on original capitalization\n",
        "        return 'V' + word[1:] if word[0].isupper() else 'v' + word[1:]\n",
        "    return word\n",
        "message[\"Word\"] = message[\"Word\"].apply(replace_k_with_v)"
      ]
    },
    {
      "cell_type": "code",
      "execution_count": 19,
      "metadata": {},
      "outputs": [
        {
          "name": "stdout",
          "output_type": "stream",
          "text": [
            "Voila! In view, a humble vaudevilliana veteran, cast vicariously as both victim and villain by the vicissitudes of fate. This visage, no mere veneer of vanity, is a vestige of the vox populi now vacant, vanished. However, this valorous visitation of a bygone vexation stands vivified, and has vowed to vanquish these venal and virulent vermin, van guarding vice and vouchsafing the violently vicious and voracious violation of volition. The only verdict is vengeance; a vendetta, held as a votive not in vain, for the value and veracity of such shall one day vindicate the vigilant and the virtuous. Verily this vichyssoise of verbiage veers most verbose, so let me simply add that its my very good honour to meet you and you may call me V.\n"
          ]
        }
      ],
      "source": [
        "quote = ' '.join(message[\"Word\"])\n",
        "print(quote)"
      ]
    }
  ],
  "metadata": {
    "colab": {
      "provenance": []
    },
    "kernelspec": {
      "display_name": "Python 3",
      "language": "python",
      "name": "python3"
    },
    "language_info": {
      "codemirror_mode": {
        "name": "ipython",
        "version": 3
      },
      "file_extension": ".py",
      "mimetype": "text/x-python",
      "name": "python",
      "nbconvert_exporter": "python",
      "pygments_lexer": "ipython3",
      "version": "3.12.5"
    }
  },
  "nbformat": 4,
  "nbformat_minor": 0
}
