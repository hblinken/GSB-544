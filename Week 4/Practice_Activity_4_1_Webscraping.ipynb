{
  "cells": [
    {
      "cell_type": "markdown",
      "metadata": {
        "id": "qrJX4FDa8oA8"
      },
      "source": [
        "# XML, HTML, and Web Scraping\n",
        "\n",
        "JSON and XML are two different ways to represent hierarchical data. Which one is better? There are lots of articles online which discuss similarities and differences between JSON and XML and their advantages and disadvantages. Both formats are still in current usage, so it is good to be familiar with both. However, JSON is more common, so we'll focus on working with JSON representations of hierarchical data.\n",
        "\n",
        "The reading covered an example of using Beautiful Soup to parse XML. Rather than doing another example XML now, we'll skip straight to scraping HTML from a webpage. Both HTML and XML can be parsed in a similar way with Beautiful Soup."
      ]
    },
    {
      "cell_type": "code",
      "execution_count": 1,
      "metadata": {
        "id": "XZhT8jhbuZSg"
      },
      "outputs": [],
      "source": [
        "import pandas as pd"
      ]
    },
    {
      "cell_type": "markdown",
      "metadata": {
        "id": "ApqnMQ4iV4qu"
      },
      "source": [
        "## Scraping an HTML table with Beautiful Soup"
      ]
    },
    {
      "cell_type": "markdown",
      "metadata": {
        "id": "9SD7XOs_So3G"
      },
      "source": [
        "Open the URL https://en.wikipedia.org/wiki/List_of_United_States_cities_by_population and scroll down until you see a table of the cities in the U.S. with population over 100,000 (as of Jul 1, 2022). We'll use Beautiful Soup to scrape information from this table."
      ]
    },
    {
      "cell_type": "markdown",
      "metadata": {
        "id": "HRmnzgaQS_T0"
      },
      "source": [
        "Read in the HTML from the ULR using the `requests` library."
      ]
    },
    {
      "cell_type": "code",
      "execution_count": 2,
      "metadata": {
        "id": "xvYzbSospYVu"
      },
      "outputs": [],
      "source": [
        "import requests\n",
        "\n",
        "response = requests.get(\"https://en.wikipedia.org/wiki/List_of_United_States_cities_by_population\")\n",
        "\n"
      ]
    },
    {
      "cell_type": "markdown",
      "metadata": {
        "id": "YJ1Swg6B82_J"
      },
      "source": [
        "Use Beautiful Soup to parse this string into a tree called `soup`"
      ]
    },
    {
      "cell_type": "code",
      "execution_count": 3,
      "metadata": {
        "id": "e0jpmfwtpaEB"
      },
      "outputs": [],
      "source": [
        "from bs4 import BeautifulSoup\n",
        "soup = BeautifulSoup(response.content, \"html.parser\")\n",
        "\n"
      ]
    },
    {
      "cell_type": "markdown",
      "metadata": {
        "id": "lFxGW_KIDjnx"
      },
      "source": [
        "To find an HTML tag corresponding to a specific element on a webpage, right-click on it and choose \"Inspect element\". Go to the cities table Wikipedia page and do this now.\n",
        "\n",
        "You should find that the cities table on the Wikipedia page corresponds to the element\n",
        "\n",
        "```\n",
        "<table class=\"wikitable sortable jquery-tablesorter\" style=\"text-align:center\">\n",
        "```"
      ]
    },
    {
      "cell_type": "markdown",
      "metadata": {
        "id": "DR50aTBZEwov"
      },
      "source": [
        "There are many `<table>` tags on the page."
      ]
    },
    {
      "cell_type": "code",
      "execution_count": 4,
      "metadata": {
        "id": "4691d-EGEwc0"
      },
      "outputs": [
        {
          "data": {
            "text/plain": [
              "10"
            ]
          },
          "execution_count": 4,
          "metadata": {},
          "output_type": "execute_result"
        }
      ],
      "source": [
        "len(soup.find_all(\"table\"))"
      ]
    },
    {
      "cell_type": "markdown",
      "metadata": {
        "id": "H1xslM2yE1GI"
      },
      "source": [
        "We can use attributes like `class=` and `style=` to narrow down the list."
      ]
    },
    {
      "cell_type": "code",
      "execution_count": 5,
      "metadata": {},
      "outputs": [
        {
          "data": {
            "text/plain": [
              "0"
            ]
          },
          "execution_count": 5,
          "metadata": {},
          "output_type": "execute_result"
        }
      ],
      "source": [
        "len(soup.find_all(\"table\",\n",
        "                  attrs={\n",
        "                      \"class\": \"wikitable sortable\",\n",
        "                      \"style\": \"text-align:center\"}\n",
        "                  ))"
      ]
    },
    {
      "cell_type": "code",
      "execution_count": 6,
      "metadata": {
        "id": "E0Q0sa46DvTZ"
      },
      "outputs": [
        {
          "data": {
            "text/plain": [
              "3"
            ]
          },
          "execution_count": 6,
          "metadata": {},
          "output_type": "execute_result"
        }
      ],
      "source": [
        "len(soup.find_all(\"table\",\n",
        "                  attrs={\n",
        "                      \"class\": \"wikitable\",\n",
        "                      \"style\": \"text-align:right\"}\n",
        "                  ))"
      ]
    },
    {
      "cell_type": "markdown",
      "metadata": {
        "id": "ndnRSJJiFFby"
      },
      "source": [
        "At this point, you can manually inspect the tables on the webpage to find that the one we want is the first one (see `[0]` below). We'll store this as `table`."
      ]
    },
    {
      "cell_type": "code",
      "execution_count": 7,
      "metadata": {
        "id": "sRBSqVGlYhuT"
      },
      "outputs": [],
      "source": [
        "table = soup.find_all(\"table\",\n",
        "                  attrs={\n",
        "                      \"class\": \"wikitable\",\n",
        "                      \"style\": \"text-align:right\"}\n",
        "                  )[0]\n"
      ]
    },
    {
      "cell_type": "markdown",
      "metadata": {
        "id": "j4AWo3QoYqNY"
      },
      "source": [
        "**Now you will write code to scrape the information in `table` to create a Pandas data frame with one row for each city and columns for: city, state, population (2022 estimate), and 2020 land area (sq mi).** Refer to the Notes/suggestions below as you write your code. A few Hints are provided further down, but try coding first before looking at the hints."
      ]
    },
    {
      "cell_type": "markdown",
      "metadata": {
        "id": "KfRx2_XlDUqD"
      },
      "source": [
        "Notes/suggestions:\n",
        "\n",
        "- Use as a guide the code from the reading that produced the data frame of Statistics faculty\n",
        "- Inspect the page source as you write your code\n",
        "- You will need to write a loop to get the information for all cities, but you might want to try just scraping the info for New York first\n",
        "- You will need to pull the text from the tag. If `.text` returns text with \"\\n\" at the end, try `.get_text(strip = True)` instead of `.text`\n",
        "- Don't forget to convert to a Pandas Data Frame; it should have 333 rows and 4 columns\n",
        "- The goal of this exercise is just to create the Data Frame. If you were going to use it --- e.g., what is the population density for all cities in CA? --- then you would need to clean the data first (to clean strings and convert to quantitative). (You can use Beautiful Soup to do some of the cleaning for you, but that goes beyond our scope.)"
      ]
    },
    {
      "cell_type": "code",
      "execution_count": 8,
      "metadata": {},
      "outputs": [
        {
          "name": "stdout",
          "output_type": "stream",
          "text": [
            "{'city': 'New York', 'state': 'NY', 'population': '8,804,190', 'land area': '300.5'}\n",
            "{'city': 'Los Angeles', 'state': 'CA', 'population': '3,898,747', 'land area': '469.5'}\n",
            "{'city': 'Chicago', 'state': 'IL', 'population': '2,746,388', 'land area': '227.7'}\n",
            "{'city': 'Houston', 'state': 'TX', 'population': '2,304,580', 'land area': '640.4'}\n",
            "{'city': 'Phoenix', 'state': 'AZ', 'population': '1,608,139', 'land area': '518.0'}\n"
          ]
        }
      ],
      "source": [
        "# initialize an empty list\n",
        "rows = []\n",
        "\n",
        "# iterate over all rows in the table, skipping the first row (header row)\n",
        "for row in table.find_all(\"tr\")[1:]:\n",
        "    \n",
        "    # Get all the cells (<td>) in the current row.\n",
        "    cells = row.find_all(\"td\")\n",
        "\n",
        "    # Make sure there are enough cells in the row (to avoid IndexError)\n",
        "    if len(cells) >= 5:\n",
        "        # Find the name of the city in cell[0], looking for a link (<a>) or just the text in the <td>.\n",
        "        city_tag = cells[0].find(\"a\") or cells[0]\n",
        "        city = city_tag.get_text(strip=True)\n",
        "\n",
        "        # Find the state in cell[1]\n",
        "        state = cells[1].get_text(strip=True)\n",
        "\n",
        "        # Find the population in cell[3]\n",
        "        population = cells[3].get_text(strip=True)\n",
        "\n",
        "        # Find the land area in cell[2] (make sure you access the right cell index)\n",
        "        landarea = cells[5].get_text(strip=True)\n",
        "\n",
        "        # Append this data to the rows list.\n",
        "        rows.append({\n",
        "            \"city\": city,\n",
        "            \"state\": state,\n",
        "            \"population\": population,\n",
        "            \"land area\": landarea\n",
        "        })\n",
        "\n",
        "# Output the extracted data (for example, print the first 5 rows)\n",
        "for row in rows[:5]:\n",
        "    print(row)\n"
      ]
    },
    {
      "cell_type": "code",
      "execution_count": 9,
      "metadata": {},
      "outputs": [
        {
          "name": "stdout",
          "output_type": "stream",
          "text": [
            "[{'city': 'New York', 'state': 'NY', 'population': '8,804,190', 'land area': '300.5'}, {'city': 'Los Angeles', 'state': 'CA', 'population': '3,898,747', 'land area': '469.5'}, {'city': 'Chicago', 'state': 'IL', 'population': '2,746,388', 'land area': '227.7'}, {'city': 'Houston', 'state': 'TX', 'population': '2,304,580', 'land area': '640.4'}, {'city': 'Phoenix', 'state': 'AZ', 'population': '1,608,139', 'land area': '518.0'}, {'city': 'Philadelphia', 'state': 'PA', 'population': '1,603,797', 'land area': '134.4'}, {'city': 'San Antonio', 'state': 'TX', 'population': '1,434,625', 'land area': '498.8'}, {'city': 'San Diego', 'state': 'CA', 'population': '1,386,932', 'land area': '325.9'}, {'city': 'Dallas', 'state': 'TX', 'population': '1,304,379', 'land area': '339.6'}, {'city': 'Jacksonville', 'state': 'FL', 'population': '949,611', 'land area': '747.3'}, {'city': 'Austin', 'state': 'TX', 'population': '961,855', 'land area': '319.9'}, {'city': 'Fort Worth', 'state': 'TX', 'population': '918,915', 'land area': '347.3'}, {'city': 'San Jose', 'state': 'CA', 'population': '1,013,240', 'land area': '178.3'}, {'city': 'Columbus', 'state': 'OH', 'population': '905,748', 'land area': '220.0'}, {'city': 'Charlotte', 'state': 'NC', 'population': '874,579', 'land area': '308.3'}, {'city': 'Indianapolis', 'state': 'IN', 'population': '887,642', 'land area': '361.6'}, {'city': 'San Francisco', 'state': 'CA', 'population': '873,965', 'land area': '46.9'}, {'city': 'Seattle', 'state': 'WA', 'population': '737,015', 'land area': '83.8'}, {'city': 'Denver', 'state': 'CO', 'population': '715,522', 'land area': '153.1'}, {'city': 'Oklahoma City', 'state': 'OK', 'population': '681,054', 'land area': '606.2'}, {'city': 'Nashville', 'state': 'TN', 'population': '689,447', 'land area': '475.8'}, {'city': 'Washington', 'state': 'DC', 'population': '689,545', 'land area': '61.1'}, {'city': 'El Paso', 'state': 'TX', 'population': '678,815', 'land area': '258.4'}, {'city': 'Las Vegas', 'state': 'NV', 'population': '641,903', 'land area': '141.8'}, {'city': 'Boston', 'state': 'MA', 'population': '675,647', 'land area': '48.3'}, {'city': 'Detroit', 'state': 'MI', 'population': '639,111', 'land area': '138.7'}, {'city': 'Portland', 'state': 'OR', 'population': '652,503', 'land area': '133.5'}, {'city': 'Louisville', 'state': 'KY', 'population': '633,045', 'land area': '324.9'}, {'city': 'Memphis', 'state': 'TN', 'population': '633,104', 'land area': '297.0'}, {'city': 'Baltimore', 'state': 'MD', 'population': '585,708', 'land area': '80.9'}, {'city': 'Milwaukee', 'state': 'WI', 'population': '577,222', 'land area': '96.2'}, {'city': 'Albuquerque', 'state': 'NM', 'population': '564,559', 'land area': '187.3'}, {'city': 'Tucson', 'state': 'AZ', 'population': '542,629', 'land area': '241.0'}, {'city': 'Fresno', 'state': 'CA', 'population': '542,107', 'land area': '115.2'}, {'city': 'Sacramento', 'state': 'CA', 'population': '524,943', 'land area': '98.6'}, {'city': 'Mesa', 'state': 'AZ', 'population': '504,258', 'land area': '138.7'}, {'city': 'Atlanta', 'state': 'GA', 'population': '498,715', 'land area': '135.3'}, {'city': 'Kansas City', 'state': 'MO', 'population': '508,090', 'land area': '314.7'}, {'city': 'Colorado Springs', 'state': 'CO', 'population': '478,961', 'land area': '195.4'}, {'city': 'Omaha', 'state': 'NE', 'population': '486,051', 'land area': '141.6'}, {'city': 'Raleigh', 'state': 'NC', 'population': '467,665', 'land area': '147.1'}, {'city': 'Miami', 'state': 'FL', 'population': '442,241', 'land area': '36.0'}, {'city': 'Virginia Beach', 'state': 'VA', 'population': '459,470', 'land area': '244.7'}, {'city': 'Long Beach', 'state': 'CA', 'population': '466,742', 'land area': '50.7'}, {'city': 'Oakland', 'state': 'CA', 'population': '440,646', 'land area': '55.9'}, {'city': 'Minneapolis', 'state': 'MN', 'population': '429,954', 'land area': '54.0'}, {'city': 'Bakersfield', 'state': 'CA', 'population': '403,455', 'land area': '149.8'}, {'city': 'Tulsa', 'state': 'OK', 'population': '413,066', 'land area': '197.5'}, {'city': 'Tampa', 'state': 'FL', 'population': '384,959', 'land area': '114.0'}, {'city': 'Arlington', 'state': 'TX', 'population': '394,266', 'land area': '95.9'}, {'city': 'Wichita', 'state': 'KS', 'population': '397,532', 'land area': '162.0'}, {'city': 'Aurora', 'state': 'CO', 'population': '386,261', 'land area': '160.1'}, {'city': 'New Orleans', 'state': 'LA', 'population': '383,997', 'land area': '169.5'}, {'city': 'Cleveland', 'state': 'OH', 'population': '372,624', 'land area': '77.7'}, {'city': 'Honolulu', 'state': 'HI', 'population': '350,964', 'land area': '60.5'}, {'city': 'Anaheim', 'state': 'CA', 'population': '346,824', 'land area': '50.3'}, {'city': 'Henderson', 'state': 'NV', 'population': '317,610', 'land area': '106.2'}, {'city': 'Orlando', 'state': 'FL', 'population': '307,573', 'land area': '110.6'}, {'city': 'Lexington', 'state': 'KY', 'population': '322,570', 'land area': '283.6'}, {'city': 'Stockton', 'state': 'CA', 'population': '320,804', 'land area': '62.2'}, {'city': 'Riverside', 'state': 'CA', 'population': '314,998', 'land area': '81.2'}, {'city': 'Corpus Christi', 'state': 'TX', 'population': '317,863', 'land area': '162.2'}, {'city': 'Irvine', 'state': 'CA', 'population': '307,670', 'land area': '65.6'}, {'city': 'Cincinnati', 'state': 'OH', 'population': '309,317', 'land area': '77.8'}, {'city': 'Santa Ana', 'state': 'CA', 'population': '310,227', 'land area': '27.3'}, {'city': 'Newark', 'state': 'NJ', 'population': '311,549', 'land area': '24.1'}, {'city': 'Saint Paul', 'state': 'MN', 'population': '311,527', 'land area': '52.0'}, {'city': 'Pittsburgh', 'state': 'PA', 'population': '302,971', 'land area': '55.4'}, {'city': 'Greensboro', 'state': 'NC', 'population': '299,035', 'land area': '129.6'}, {'city': 'Durham', 'state': 'NC', 'population': '283,506', 'land area': '112.8'}, {'city': 'Lincoln', 'state': 'NE', 'population': '291,082', 'land area': '97.7'}, {'city': 'Jersey City', 'state': 'NJ', 'population': '292,449', 'land area': '14.7'}, {'city': 'Plano', 'state': 'TX', 'population': '285,494', 'land area': '71.7'}, {'city': 'Anchorage', 'state': 'AK', 'population': '291,247', 'land area': '1,706.8'}, {'city': 'North Las Vegas', 'state': 'NV', 'population': '262,527', 'land area': '101.3'}, {'city': 'St. Louis', 'state': 'MO', 'population': '301,578', 'land area': '61.7'}, {'city': 'Madison', 'state': 'WI', 'population': '269,840', 'land area': '79.6'}, {'city': 'Chandler', 'state': 'AZ', 'population': '275,987', 'land area': '65.3'}, {'city': 'Gilbert', 'state': 'AZ', 'population': '267,918', 'land area': '68.6'}, {'city': 'Reno', 'state': 'NV', 'population': '264,165', 'land area': '108.8'}, {'city': 'Buffalo', 'state': 'NY', 'population': '278,349', 'land area': '40.4'}, {'city': 'Chula Vista', 'state': 'CA', 'population': '275,487', 'land area': '49.6'}, {'city': 'Fort Wayne', 'state': 'IN', 'population': '263,886', 'land area': '110.7'}, {'city': 'Lubbock', 'state': 'TX', 'population': '257,141', 'land area': '134.6'}, {'city': 'Toledo', 'state': 'OH', 'population': '270,871', 'land area': '80.5'}, {'city': 'St. Petersburg', 'state': 'FL', 'population': '258,308', 'land area': '61.8'}, {'city': 'Laredo', 'state': 'TX', 'population': '255,205', 'land area': '106.5'}, {'city': 'Irving', 'state': 'TX', 'population': '256,684', 'land area': '67.0'}, {'city': 'Chesapeake', 'state': 'VA', 'population': '249,422', 'land area': '338.5'}, {'city': 'Glendale', 'state': 'AZ', 'population': '248,325', 'land area': '61.6'}, {'city': 'Winston-Salem', 'state': 'NC', 'population': '249,545', 'land area': '132.7'}, {'city': 'Port St. Lucie', 'state': 'FL', 'population': '204,851', 'land area': '119.2'}, {'city': 'Scottsdale', 'state': 'AZ', 'population': '241,361', 'land area': '184.0'}, {'city': 'Garland', 'state': 'TX', 'population': '246,018', 'land area': '57.1'}, {'city': 'Boise', 'state': 'ID', 'population': '235,684', 'land area': '84.0'}, {'city': 'Norfolk', 'state': 'VA', 'population': '238,005', 'land area': '53.3'}, {'city': 'Spokane', 'state': 'WA', 'population': '228,989', 'land area': '68.8'}, {'city': 'Richmond', 'state': 'VA', 'population': '226,610', 'land area': '59.9'}, {'city': 'Fremont', 'state': 'CA', 'population': '230,504', 'land area': '78.3'}, {'city': 'Huntsville', 'state': 'AL', 'population': '215,006', 'land area': '218.1'}, {'city': 'Frisco', 'state': 'TX', 'population': '200,509', 'land area': '68.6'}, {'city': 'Cape Coral', 'state': 'FL', 'population': '194,016', 'land area': '106.0'}, {'city': 'Santa Clarita', 'state': 'CA', 'population': '228,673', 'land area': '70.8'}, {'city': 'San Bernardino', 'state': 'CA', 'population': '222,101', 'land area': '62.1'}, {'city': 'Tacoma', 'state': 'WA', 'population': '219,346', 'land area': '49.7'}, {'city': 'Hialeah', 'state': 'FL', 'population': '223,109', 'land area': '21.6'}, {'city': 'Baton Rouge', 'state': 'LA', 'population': '227,470', 'land area': '86.3'}, {'city': 'Modesto', 'state': 'CA', 'population': '218,464', 'land area': '43.0'}, {'city': 'Fontana', 'state': 'CA', 'population': '208,393', 'land area': '43.1'}, {'city': 'McKinney', 'state': 'TX', 'population': '195,308', 'land area': '67.0'}, {'city': 'Moreno Valley', 'state': 'CA', 'population': '208,634', 'land area': '51.3'}, {'city': 'Des Moines', 'state': 'IA', 'population': '214,133', 'land area': '88.2'}, {'city': 'Fayetteville', 'state': 'NC', 'population': '208,501', 'land area': '148.3'}, {'city': 'Salt Lake City', 'state': 'UT', 'population': '199,723', 'land area': '110.3'}, {'city': 'Yonkers', 'state': 'NY', 'population': '211,569', 'land area': '18.0'}, {'city': 'Worcester', 'state': 'MA', 'population': '206,518', 'land area': '37.4'}, {'city': 'Rochester', 'state': 'NY', 'population': '211,328', 'land area': '35.8'}, {'city': 'Sioux Falls', 'state': 'SD', 'population': '192,517', 'land area': '79.1'}, {'city': 'Little Rock', 'state': 'AR', 'population': '202,591', 'land area': '120.0'}, {'city': 'Amarillo', 'state': 'TX', 'population': '200,393', 'land area': '102.3'}, {'city': 'Tallahassee', 'state': 'FL', 'population': '196,169', 'land area': '100.9'}, {'city': 'Grand Prairie', 'state': 'TX', 'population': '196,100', 'land area': '72.6'}, {'city': 'Columbus', 'state': 'GA', 'population': '206,922', 'land area': '216.5'}, {'city': 'Augusta', 'state': 'GA', 'population': '202,081', 'land area': '302.3'}, {'city': 'Peoria', 'state': 'AZ', 'population': '190,985', 'land area': '176.1'}, {'city': 'Oxnard', 'state': 'CA', 'population': '202,063', 'land area': '26.5'}, {'city': 'Knoxville', 'state': 'TN', 'population': '190,740', 'land area': '98.7'}, {'city': 'Overland Park', 'state': 'KS', 'population': '197,238', 'land area': '75.2'}, {'city': 'Birmingham', 'state': 'AL', 'population': '200,733', 'land area': '147.0'}, {'city': 'Grand Rapids', 'state': 'MI', 'population': '198,917', 'land area': '44.8'}, {'city': 'Vancouver', 'state': 'WA', 'population': '190,915', 'land area': '48.7'}, {'city': 'Montgomery', 'state': 'AL', 'population': '200,603', 'land area': '159.9'}, {'city': 'Huntington Beach', 'state': 'CA', 'population': '198,711', 'land area': '27.0'}, {'city': 'Providence', 'state': 'RI', 'population': '190,934', 'land area': '18.4'}, {'city': 'Brownsville', 'state': 'TX', 'population': '186,738', 'land area': '131.5'}, {'city': 'Tempe', 'state': 'AZ', 'population': '180,587', 'land area': '39.9'}, {'city': 'Akron', 'state': 'OH', 'population': '190,469', 'land area': '61.9'}, {'city': 'Glendale', 'state': 'CA', 'population': '196,543', 'land area': '30.5'}, {'city': 'Chattanooga', 'state': 'TN', 'population': '181,099', 'land area': '142.4'}, {'city': 'Fort Lauderdale', 'state': 'FL', 'population': '182,760', 'land area': '34.6'}, {'city': 'Newport News', 'state': 'VA', 'population': '186,247', 'land area': '69.0'}, {'city': 'Mobile', 'state': 'AL', 'population': '187,041', 'land area': '139.5'}, {'city': 'Ontario', 'state': 'CA', 'population': '175,265', 'land area': '50.0'}, {'city': 'Clarksville', 'state': 'TN', 'population': '166,722', 'land area': '99.4'}, {'city': 'Cary', 'state': 'NC', 'population': '174,721', 'land area': '59.2'}, {'city': 'Elk Grove', 'state': 'CA', 'population': '176,124', 'land area': '42.0'}, {'city': 'Shreveport', 'state': 'LA', 'population': '187,593', 'land area': '107.8'}, {'city': 'Eugene', 'state': 'OR', 'population': '176,654', 'land area': '44.2'}, {'city': 'Aurora', 'state': 'IL', 'population': '180,542', 'land area': '45.0'}, {'city': 'Salem', 'state': 'OR', 'population': '175,535', 'land area': '48.8'}, {'city': 'Santa Rosa', 'state': 'CA', 'population': '178,127', 'land area': '42.5'}, {'city': 'Rancho Cucamonga', 'state': 'CA', 'population': '174,453', 'land area': '40.1'}, {'city': 'Pembroke Pines', 'state': 'FL', 'population': '171,178', 'land area': '32.7'}, {'city': 'Fort Collins', 'state': 'CO', 'population': '169,810', 'land area': '57.2'}, {'city': 'Springfield', 'state': 'MO', 'population': '169,176', 'land area': '82.4'}, {'city': 'Oceanside', 'state': 'CA', 'population': '174,068', 'land area': '41.3'}, {'city': 'Garden Grove', 'state': 'CA', 'population': '171,949', 'land area': '18.0'}, {'city': 'Lancaster', 'state': 'CA', 'population': '173,516', 'land area': '94.3'}, {'city': 'Murfreesboro', 'state': 'TN', 'population': '152,769', 'land area': '62.9'}, {'city': 'Palmdale', 'state': 'CA', 'population': '169,450', 'land area': '106.1'}, {'city': 'Corona', 'state': 'CA', 'population': '157,136', 'land area': '39.9'}, {'city': 'Killeen', 'state': 'TX', 'population': '153,095', 'land area': '54.8'}, {'city': 'Salinas', 'state': 'CA', 'population': '163,542', 'land area': '23.5'}, {'city': 'Roseville', 'state': 'CA', 'population': '147,773', 'land area': '44.1'}, {'city': 'Denton', 'state': 'TX', 'population': '139,869', 'land area': '96.4'}, {'city': 'Surprise', 'state': 'AZ', 'population': '143,148', 'land area': '110.3'}, {'city': 'Macon', 'state': 'GA', 'population': '157,346', 'land area': '249.4'}, {'city': 'Paterson', 'state': 'NJ', 'population': '159,732', 'land area': '8.4'}, {'city': 'Lakewood', 'state': 'CO', 'population': '155,984', 'land area': '43.5'}, {'city': 'Hayward', 'state': 'CA', 'population': '162,954', 'land area': '45.8'}, {'city': 'Charleston', 'state': 'SC', 'population': '150,227', 'land area': '114.8'}, {'city': 'Alexandria', 'state': 'VA', 'population': '159,467', 'land area': '14.9'}, {'city': 'Hollywood', 'state': 'FL', 'population': '153,067', 'land area': '27.3'}, {'city': 'Springfield', 'state': 'MA', 'population': '155,929', 'land area': '31.9'}, {'city': 'Kansas City', 'state': 'KS', 'population': '156,607', 'land area': '124.7'}, {'city': 'Sunnyvale', 'state': 'CA', 'population': '155,805', 'land area': '22.1'}, {'city': 'Bellevue', 'state': 'WA', 'population': '151,854', 'land area': '33.5'}, {'city': 'Joliet', 'state': 'IL', 'population': '150,362', 'land area': '64.5'}, {'city': 'Naperville', 'state': 'IL', 'population': '149,540', 'land area': '39.1'}, {'city': 'Escondido', 'state': 'CA', 'population': '151,038', 'land area': '37.3'}, {'city': 'Bridgeport', 'state': 'CT', 'population': '148,654', 'land area': '16.1'}, {'city': 'Savannah', 'state': 'GA', 'population': '147,780', 'land area': '106.8'}, {'city': 'Olathe', 'state': 'KS', 'population': '141,290', 'land area': '61.9'}, {'city': 'Mesquite', 'state': 'TX', 'population': '150,108', 'land area': '48.5'}, {'city': 'Pasadena', 'state': 'TX', 'population': '151,950', 'land area': '43.7'}, {'city': 'McAllen', 'state': 'TX', 'population': '142,210', 'land area': '62.3'}, {'city': 'Rockford', 'state': 'IL', 'population': '148,655', 'land area': '64.5'}, {'city': 'Gainesville', 'state': 'FL', 'population': '141,085', 'land area': '63.2'}, {'city': 'Syracuse', 'state': 'NY', 'population': '148,620', 'land area': '25.1'}, {'city': 'Pomona', 'state': 'CA', 'population': '151,713', 'land area': '23.0'}, {'city': 'Visalia', 'state': 'CA', 'population': '141,384', 'land area': '37.9'}, {'city': 'Thornton', 'state': 'CO', 'population': '141,867', 'land area': '35.9'}, {'city': 'Waco', 'state': 'TX', 'population': '138,486', 'land area': '88.7'}, {'city': 'Jackson', 'state': 'MS', 'population': '153,701', 'land area': '111.7'}, {'city': 'Columbia', 'state': 'SC', 'population': '136,632', 'land area': '136.8'}, {'city': 'Lakewood', 'state': 'NJ', 'population': '135,158', 'land area': '24.7'}, {'city': 'Fullerton', 'state': 'CA', 'population': '143,617', 'land area': '22.4'}, {'city': 'Torrance', 'state': 'CA', 'population': '147,067', 'land area': '20.5'}, {'city': 'Victorville', 'state': 'CA', 'population': '134,810', 'land area': '73.7'}, {'city': 'Midland', 'state': 'TX', 'population': '132,524', 'land area': '75.5'}, {'city': 'Orange', 'state': 'CA', 'population': '139,911', 'land area': '25.7'}, {'city': 'Miramar', 'state': 'FL', 'population': '134,721', 'land area': '28.9'}, {'city': 'Hampton', 'state': 'VA', 'population': '137,148', 'land area': '51.5'}, {'city': 'Warren', 'state': 'MI', 'population': '139,387', 'land area': '34.4'}, {'city': 'Stamford', 'state': 'CT', 'population': '135,470', 'land area': '37.6'}, {'city': 'Cedar Rapids', 'state': 'IA', 'population': '137,710', 'land area': '72.1'}, {'city': 'Elizabeth', 'state': 'NJ', 'population': '137,298', 'land area': '12.3'}, {'city': 'Palm Bay', 'state': 'FL', 'population': '119,760', 'land area': '86.4'}, {'city': 'Dayton', 'state': 'OH', 'population': '137,644', 'land area': '55.8'}, {'city': 'New Haven', 'state': 'CT', 'population': '134,023', 'land area': '18.7'}, {'city': 'Coral Springs', 'state': 'FL', 'population': '134,394', 'land area': '22.9'}, {'city': 'Meridian', 'state': 'ID', 'population': '117,635', 'land area': '35.1'}, {'city': 'West Valley City', 'state': 'UT', 'population': '140,230', 'land area': '35.8'}, {'city': 'Pasadena', 'state': 'CA', 'population': '138,699', 'land area': '23.0'}, {'city': 'Lewisville', 'state': 'TX', 'population': '111,822', 'land area': '37.0'}, {'city': 'Kent', 'state': 'WA', 'population': '136,588', 'land area': '33.8'}, {'city': 'Sterling Heights', 'state': 'MI', 'population': '134,346', 'land area': '36.4'}, {'city': 'Fargo', 'state': 'ND', 'population': '125,990', 'land area': '49.8'}, {'city': 'Carrollton', 'state': 'TX', 'population': '133,434', 'land area': '36.7'}, {'city': 'Santa Clara', 'state': 'CA', 'population': '127,647', 'land area': '18.3'}, {'city': 'Round Rock', 'state': 'TX', 'population': '119,468', 'land area': '37.6'}, {'city': 'Norman', 'state': 'OK', 'population': '128,026', 'land area': '178.8'}, {'city': 'Columbia', 'state': 'MO', 'population': '126,254', 'land area': '66.5'}, {'city': 'Abilene', 'state': 'TX', 'population': '125,182', 'land area': '106.7'}, {'city': 'Athens', 'state': 'GA', 'population': '127,315', 'land area': '116.3'}, {'city': 'Pearland', 'state': 'TX', 'population': '125,828', 'land area': '48.7'}, {'city': 'Clovis', 'state': 'CA', 'population': '120,124', 'land area': '25.4'}, {'city': 'Topeka', 'state': 'KS', 'population': '126,587', 'land area': '61.4'}, {'city': 'College Station', 'state': 'TX', 'population': '120,511', 'land area': '51.2'}, {'city': 'Simi Valley', 'state': 'CA', 'population': '126,356', 'land area': '41.5'}, {'city': 'Allentown', 'state': 'PA', 'population': '125,845', 'land area': '17.6'}, {'city': 'West Palm Beach', 'state': 'FL', 'population': '117,415', 'land area': '53.8'}, {'city': 'Thousand Oaks', 'state': 'CA', 'population': '126,966', 'land area': '55.3'}, {'city': 'Vallejo', 'state': 'CA', 'population': '126,090', 'land area': '30.4'}, {'city': 'Wilmington', 'state': 'NC', 'population': '115,451', 'land area': '51.4'}, {'city': 'Rochester', 'state': 'MN', 'population': '121,395', 'land area': '55.5'}, {'city': 'Concord', 'state': 'CA', 'population': '125,410', 'land area': '30.6'}, {'city': 'Lakeland', 'state': 'FL', 'population': '112,641', 'land area': '66.2'}, {'city': 'North Charleston', 'state': 'SC', 'population': '114,852', 'land area': '77.6'}, {'city': 'Lafayette', 'state': 'LA', 'population': '121,374', 'land area': '55.8'}, {'city': 'Arvada', 'state': 'CO', 'population': '124,402', 'land area': '38.9'}, {'city': 'Independence', 'state': 'MO', 'population': '123,011', 'land area': '78.0'}, {'city': 'Billings', 'state': 'MT', 'population': '117,116', 'land area': '44.8'}, {'city': 'Fairfield', 'state': 'CA', 'population': '119,881', 'land area': '41.6'}, {'city': 'Hartford', 'state': 'CT', 'population': '121,054', 'land area': '17.4'}, {'city': 'Ann Arbor', 'state': 'MI', 'population': '123,851', 'land area': '28.2'}, {'city': 'Broken Arrow', 'state': 'OK', 'population': '113,540', 'land area': '63.0'}, {'city': 'Berkeley', 'state': 'CA', 'population': '124,321', 'land area': '10.4'}, {'city': 'Cambridge', 'state': 'MA', 'population': '118,403', 'land area': '6.4'}, {'city': 'Richardson', 'state': 'TX', 'population': '119,469', 'land area': '28.6'}, {'city': 'Antioch', 'state': 'CA', 'population': '115,291', 'land area': '29.2'}, {'city': 'High Point', 'state': 'NC', 'population': '114,059', 'land area': '56.4'}, {'city': 'Clearwater', 'state': 'FL', 'population': '117,292', 'land area': '26.1'}, {'city': 'League City', 'state': 'TX', 'population': '114,392', 'land area': '51.3'}, {'city': 'Odessa', 'state': 'TX', 'population': '114,428', 'land area': '51.1'}, {'city': 'Manchester', 'state': 'NH', 'population': '115,644', 'land area': '33.1'}, {'city': 'Evansville', 'state': 'IN', 'population': '117,298', 'land area': '47.4'}, {'city': 'Waterbury', 'state': 'CT', 'population': '114,403', 'land area': '28.5'}, {'city': 'West Jordan', 'state': 'UT', 'population': '116,961', 'land area': '32.3'}, {'city': 'Las Cruces', 'state': 'NM', 'population': '111,385', 'land area': '76.9'}, {'city': 'Westminster', 'state': 'CO', 'population': '116,317', 'land area': '31.6'}, {'city': 'Lowell', 'state': 'MA', 'population': '115,554', 'land area': '13.6'}, {'city': 'Nampa', 'state': 'ID', 'population': '100,200', 'land area': '33.5'}, {'city': 'Richmond', 'state': 'CA', 'population': '116,448', 'land area': '30.1'}, {'city': 'Pompano Beach', 'state': 'FL', 'population': '112,046', 'land area': '24.0'}, {'city': 'Carlsbad', 'state': 'CA', 'population': '114,746', 'land area': '37.8'}, {'city': 'Menifee', 'state': 'CA', 'population': '102,527', 'land area': '46.5'}, {'city': 'Provo', 'state': 'UT', 'population': '115,162', 'land area': '41.7'}, {'city': 'Elgin', 'state': 'IL', 'population': '114,797', 'land area': '38.0'}, {'city': 'Greeley', 'state': 'CO', 'population': '108,795', 'land area': '48.9'}, {'city': 'Springfield', 'state': 'IL', 'population': '114,394', 'land area': '61.1'}, {'city': 'Beaumont', 'state': 'TX', 'population': '115,282', 'land area': '82.5'}, {'city': 'Lansing', 'state': 'MI', 'population': '112,644', 'land area': '39.1'}, {'city': 'Murrieta', 'state': 'CA', 'population': '110,949', 'land area': '33.6'}, {'city': 'Goodyear', 'state': 'AZ', 'population': '95,294', 'land area': '191.3'}, {'city': 'Allen', 'state': 'TX', 'population': '104,627', 'land area': '26.4'}, {'city': 'Tuscaloosa', 'state': 'AL', 'population': '99,600', 'land area': '61.9'}, {'city': 'Everett', 'state': 'WA', 'population': '110,629', 'land area': '33.2'}, {'city': 'Pueblo', 'state': 'CO', 'population': '111,876', 'land area': '55.4'}, {'city': 'New Braunfels', 'state': 'TX', 'population': '90,403', 'land area': '45.2'}, {'city': 'South Fulton', 'state': 'GA', 'population': '107,436', 'land area': '85.2'}, {'city': 'Miami Gardens', 'state': 'FL', 'population': '111,640', 'land area': '18.2'}, {'city': 'Gresham', 'state': 'OR', 'population': '114,247', 'land area': '23.5'}, {'city': 'Temecula', 'state': 'CA', 'population': '110,003', 'land area': '37.3'}, {'city': 'Rio Rancho', 'state': 'NM', 'population': '104,046', 'land area': '103.4'}, {'city': 'Peoria', 'state': 'IL', 'population': '113,150', 'land area': '48.0'}, {'city': 'Tyler', 'state': 'TX', 'population': '105,995', 'land area': '57.5'}, {'city': 'Sparks', 'state': 'NV', 'population': '108,445', 'land area': '36.4'}, {'city': 'Concord', 'state': 'NC', 'population': '105,240', 'land area': '63.5'}, {'city': 'Santa Maria', 'state': 'CA', 'population': '109,707', 'land area': '22.8'}, {'city': 'Ventura', 'state': 'CA', 'population': '110,763', 'land area': '21.9'}, {'city': 'Buckeye', 'state': 'AZ', 'population': '91,502', 'land area': '393.0'}, {'city': 'Downey', 'state': 'CA', 'population': '114,355', 'land area': '12.4'}, {'city': 'Sugar Land', 'state': 'TX', 'population': '111,026', 'land area': '40.5'}, {'city': 'Costa Mesa', 'state': 'CA', 'population': '111,918', 'land area': '15.8'}, {'city': 'Conroe', 'state': 'TX', 'population': '89,956', 'land area': '72.0'}, {'city': 'Spokane Valley', 'state': 'WA', 'population': '102,976', 'land area': '37.7'}, {'city': 'Davie', 'state': 'FL', 'population': '105,691', 'land area': '34.9'}, {'city': 'Hillsboro', 'state': 'OR', 'population': '106,447', 'land area': '25.7'}, {'city': 'Jurupa Valley', 'state': 'CA', 'population': '105,053', 'land area': '42.9'}, {'city': 'Centennial', 'state': 'CO', 'population': '108,418', 'land area': '29.7'}, {'city': 'Edison', 'state': 'NJ', 'population': '107,588', 'land area': '30.1'}, {'city': 'Boulder', 'state': 'CO', 'population': '108,250', 'land area': '26.3'}, {'city': 'Dearborn', 'state': 'MI', 'population': '109,976', 'land area': '24.2'}, {'city': 'Edinburg', 'state': 'TX', 'population': '100,243', 'land area': '44.7'}, {'city': 'Sandy Springs', 'state': 'GA', 'population': '108,080', 'land area': '37.7'}, {'city': 'Green Bay', 'state': 'WI', 'population': '107,395', 'land area': '45.5'}, {'city': 'West Covina', 'state': 'CA', 'population': '109,501', 'land area': '16.0'}, {'city': 'Brockton', 'state': 'MA', 'population': '105,643', 'land area': '21.3'}, {'city': 'St. George', 'state': 'UT', 'population': '95,342', 'land area': '78.5'}, {'city': 'Bend', 'state': 'OR', 'population': '99,178', 'land area': '33.6'}, {'city': 'Renton', 'state': 'WA', 'population': '106,785', 'land area': '23.5'}, {'city': \"Lee's Summit\", 'state': 'MO', 'population': '101,108', 'land area': '63.9'}, {'city': 'Fishers', 'state': 'IN', 'population': '98,977', 'land area': '35.6'}, {'city': 'El Monte', 'state': 'CA', 'population': '109,450', 'land area': '9.6'}, {'city': 'South Bend', 'state': 'IN', 'population': '103,453', 'land area': '42.0'}, {'city': 'Rialto', 'state': 'CA', 'population': '104,026', 'land area': '24.1'}, {'city': 'Woodbridge', 'state': 'NJ', 'population': '103,639', 'land area': '23.3'}, {'city': 'El Cajon', 'state': 'CA', 'population': '106,215', 'land area': '14.5'}, {'city': 'Inglewood', 'state': 'CA', 'population': '107,762', 'land area': '9.1'}, {'city': 'Burbank', 'state': 'CA', 'population': '107,337', 'land area': '17.3'}, {'city': 'Wichita Falls', 'state': 'TX', 'population': '102,316', 'land area': '72.0'}, {'city': 'Vacaville', 'state': 'CA', 'population': '102,386', 'land area': '29.9'}, {'city': 'Carmel', 'state': 'IN', 'population': '99,757', 'land area': '49.1'}, {'city': 'Palm Coast', 'state': 'FL', 'population': '89,258', 'land area': '95.4'}, {'city': 'Fayetteville', 'state': 'AR', 'population': '93,949', 'land area': '54.1'}, {'city': 'Quincy', 'state': 'MA', 'population': '101,636', 'land area': '16.6'}, {'city': 'San Mateo', 'state': 'CA', 'population': '105,661', 'land area': '12.1'}, {'city': 'Chico', 'state': 'CA', 'population': '101,475', 'land area': '34.1'}, {'city': 'Lynn', 'state': 'MA', 'population': '101,253', 'land area': '10.7'}, {'city': 'Albany', 'state': 'NY', 'population': '99,224', 'land area': '21.4'}, {'city': 'Yuma', 'state': 'AZ', 'population': '95,548', 'land area': '120.7'}, {'city': 'New Bedford', 'state': 'MA', 'population': '101,079', 'land area': '20.0'}, {'city': 'Suffolk', 'state': 'VA', 'population': '94,324', 'land area': '399.2'}, {'city': 'Hesperia', 'state': 'CA', 'population': '99,818', 'land area': '72.7'}, {'city': 'Davenport', 'state': 'IA', 'population': '101,724', 'land area': '63.8'}]\n"
          ]
        }
      ],
      "source": [
        "print(rows)"
      ]
    },
    {
      "cell_type": "code",
      "execution_count": 10,
      "metadata": {
        "id": "1M23w-PPtUyw"
      },
      "outputs": [
        {
          "name": "stdout",
          "output_type": "stream",
          "text": [
            "            city state population land area\n",
            "0       New York    NY  8,804,190     300.5\n",
            "1    Los Angeles    CA  3,898,747     469.5\n",
            "2        Chicago    IL  2,746,388     227.7\n",
            "3        Houston    TX  2,304,580     640.4\n",
            "4        Phoenix    AZ  1,608,139     518.0\n",
            "..           ...   ...        ...       ...\n",
            "331         Yuma    AZ     95,548     120.7\n",
            "332  New Bedford    MA    101,079      20.0\n",
            "333      Suffolk    VA     94,324     399.2\n",
            "334     Hesperia    CA     99,818      72.7\n",
            "335    Davenport    IA    101,724      63.8\n",
            "\n",
            "[336 rows x 4 columns]\n"
          ]
        }
      ],
      "source": [
        "city = pd.DataFrame(rows)\n",
        "print(city)"
      ]
    },
    {
      "cell_type": "markdown",
      "metadata": {
        "id": "6s3tH82XZ1X0"
      },
      "source": [
        "Hints:\n",
        "\n",
        "- Each city is a row in the table; find all the `<tr>` tags to find all the cities\n",
        "- Look for the `<td>` tag to see table entries within a row\n",
        "- The rank column is represented by `<th>` tags, rather than `<td>` tags. So within a row, the first (that is, `[0]`) `<td>` tag corresponds to the city name."
      ]
    },
    {
      "cell_type": "markdown",
      "metadata": {
        "id": "pIW4UgURNdhz"
      },
      "source": [
        "## Aside: Scraping an HTML table with Pandas\n",
        "\n"
      ]
    },
    {
      "cell_type": "markdown",
      "metadata": {
        "id": "R2ufAAMGYenH"
      },
      "source": [
        "The Pandas command `read_html` can be used to scrape information from an HTML table on a webpage.\n",
        "\n",
        "We can call `read_html` on the URL."
      ]
    },
    {
      "cell_type": "code",
      "execution_count": 11,
      "metadata": {
        "id": "YnGD1hMbpv7H"
      },
      "outputs": [
        {
          "data": {
            "text/plain": [
              "[                    Population tables of U.S. cities\n",
              " 0  The skyline of New York City, the most populou...\n",
              " 1                                             Cities\n",
              " 2  Population AreaDensityEthnic identityForeign-b...\n",
              " 3                                        Urban areas\n",
              " 4             Populous cities and metropolitan areas\n",
              " 5                                 Metropolitan areas\n",
              " 6  184 combined statistical areas935 core-based s...\n",
              " 7                                        Megaregions\n",
              " 8  See related population listsNorth American met...\n",
              " 9                                                vte,\n",
              "     0                               1\n",
              " 0 NaN                   State capital\n",
              " 1 NaN              State largest city\n",
              " 2 NaN  State capital and largest city\n",
              " 3 NaN                 Federal capital,\n",
              "             City  ST 2023 estimate 2020 census  Change 2020 land area          \\\n",
              "             City  ST 2023 estimate 2020 census  Change            mi2     km2   \n",
              " 0    New York[c]  NY       8258035     8804190  −6.20%          300.5   778.3   \n",
              " 1    Los Angeles  CA       3820914     3898747  −2.00%          469.5  1216.0   \n",
              " 2        Chicago  IL       2664452     2746388  −2.98%          227.7   589.7   \n",
              " 3        Houston  TX       2314157     2304580  +0.42%          640.4  1658.6   \n",
              " 4        Phoenix  AZ       1650070     1608139  +2.61%          518.0  1341.6   \n",
              " ..           ...  ..           ...         ...     ...            ...     ...   \n",
              " 331         Yuma  AZ        100858       95548  +5.56%          120.7   312.6   \n",
              " 332  New Bedford  MA        100695      101079  −0.38%           20.0    51.8   \n",
              " 333   Suffolk[l]  VA        100659       94324  +6.72%          399.2  1033.9   \n",
              " 334     Hesperia  CA        100633       99818  +0.82%           72.7   188.3   \n",
              " 335    Davenport  IA        100354      101724  −1.35%           63.8   165.2   \n",
              " \n",
              "     2020 density                                      Location  \n",
              "            / mi2  / km2                               Location  \n",
              " 0          29298  11312    40°40′N 73°56′W﻿ / ﻿40.66°N 73.94°W  \n",
              " 1           8304   3206  34°01′N 118°25′W﻿ / ﻿34.02°N 118.41°W  \n",
              " 2          12061   4657    41°50′N 87°41′W﻿ / ﻿41.84°N 87.68°W  \n",
              " 3           3599   1390    29°47′N 95°23′W﻿ / ﻿29.79°N 95.39°W  \n",
              " 4           3105   1199  33°34′N 112°05′W﻿ / ﻿33.57°N 112.09°W  \n",
              " ..           ...    ...                                    ...  \n",
              " 331          792    306  32°31′N 114°31′W﻿ / ﻿32.52°N 114.52°W  \n",
              " 332         5054   1951    41°40′N 70°56′W﻿ / ﻿41.66°N 70.94°W  \n",
              " 333          236     91    36°42′N 76°38′W﻿ / ﻿36.70°N 76.63°W  \n",
              " 334         1373    530  34°24′N 117°19′W﻿ / ﻿34.40°N 117.32°W  \n",
              " 335         1594    615    41°34′N 90°36′W﻿ / ﻿41.56°N 90.60°W  \n",
              " \n",
              " [336 rows x 10 columns],\n",
              "         Population  Number of municipal governments\n",
              " 0       1,000,000+                                9\n",
              " 1  700,000–999,999                               11\n",
              " 2  500,000–699,999                               18\n",
              " 3  400,000–499,999                               11\n",
              " 4  300,000–399,999                               20\n",
              " 5  200,000–299,999                               55\n",
              " 6  100,000–199,999                              212\n",
              " 7            Total                              336,\n",
              "                                                 State  Number of listed cities\n",
              " 0                                          California                       74\n",
              " 1                                               Texas                       42\n",
              " 2                                             Florida                       23\n",
              " 3                                             Arizona                       13\n",
              " 4                                            Colorado                       12\n",
              " 5                                      North Carolina                       10\n",
              " 6                           Massachusetts, Washington                        9\n",
              " 7                         Georgia, Illinois, Virginia                        8\n",
              " 8                                Michigan, New Jersey                        7\n",
              " 9   Missouri, Indiana, New York, Ohio, Oregon, Ten...                        6\n",
              " 10         Alabama, Connecticut, Kansas, Nevada, Utah                        5\n",
              " 11                                Louisiana, Oklahoma                        4\n",
              " 12  Iowa, Idaho, Minnesota, New Mexico, Pennsylvan...                        3\n",
              " 13                       Arkansas, Kentucky, Nebraska                        2\n",
              " 14  Alaska, District of Columbia, Hawaii, Maryland...                        1\n",
              " 15   Delaware, Maine, Vermont, West Virginia, Wyoming                        0,\n",
              "   Municipio  2023 estimate  2020 census  Change 2020 land area  \\\n",
              " 0  San Juan         333005       342259  −2.70%     39.8 sq mi   \n",
              " 1   Bayamón         180835       185187  −2.35%     27.0 sq mi   \n",
              " 2  Carolina         150843       154815  −2.57%     20.7 sq mi   \n",
              " 3     Ponce         130251       137491  −5.27%     28.4 sq mi   \n",
              " 4    Caguas         124608       127244  −2.07%     10.9 sq mi   \n",
              " \n",
              "   2020 land area.1  2020 density 2020 density.1  \\\n",
              " 0        103.1 km2   8,599/sq mi      3,320/km2   \n",
              " 1         69.9 km2   6,859/sq mi      2,648/km2   \n",
              " 2         53.6 km2   7,479/sq mi      2,888/km2   \n",
              " 3         73.6 km2   4,841/sq mi      1,869/km2   \n",
              " 4         28.2 km2  11,674/sq mi      4,507/km2   \n",
              " \n",
              "                               Location  \n",
              " 0  18°24′N 66°04′W﻿ / ﻿18.40°N 66.06°W  \n",
              " 1  18°23′N 66°10′W﻿ / ﻿18.38°N 66.16°W  \n",
              " 2  18°25′N 65°59′W﻿ / ﻿18.41°N 65.98°W  \n",
              " 3  18°00′N 66°37′W﻿ / ﻿18.00°N 66.62°W  \n",
              " 4  18°14′N 66°02′W﻿ / ﻿18.23°N 66.04°W  ,\n",
              "    Census- designated place  ST 2020 census 2010 census    Change  \\\n",
              "    Census- designated place  ST 2020 census 2010 census    Change   \n",
              " 0                 Arlington  VA      238643      207627   +14.94%   \n",
              " 1                Enterprise  NV      221831      108481  +104.49%   \n",
              " 2             Spring Valley  NV      215597      178395   +20.85%   \n",
              " 3             Sunrise Manor  NV      205618      189372    +8.58%   \n",
              " 4                  Paradise  NV      191238      223167   −14.31%   \n",
              " 5                  Metairie  LA      143507      138481    +3.63%   \n",
              " 6          East Los Angeles  CA      118786      126496    −6.10%   \n",
              " 7                   Brandon  FL      114626      103483   +10.77%   \n",
              " 8             The Woodlands  TX      114436       93847   +21.94%   \n",
              " 9              Lehigh Acres  FL      114287       86784   +31.69%   \n",
              " 10              Spring Hill  FL      113568       98621   +15.16%   \n",
              " 11                Riverview  FL      107396       71050   +51.16%   \n",
              " 12                 Columbia  MD      104681       99615    +5.09%   \n",
              " 13          Highlands Ranch  CO      103444       96713    +6.96%   \n",
              " \n",
              "    2020 land area          2020 density        \\\n",
              "               mi2      km2        / mi2 / km2   \n",
              " 0            26.0   67.340         9179  3544   \n",
              " 1            66.0  170.939         3361  1298   \n",
              " 2            35.5   91.945         6073  2345   \n",
              " 3            33.7   87.283         6101  2356   \n",
              " 4            42.4  109.815         4510  1740   \n",
              " 5            23.3   60.347         6159  2378   \n",
              " 6             7.5   19.425        15838  6115   \n",
              " 7            33.1   85.729         3463  1337   \n",
              " 8            43.3  112.146         2643  1020   \n",
              " 9            92.7  240.092         1233   476   \n",
              " 10           59.9  155.140         1896   732   \n",
              " 11           46.2  119.657         2325   898   \n",
              " 12           31.9   82.621         3282  1267   \n",
              " 13           24.3   62.937         4257  1644   \n",
              " \n",
              "                                  Location  \n",
              "                                  Location  \n",
              " 0     38°53′N 77°06′W﻿ / ﻿38.88°N 77.10°W  \n",
              " 1   36°01′N 115°14′W﻿ / ﻿36.01°N 115.23°W  \n",
              " 2   36°06′N 115°16′W﻿ / ﻿36.10°N 115.26°W  \n",
              " 3   36°11′N 115°03′W﻿ / ﻿36.18°N 115.05°W  \n",
              " 4   36°05′N 115°08′W﻿ / ﻿36.09°N 115.14°W  \n",
              " 5     30°00′N 90°11′W﻿ / ﻿30.00°N 90.18°W  \n",
              " 6   34°02′N 118°10′W﻿ / ﻿34.03°N 118.17°W  \n",
              " 7     27°56′N 82°18′W﻿ / ﻿27.94°N 82.30°W  \n",
              " 8     30°10′N 95°31′W﻿ / ﻿30.17°N 95.51°W  \n",
              " 9     26°37′N 81°38′W﻿ / ﻿26.61°N 81.64°W  \n",
              " 10    28°29′N 82°32′W﻿ / ﻿28.48°N 82.53°W  \n",
              " 11    27°49′N 82°18′W﻿ / ﻿27.82°N 82.30°W  \n",
              " 12    39°12′N 76°52′W﻿ / ﻿39.20°N 76.86°W  \n",
              " 13  39°32′N 104°58′W﻿ / ﻿39.54°N 104.97°W  ,\n",
              "               City  ST  2023 estimate  Peak population % decline from peak  \\\n",
              " 0        Allegheny  PA            NaN           129896                 NaN   \n",
              " 1         Brooklyn  NY            NaN           806343                 NaN   \n",
              " 2           Camden  NJ        71100.0           124555             −42.92%   \n",
              " 3           Canton  OH        69197.0           116912             −40.81%   \n",
              " 4   Citrus Heights  CA        86239.0           107439             −19.73%   \n",
              " 5        Daly City  CA        99833.0           104901              −4.83%   \n",
              " 6           Duluth  MN        87680.0           107312             −18.29%   \n",
              " 7             Erie  PA        92957.0           138440             −32.85%   \n",
              " 8       Fall River  MA        93840.0           120485             −22.11%   \n",
              " 9      Federal Way  WA        97701.0           101030              −3.30%   \n",
              " 10           Flint  MI        79661.0           196940             −59.55%   \n",
              " 11            Gary  IN        67652.0           178320             −62.06%   \n",
              " 12         Hammond  IN        76193.0           111698             −31.79%   \n",
              " 13         Livonia  MI        92185.0           110109             −16.28%   \n",
              " 14   Niagara Falls  NY        47599.0           102394             −53.51%   \n",
              " 15         Norwalk  CA        98078.0           105549              −7.08%   \n",
              " 16           Parma  OH        78951.0           100216             −21.22%   \n",
              " 17      Portsmouth  VA        97454.0           114773             −15.09%   \n",
              " 18         Reading  PA        94903.0           111171             −14.63%   \n",
              " 19         Roanoke  VA        99578.0           100220              −0.64%   \n",
              " 20        Scranton  PA        75805.0           143333             −47.11%   \n",
              " 21      Somerville  MA        80407.0           103908             −22.62%   \n",
              " 22      St. Joseph  MO        70634.0           102979             −31.41%   \n",
              " 23         Trenton  NJ        89620.0           128009             −29.99%   \n",
              " 24           Utica  NY        63607.0           101740             −37.48%   \n",
              " 25      Wilmington  DE        71675.0           112504             −36.29%   \n",
              " 26      Youngstown  OH        59108.0           170002             −65.23%   \n",
              " \n",
              "     Peak year Unnamed: 6  \n",
              " 0        1907        [z]  \n",
              " 1        1898       [aa]  \n",
              " 2        1950        NaN  \n",
              " 3        1950        NaN  \n",
              " 4        1990        NaN  \n",
              " 5        2020        NaN  \n",
              " 6        1960        NaN  \n",
              " 7        1960        NaN  \n",
              " 8        1920        NaN  \n",
              " 9        2020        NaN  \n",
              " 10       1960        NaN  \n",
              " 11       1960        NaN  \n",
              " 12       1960        NaN  \n",
              " 13       1970        NaN  \n",
              " 14       1960        NaN  \n",
              " 15       2010        NaN  \n",
              " 16       1970        NaN  \n",
              " 17       1960        NaN  \n",
              " 18       1930        NaN  \n",
              " 19       1980        NaN  \n",
              " 20       1930        NaN  \n",
              " 21       1930        NaN  \n",
              " 22       1900       [ab]  \n",
              " 23       1950        NaN  \n",
              " 24       1930        NaN  \n",
              " 25       1940        NaN  \n",
              " 26       1930        NaN  ,\n",
              "   vteThe 100 most populous cities of the United States  \\\n",
              " 0  New York, New York Los Angeles, California Chi...     \n",
              " 1                                                NaN     \n",
              " 2  Cities ranked by United States Census Bureau p...     \n",
              " \n",
              "   vteThe 100 most populous cities of the United States.1  \\\n",
              " 0  New York, New York Los Angeles, California Chi...       \n",
              " 1  New York, New York Los Angeles, California Chi...       \n",
              " 2  Cities ranked by United States Census Bureau p...       \n",
              " \n",
              "                                           Unnamed: 2  \\\n",
              " 0                                                NaN   \n",
              " 1  Portland, Oregon Louisville, Kentucky Memphis,...   \n",
              " 2                                                NaN   \n",
              " \n",
              "                                           Unnamed: 3  \\\n",
              " 0                                                NaN   \n",
              " 1  Arlington, Texas Aurora, Colorado New Orleans,...   \n",
              " 2                                                NaN   \n",
              " \n",
              "                                           Unnamed: 4  \n",
              " 0                                                NaN  \n",
              " 1  Chandler, Arizona North Las Vegas, Nevada Chul...  \n",
              " 2                                                NaN  ,\n",
              "     0                                                  1  \\\n",
              " 0 NaN  New York, New York Los Angeles, California Chi...   \n",
              " \n",
              "                                                    2  \\\n",
              " 0  Portland, Oregon Louisville, Kentucky Memphis,...   \n",
              " \n",
              "                                                    3  \\\n",
              " 0  Arlington, Texas Aurora, Colorado New Orleans,...   \n",
              " \n",
              "                                                    4  \n",
              " 0  Chandler, Arizona North Las Vegas, Nevada Chul...  ]"
            ]
          },
          "execution_count": 11,
          "metadata": {},
          "output_type": "execute_result"
        }
      ],
      "source": [
        "pd.read_html(\"https://en.wikipedia.org/wiki/List_of_United_States_cities_by_population\")"
      ]
    },
    {
      "cell_type": "markdown",
      "metadata": {
        "id": "pQwWgh_cqynb"
      },
      "source": [
        "However, this scrapes all the tables on the webpage, not just the one we want. As with Beautiful Soup, we can narrow the search by specifying the table attributes."
      ]
    },
    {
      "cell_type": "code",
      "execution_count": 12,
      "metadata": {
        "id": "4BKvPxa9qJ2-"
      },
      "outputs": [
        {
          "data": {
            "text/plain": [
              "[            City  ST 2023 estimate 2020 census  Change 2020 land area          \\\n",
              "             City  ST 2023 estimate 2020 census  Change            mi2     km2   \n",
              " 0    New York[c]  NY       8258035     8804190  −6.20%          300.5   778.3   \n",
              " 1    Los Angeles  CA       3820914     3898747  −2.00%          469.5  1216.0   \n",
              " 2        Chicago  IL       2664452     2746388  −2.98%          227.7   589.7   \n",
              " 3        Houston  TX       2314157     2304580  +0.42%          640.4  1658.6   \n",
              " 4        Phoenix  AZ       1650070     1608139  +2.61%          518.0  1341.6   \n",
              " ..           ...  ..           ...         ...     ...            ...     ...   \n",
              " 331         Yuma  AZ        100858       95548  +5.56%          120.7   312.6   \n",
              " 332  New Bedford  MA        100695      101079  −0.38%           20.0    51.8   \n",
              " 333   Suffolk[l]  VA        100659       94324  +6.72%          399.2  1033.9   \n",
              " 334     Hesperia  CA        100633       99818  +0.82%           72.7   188.3   \n",
              " 335    Davenport  IA        100354      101724  −1.35%           63.8   165.2   \n",
              " \n",
              "     2020 density                                      Location  \n",
              "            / mi2  / km2                               Location  \n",
              " 0          29298  11312    40°40′N 73°56′W﻿ / ﻿40.66°N 73.94°W  \n",
              " 1           8304   3206  34°01′N 118°25′W﻿ / ﻿34.02°N 118.41°W  \n",
              " 2          12061   4657    41°50′N 87°41′W﻿ / ﻿41.84°N 87.68°W  \n",
              " 3           3599   1390    29°47′N 95°23′W﻿ / ﻿29.79°N 95.39°W  \n",
              " 4           3105   1199  33°34′N 112°05′W﻿ / ﻿33.57°N 112.09°W  \n",
              " ..           ...    ...                                    ...  \n",
              " 331          792    306  32°31′N 114°31′W﻿ / ﻿32.52°N 114.52°W  \n",
              " 332         5054   1951    41°40′N 70°56′W﻿ / ﻿41.66°N 70.94°W  \n",
              " 333          236     91    36°42′N 76°38′W﻿ / ﻿36.70°N 76.63°W  \n",
              " 334         1373    530  34°24′N 117°19′W﻿ / ﻿34.40°N 117.32°W  \n",
              " 335         1594    615    41°34′N 90°36′W﻿ / ﻿41.56°N 90.60°W  \n",
              " \n",
              " [336 rows x 10 columns],\n",
              "   Municipio  2023 estimate  2020 census  Change 2020 land area  \\\n",
              " 0  San Juan         333005       342259  −2.70%     39.8 sq mi   \n",
              " 1   Bayamón         180835       185187  −2.35%     27.0 sq mi   \n",
              " 2  Carolina         150843       154815  −2.57%     20.7 sq mi   \n",
              " 3     Ponce         130251       137491  −5.27%     28.4 sq mi   \n",
              " 4    Caguas         124608       127244  −2.07%     10.9 sq mi   \n",
              " \n",
              "   2020 land area.1  2020 density 2020 density.1  \\\n",
              " 0        103.1 km2   8,599/sq mi      3,320/km2   \n",
              " 1         69.9 km2   6,859/sq mi      2,648/km2   \n",
              " 2         53.6 km2   7,479/sq mi      2,888/km2   \n",
              " 3         73.6 km2   4,841/sq mi      1,869/km2   \n",
              " 4         28.2 km2  11,674/sq mi      4,507/km2   \n",
              " \n",
              "                               Location  \n",
              " 0  18°24′N 66°04′W﻿ / ﻿18.40°N 66.06°W  \n",
              " 1  18°23′N 66°10′W﻿ / ﻿18.38°N 66.16°W  \n",
              " 2  18°25′N 65°59′W﻿ / ﻿18.41°N 65.98°W  \n",
              " 3  18°00′N 66°37′W﻿ / ﻿18.00°N 66.62°W  \n",
              " 4  18°14′N 66°02′W﻿ / ﻿18.23°N 66.04°W  ,\n",
              "               City  ST  2023 estimate  Peak population % decline from peak  \\\n",
              " 0        Allegheny  PA            NaN           129896                 NaN   \n",
              " 1         Brooklyn  NY            NaN           806343                 NaN   \n",
              " 2           Camden  NJ        71100.0           124555             −42.92%   \n",
              " 3           Canton  OH        69197.0           116912             −40.81%   \n",
              " 4   Citrus Heights  CA        86239.0           107439             −19.73%   \n",
              " 5        Daly City  CA        99833.0           104901              −4.83%   \n",
              " 6           Duluth  MN        87680.0           107312             −18.29%   \n",
              " 7             Erie  PA        92957.0           138440             −32.85%   \n",
              " 8       Fall River  MA        93840.0           120485             −22.11%   \n",
              " 9      Federal Way  WA        97701.0           101030              −3.30%   \n",
              " 10           Flint  MI        79661.0           196940             −59.55%   \n",
              " 11            Gary  IN        67652.0           178320             −62.06%   \n",
              " 12         Hammond  IN        76193.0           111698             −31.79%   \n",
              " 13         Livonia  MI        92185.0           110109             −16.28%   \n",
              " 14   Niagara Falls  NY        47599.0           102394             −53.51%   \n",
              " 15         Norwalk  CA        98078.0           105549              −7.08%   \n",
              " 16           Parma  OH        78951.0           100216             −21.22%   \n",
              " 17      Portsmouth  VA        97454.0           114773             −15.09%   \n",
              " 18         Reading  PA        94903.0           111171             −14.63%   \n",
              " 19         Roanoke  VA        99578.0           100220              −0.64%   \n",
              " 20        Scranton  PA        75805.0           143333             −47.11%   \n",
              " 21      Somerville  MA        80407.0           103908             −22.62%   \n",
              " 22      St. Joseph  MO        70634.0           102979             −31.41%   \n",
              " 23         Trenton  NJ        89620.0           128009             −29.99%   \n",
              " 24           Utica  NY        63607.0           101740             −37.48%   \n",
              " 25      Wilmington  DE        71675.0           112504             −36.29%   \n",
              " 26      Youngstown  OH        59108.0           170002             −65.23%   \n",
              " \n",
              "     Peak year Unnamed: 6  \n",
              " 0        1907        [z]  \n",
              " 1        1898       [aa]  \n",
              " 2        1950        NaN  \n",
              " 3        1950        NaN  \n",
              " 4        1990        NaN  \n",
              " 5        2020        NaN  \n",
              " 6        1960        NaN  \n",
              " 7        1960        NaN  \n",
              " 8        1920        NaN  \n",
              " 9        2020        NaN  \n",
              " 10       1960        NaN  \n",
              " 11       1960        NaN  \n",
              " 12       1960        NaN  \n",
              " 13       1970        NaN  \n",
              " 14       1960        NaN  \n",
              " 15       2010        NaN  \n",
              " 16       1970        NaN  \n",
              " 17       1960        NaN  \n",
              " 18       1930        NaN  \n",
              " 19       1980        NaN  \n",
              " 20       1930        NaN  \n",
              " 21       1930        NaN  \n",
              " 22       1900       [ab]  \n",
              " 23       1950        NaN  \n",
              " 24       1930        NaN  \n",
              " 25       1940        NaN  \n",
              " 26       1930        NaN  ]"
            ]
          },
          "execution_count": 12,
          "metadata": {},
          "output_type": "execute_result"
        }
      ],
      "source": [
        "pd.read_html(\"https://en.wikipedia.org/wiki/List_of_United_States_cities_by_population\", attrs = {'class': 'wikitable', \"style\": \"text-align:right\"})"
      ]
    },
    {
      "cell_type": "markdown",
      "metadata": {
        "id": "P6P7xCnPrBtS"
      },
      "source": [
        "This still returns 3 tables. As we remarked above, the table that we want is the first one (see `[0]` below)."
      ]
    },
    {
      "cell_type": "code",
      "execution_count": 13,
      "metadata": {
        "id": "96L5qJvGp7ks"
      },
      "outputs": [
        {
          "data": {
            "text/html": [
              "<div>\n",
              "<style scoped>\n",
              "    .dataframe tbody tr th:only-of-type {\n",
              "        vertical-align: middle;\n",
              "    }\n",
              "\n",
              "    .dataframe tbody tr th {\n",
              "        vertical-align: top;\n",
              "    }\n",
              "\n",
              "    .dataframe thead tr th {\n",
              "        text-align: left;\n",
              "    }\n",
              "</style>\n",
              "<table border=\"1\" class=\"dataframe\">\n",
              "  <thead>\n",
              "    <tr>\n",
              "      <th></th>\n",
              "      <th>City</th>\n",
              "      <th>ST</th>\n",
              "      <th>2023 estimate</th>\n",
              "      <th>2020 census</th>\n",
              "      <th>Change</th>\n",
              "      <th colspan=\"2\" halign=\"left\">2020 land area</th>\n",
              "      <th colspan=\"2\" halign=\"left\">2020 density</th>\n",
              "      <th>Location</th>\n",
              "    </tr>\n",
              "    <tr>\n",
              "      <th></th>\n",
              "      <th>City</th>\n",
              "      <th>ST</th>\n",
              "      <th>2023 estimate</th>\n",
              "      <th>2020 census</th>\n",
              "      <th>Change</th>\n",
              "      <th>mi2</th>\n",
              "      <th>km2</th>\n",
              "      <th>/ mi2</th>\n",
              "      <th>/ km2</th>\n",
              "      <th>Location</th>\n",
              "    </tr>\n",
              "  </thead>\n",
              "  <tbody>\n",
              "    <tr>\n",
              "      <th>0</th>\n",
              "      <td>New York[c]</td>\n",
              "      <td>NY</td>\n",
              "      <td>8258035</td>\n",
              "      <td>8804190</td>\n",
              "      <td>−6.20%</td>\n",
              "      <td>300.5</td>\n",
              "      <td>778.3</td>\n",
              "      <td>29298</td>\n",
              "      <td>11312</td>\n",
              "      <td>40°40′N 73°56′W﻿ / ﻿40.66°N 73.94°W</td>\n",
              "    </tr>\n",
              "    <tr>\n",
              "      <th>1</th>\n",
              "      <td>Los Angeles</td>\n",
              "      <td>CA</td>\n",
              "      <td>3820914</td>\n",
              "      <td>3898747</td>\n",
              "      <td>−2.00%</td>\n",
              "      <td>469.5</td>\n",
              "      <td>1216.0</td>\n",
              "      <td>8304</td>\n",
              "      <td>3206</td>\n",
              "      <td>34°01′N 118°25′W﻿ / ﻿34.02°N 118.41°W</td>\n",
              "    </tr>\n",
              "    <tr>\n",
              "      <th>2</th>\n",
              "      <td>Chicago</td>\n",
              "      <td>IL</td>\n",
              "      <td>2664452</td>\n",
              "      <td>2746388</td>\n",
              "      <td>−2.98%</td>\n",
              "      <td>227.7</td>\n",
              "      <td>589.7</td>\n",
              "      <td>12061</td>\n",
              "      <td>4657</td>\n",
              "      <td>41°50′N 87°41′W﻿ / ﻿41.84°N 87.68°W</td>\n",
              "    </tr>\n",
              "    <tr>\n",
              "      <th>3</th>\n",
              "      <td>Houston</td>\n",
              "      <td>TX</td>\n",
              "      <td>2314157</td>\n",
              "      <td>2304580</td>\n",
              "      <td>+0.42%</td>\n",
              "      <td>640.4</td>\n",
              "      <td>1658.6</td>\n",
              "      <td>3599</td>\n",
              "      <td>1390</td>\n",
              "      <td>29°47′N 95°23′W﻿ / ﻿29.79°N 95.39°W</td>\n",
              "    </tr>\n",
              "    <tr>\n",
              "      <th>4</th>\n",
              "      <td>Phoenix</td>\n",
              "      <td>AZ</td>\n",
              "      <td>1650070</td>\n",
              "      <td>1608139</td>\n",
              "      <td>+2.61%</td>\n",
              "      <td>518.0</td>\n",
              "      <td>1341.6</td>\n",
              "      <td>3105</td>\n",
              "      <td>1199</td>\n",
              "      <td>33°34′N 112°05′W﻿ / ﻿33.57°N 112.09°W</td>\n",
              "    </tr>\n",
              "    <tr>\n",
              "      <th>...</th>\n",
              "      <td>...</td>\n",
              "      <td>...</td>\n",
              "      <td>...</td>\n",
              "      <td>...</td>\n",
              "      <td>...</td>\n",
              "      <td>...</td>\n",
              "      <td>...</td>\n",
              "      <td>...</td>\n",
              "      <td>...</td>\n",
              "      <td>...</td>\n",
              "    </tr>\n",
              "    <tr>\n",
              "      <th>331</th>\n",
              "      <td>Yuma</td>\n",
              "      <td>AZ</td>\n",
              "      <td>100858</td>\n",
              "      <td>95548</td>\n",
              "      <td>+5.56%</td>\n",
              "      <td>120.7</td>\n",
              "      <td>312.6</td>\n",
              "      <td>792</td>\n",
              "      <td>306</td>\n",
              "      <td>32°31′N 114°31′W﻿ / ﻿32.52°N 114.52°W</td>\n",
              "    </tr>\n",
              "    <tr>\n",
              "      <th>332</th>\n",
              "      <td>New Bedford</td>\n",
              "      <td>MA</td>\n",
              "      <td>100695</td>\n",
              "      <td>101079</td>\n",
              "      <td>−0.38%</td>\n",
              "      <td>20.0</td>\n",
              "      <td>51.8</td>\n",
              "      <td>5054</td>\n",
              "      <td>1951</td>\n",
              "      <td>41°40′N 70°56′W﻿ / ﻿41.66°N 70.94°W</td>\n",
              "    </tr>\n",
              "    <tr>\n",
              "      <th>333</th>\n",
              "      <td>Suffolk[l]</td>\n",
              "      <td>VA</td>\n",
              "      <td>100659</td>\n",
              "      <td>94324</td>\n",
              "      <td>+6.72%</td>\n",
              "      <td>399.2</td>\n",
              "      <td>1033.9</td>\n",
              "      <td>236</td>\n",
              "      <td>91</td>\n",
              "      <td>36°42′N 76°38′W﻿ / ﻿36.70°N 76.63°W</td>\n",
              "    </tr>\n",
              "    <tr>\n",
              "      <th>334</th>\n",
              "      <td>Hesperia</td>\n",
              "      <td>CA</td>\n",
              "      <td>100633</td>\n",
              "      <td>99818</td>\n",
              "      <td>+0.82%</td>\n",
              "      <td>72.7</td>\n",
              "      <td>188.3</td>\n",
              "      <td>1373</td>\n",
              "      <td>530</td>\n",
              "      <td>34°24′N 117°19′W﻿ / ﻿34.40°N 117.32°W</td>\n",
              "    </tr>\n",
              "    <tr>\n",
              "      <th>335</th>\n",
              "      <td>Davenport</td>\n",
              "      <td>IA</td>\n",
              "      <td>100354</td>\n",
              "      <td>101724</td>\n",
              "      <td>−1.35%</td>\n",
              "      <td>63.8</td>\n",
              "      <td>165.2</td>\n",
              "      <td>1594</td>\n",
              "      <td>615</td>\n",
              "      <td>41°34′N 90°36′W﻿ / ﻿41.56°N 90.60°W</td>\n",
              "    </tr>\n",
              "  </tbody>\n",
              "</table>\n",
              "<p>336 rows × 10 columns</p>\n",
              "</div>"
            ],
            "text/plain": [
              "            City  ST 2023 estimate 2020 census  Change 2020 land area          \\\n",
              "            City  ST 2023 estimate 2020 census  Change            mi2     km2   \n",
              "0    New York[c]  NY       8258035     8804190  −6.20%          300.5   778.3   \n",
              "1    Los Angeles  CA       3820914     3898747  −2.00%          469.5  1216.0   \n",
              "2        Chicago  IL       2664452     2746388  −2.98%          227.7   589.7   \n",
              "3        Houston  TX       2314157     2304580  +0.42%          640.4  1658.6   \n",
              "4        Phoenix  AZ       1650070     1608139  +2.61%          518.0  1341.6   \n",
              "..           ...  ..           ...         ...     ...            ...     ...   \n",
              "331         Yuma  AZ        100858       95548  +5.56%          120.7   312.6   \n",
              "332  New Bedford  MA        100695      101079  −0.38%           20.0    51.8   \n",
              "333   Suffolk[l]  VA        100659       94324  +6.72%          399.2  1033.9   \n",
              "334     Hesperia  CA        100633       99818  +0.82%           72.7   188.3   \n",
              "335    Davenport  IA        100354      101724  −1.35%           63.8   165.2   \n",
              "\n",
              "    2020 density                                      Location  \n",
              "           / mi2  / km2                               Location  \n",
              "0          29298  11312    40°40′N 73°56′W﻿ / ﻿40.66°N 73.94°W  \n",
              "1           8304   3206  34°01′N 118°25′W﻿ / ﻿34.02°N 118.41°W  \n",
              "2          12061   4657    41°50′N 87°41′W﻿ / ﻿41.84°N 87.68°W  \n",
              "3           3599   1390    29°47′N 95°23′W﻿ / ﻿29.79°N 95.39°W  \n",
              "4           3105   1199  33°34′N 112°05′W﻿ / ﻿33.57°N 112.09°W  \n",
              "..           ...    ...                                    ...  \n",
              "331          792    306  32°31′N 114°31′W﻿ / ﻿32.52°N 114.52°W  \n",
              "332         5054   1951    41°40′N 70°56′W﻿ / ﻿41.66°N 70.94°W  \n",
              "333          236     91    36°42′N 76°38′W﻿ / ﻿36.70°N 76.63°W  \n",
              "334         1373    530  34°24′N 117°19′W﻿ / ﻿34.40°N 117.32°W  \n",
              "335         1594    615    41°34′N 90°36′W﻿ / ﻿41.56°N 90.60°W  \n",
              "\n",
              "[336 rows x 10 columns]"
            ]
          },
          "execution_count": 13,
          "metadata": {},
          "output_type": "execute_result"
        }
      ],
      "source": [
        "df_cities2 = pd.read_html(\"https://en.wikipedia.org/wiki/List_of_United_States_cities_by_population\", attrs = {'class': 'wikitable', \"style\": \"text-align:right\"})[0]\n",
        "df_cities2"
      ]
    },
    {
      "cell_type": "markdown",
      "metadata": {
        "id": "TjeczIIMYeqj"
      },
      "source": [
        "Wait, that seemed much easier than using Beautiful Soup, and it returned a data frame, and we even got for free some formatting like removing the commas from the population! Why didn't we just use `read_html` in the first place? It's true the `read_html` works well when scraping information from an HTML *table*. Unfortunately, you often want to scrape information from a webpage that isn't conveniently stored in an HTML table, in which case `read_html` won't work. (It only searches for `<table>`, `<th>`, `<tr>`, and `<td>` tags, but there are many other HTML tags.) Though Beautiful Soup is not as simple as `read_html`, it is more flexible and thus more widely applicable."
      ]
    },
    {
      "cell_type": "markdown",
      "metadata": {
        "id": "ctj79YpgX6hw"
      },
      "source": [
        "## Scraping information that is NOT in a `<table>` with Beautiful Soup"
      ]
    },
    {
      "cell_type": "markdown",
      "metadata": {
        "id": "KK6rJQbuuWwF"
      },
      "source": [
        "The Cal Poly course catalog http://catalog.calpoly.edu/collegesandprograms/collegeofsciencemathematics/statistics/#courseinventory contains a list of courses offered by the Statistics department. **You will scrape this website to obtain a Pandas data frame with one row for each DATA or STAT course and two columns: course name and number (e.g, DATA 301. Introduction to Data Science) and term typically offered (e.g., Term Typically Offered: F, W, SP).**"
      ]
    },
    {
      "cell_type": "markdown",
      "metadata": {
        "id": "hbLLrwxs0eWd"
      },
      "source": [
        "Note: Pandas `read_html` is not help here since the courses are not stored in a `<table>.`"
      ]
    },
    {
      "cell_type": "code",
      "execution_count": 14,
      "metadata": {
        "id": "QIRewkca0jhz"
      },
      "outputs": [
        {
          "data": {
            "text/plain": [
              "[                                        Program name   Program type\n",
              " 0                              Actuarial Preparation          Minor\n",
              " 1  Cross Disciplinary Studies Minor in Bioinforma...          Minor\n",
              " 2   Cross Disciplinary Studies Minor in Data Science          Minor\n",
              " 3                                         Statistics  BS, MS, Minor]"
            ]
          },
          "execution_count": 14,
          "metadata": {},
          "output_type": "execute_result"
        }
      ],
      "source": [
        "pd.read_html(\"http://catalog.calpoly.edu/collegesandprograms/collegeofsciencemathematics/statistics/#courseinventory\")"
      ]
    },
    {
      "cell_type": "markdown",
      "metadata": {
        "id": "lvSrhxS4Se7a"
      },
      "source": [
        "\n",
        "Notes/suggestions:\n",
        "\n",
        "\n",
        "- Inspect the page source as you write your code\n",
        "- The courses are not stored in a `<table>`. How are they stored?\n",
        "- You will need to write a loop to get the information for all courses, but you might want to try just scraping the info for DATA 100 first\n",
        "- What kind of tag is the course name stored in? What is the `class` of the tag?\n",
        "- What kind of tag is the quarter(s) the course is offered stored in? What is the `class` of the tag? Is this the only tag of this type with the class? How will you get the one you want?\n",
        "- You don't have to remove the number of units (e.g., 4 units) from the course name and number, but you can try it if you want\n",
        "- You will need to pull the text from the tag. If `.text` returns text with \"\\n\" at the end, try `get_text(strip = True)` instead of `text`\n",
        "- Don't forget to convert to a Pandas Data Frame; it should have 74 rows and 2 columns\n",
        "- The goal of this exercise is just to create the Data Frame. If you were going to use it then you might need to clean the data first. (You can use Beautiful Soup to do some of the cleaning for you, but that goes beyond our scope.)\n",
        "\n"
      ]
    },
    {
      "cell_type": "code",
      "execution_count": 15,
      "metadata": {},
      "outputs": [],
      "source": [
        "response2 = requests.get(\"http://catalog.calpoly.edu/collegesandprograms/collegeofsciencemathematics/statistics/#courseinventory\")\n",
        "\n",
        "soup2 = BeautifulSoup(response2.text, 'html.parser')"
      ]
    },
    {
      "cell_type": "code",
      "execution_count": 16,
      "metadata": {},
      "outputs": [
        {
          "name": "stdout",
          "output_type": "stream",
          "text": [
            "{'course_title': 'DATA\\xa0100. Data Science for All I.', 'course_term': 'Term Typically Offered: F, W, SP'}\n",
            "{'course_title': 'DATA\\xa0301. Introduction to Data Science.', 'course_term': 'Term Typically Offered: F, W, SP'}\n",
            "{'course_title': 'DATA\\xa0401. Data Science Process and Ethics.', 'course_term': 'Term Typically Offered: F'}\n",
            "{'course_title': 'DATA\\xa0402. Mathematical Foundations of Data Science.', 'course_term': 'Term Typically Offered: F'}\n",
            "{'course_title': 'DATA\\xa0403. Data Science Projects Laboratory.', 'course_term': 'Term Typically Offered: F'}\n"
          ]
        }
      ],
      "source": [
        "rows2 = []\n",
        "\n",
        "# Iterate over each 'courseblock' div\n",
        "for course in soup2.find_all(\"div\", class_=\"courseblock\"):\n",
        "    \n",
        "    # Extract the course title (might contain both the course name and number)\n",
        "    course_title_tag = course.find(\"p\", class_=\"courseblocktitle\")\n",
        "    \n",
        "    # If there is a span containing course hours, remove it\n",
        "    if course_title_tag:\n",
        "        course_hours_span = course_title_tag.find(\"span\", class_=\"courseblockhours\")\n",
        "        if course_hours_span:\n",
        "            course_hours_span.extract()  # Removes the span tag from the title\n",
        "        \n",
        "        # Now, extract just the course title text\n",
        "        course_title = course_title_tag.get_text(strip=True)\n",
        "    else:\n",
        "        course_title = \"Title Not Available\"\n",
        "    \n",
        "    # Extract the term information from the \"noindent\" paragraph\n",
        "    course_term_tag = course.find(\"p\", class_=\"noindent\")\n",
        "    course_term = course_term_tag.get_text(strip=True) if course_term_tag else \"Not Available\"\n",
        "    \n",
        "    # Append the extracted information to the list, excluding course hours\n",
        "    rows2.append({\n",
        "        \"course_title\": course_title,\n",
        "        \"course_term\": course_term\n",
        "    })\n",
        "\n",
        "# Output the extracted data (for example, print the first 5 rows)\n",
        "for row in rows2[:5]:\n",
        "    print(row)\n"
      ]
    },
    {
      "cell_type": "code",
      "execution_count": 17,
      "metadata": {},
      "outputs": [
        {
          "name": "stdout",
          "output_type": "stream",
          "text": [
            "                                         course_title  \\\n",
            "0                   DATA 100. Data Science for All I.   \n",
            "1             DATA 301. Introduction to Data Science.   \n",
            "2          DATA 401. Data Science Process and Ethics.   \n",
            "3   DATA 402. Mathematical Foundations of Data Sci...   \n",
            "4         DATA 403. Data Science Projects Laboratory.   \n",
            "..                                                ...   \n",
            "69             STAT 551. Statistical Learning with R.   \n",
            "70           STAT 566. Graduate Consulting Practicum.   \n",
            "71                STAT 570. Selected Advanced Topics.   \n",
            "72          STAT 590. Graduate Seminar in Statistics.   \n",
            "73                                  STAT 599. Thesis.   \n",
            "\n",
            "                         course_term  \n",
            "0   Term Typically Offered: F, W, SP  \n",
            "1   Term Typically Offered: F, W, SP  \n",
            "2          Term Typically Offered: F  \n",
            "3          Term Typically Offered: F  \n",
            "4          Term Typically Offered: F  \n",
            "..                               ...  \n",
            "69         Term Typically Offered: F  \n",
            "70        Term Typically Offered: SP  \n",
            "71       Term Typically Offered: TBD  \n",
            "72  Term Typically Offered: F, W, SP  \n",
            "73       Term Typically Offered: TBD  \n",
            "\n",
            "[74 rows x 2 columns]\n"
          ]
        }
      ],
      "source": [
        "catalog = pd.DataFrame(rows2)\n",
        "print(catalog)"
      ]
    },
    {
      "cell_type": "markdown",
      "metadata": {
        "id": "17e8M_OsaHJz"
      },
      "source": [
        "Hints:\n",
        "\n",
        "- Each course is represented by a `<div>` with `class=courseblock`, so you can find all the courses with `soup.find_all(\"div\", {\"class\": \"courseblock\"})`\n",
        "- The course name is in a `<p>` tag with `class=courseblocktitle`, inside a `<strong>` tag. (Though I don't think we need to find the strong tag here.)\n",
        "- The term typically offered is in `<p>` tag with `class=noindent`. However, there are several tags with this class; term typically offered is the first one.\n",
        "- If you want to use Beautiful Soup to remove the course units (e.g., 4 units), find the `<span>` tag within the course name tag and `.extract()` this span tag"
      ]
    }
  ],
  "metadata": {
    "colab": {
      "provenance": []
    },
    "kernelspec": {
      "display_name": "Python 3",
      "name": "python3"
    },
    "language_info": {
      "codemirror_mode": {
        "name": "ipython",
        "version": 3
      },
      "file_extension": ".py",
      "mimetype": "text/x-python",
      "name": "python",
      "nbconvert_exporter": "python",
      "pygments_lexer": "ipython3",
      "version": "3.12.5"
    }
  },
  "nbformat": 4,
  "nbformat_minor": 0
}
