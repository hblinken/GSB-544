{
 "cells": [
  {
   "cell_type": "markdown",
   "metadata": {
    "id": "TxbDFsJARAMD"
   },
   "source": [
    "# Palmer Penguins Modeling\n",
    "\n",
    "Import the Palmer Penguins dataset and print out the first few rows.\n",
    "\n",
    "Suppose we want to predict `species` using the other variables in the dataset.\n",
    "\n",
    "**Dummify** all variables that require this."
   ]
  },
  {
   "cell_type": "code",
   "execution_count": 11,
   "metadata": {
    "id": "QV2uolyOQ65C"
   },
   "outputs": [],
   "source": [
    "import pandas as pd\n",
    "from palmerpenguins import load_penguins\n",
    "import numpy as np\n",
    "from sklearn.pipeline import Pipeline\n",
    "from sklearn.compose import make_column_selector, ColumnTransformer\n",
    "from sklearn.preprocessing import StandardScaler, OneHotEncoder, PolynomialFeatures\n",
    "from sklearn.compose import ColumnTransformer\n",
    "from sklearn.impute import SimpleImputer\n",
    "from sklearn.preprocessing import StandardScaler, OneHotEncoder\n",
    "from sklearn.linear_model import LinearRegression, LogisticRegression\n",
    "from sklearn.model_selection import train_test_split\n",
    "from sklearn.pipeline import Pipeline\n",
    "from sklearn.metrics import mean_squared_error\n",
    "import warnings\n",
    "from sklearn.neighbors import KNeighborsRegressor\n",
    "from sklearn.tree import DecisionTreeRegressor\n",
    "from sklearn.metrics import accuracy_score\n",
    "from sklearn.pipeline import Pipeline\n",
    "from sklearn.neighbors import KNeighborsClassifier\n",
    "from sklearn.tree import DecisionTreeClassifier\n",
    "from sklearn.linear_model import LogisticRegression\n",
    "penguins = load_penguins()\n",
    "penguins.dropna(inplace=True)\n"
   ]
  },
  {
   "cell_type": "code",
   "execution_count": 2,
   "metadata": {},
   "outputs": [],
   "source": [
    "pengu_clean = pd.get_dummies(penguins, columns=['species', 'island', 'sex'], drop_first=True)"
   ]
  },
  {
   "cell_type": "code",
   "execution_count": null,
   "metadata": {},
   "outputs": [],
   "source": [
    "X = penguins.drop('species', axis = 1)\n",
    "y = penguins['species']\n",
    "\n",
    "X_train, X_test, y_train, y_test = train_test_split(X, y, test_size=0.25, random_state= 52, stratify=y)"
   ]
  },
  {
   "cell_type": "markdown",
   "metadata": {
    "id": "HecNBVAnRHod"
   },
   "source": [
    "Let's use the other variables to predict `species`. Prepare your data and fit the following models on the entire dataset:\n",
    "\n",
    "* Two kNN models (for different values of K)\n",
    "* Two decision tree models (for different complexities of trees)\n",
    "\n",
    "Compute the following, for each of your models, on test data. Keep in mind that you may need to stratify your creation of the training and test data.\n",
    "\n",
    "* Confusion matrix\n",
    "* Overall Accuracy\n",
    "* Precision, Recall, AUC, and F1-score for each species\n",
    "\n",
    "Create one ROC plot for the species of your choice."
   ]
  },
  {
   "cell_type": "markdown",
   "metadata": {},
   "source": [
    "# KNN 1"
   ]
  },
  {
   "cell_type": "code",
   "execution_count": 18,
   "metadata": {
    "id": "U1onRGJQR8T_"
   },
   "outputs": [
    {
     "name": "stdout",
     "output_type": "stream",
     "text": [
      "Training accuracy: 0.9959839357429718\n",
      "Test accuracy: 0.9880952380952381\n"
     ]
    }
   ],
   "source": [
    "### k = 5\n",
    "ct = ColumnTransformer(\n",
    "  [\n",
    "    (\"dummify\", \n",
    "    OneHotEncoder(sparse_output = False, handle_unknown='ignore'),\n",
    "    make_column_selector(dtype_include=object)),\n",
    "    (\"standardize\", \n",
    "    StandardScaler(), \n",
    "    make_column_selector(dtype_include=np.number))\n",
    "  ],\n",
    "  remainder = \"passthrough\"\n",
    ").set_output(transform= \"pandas\")\n",
    "\n",
    "#interaction = PolynomialFeatures(degree= 3, include_bias=False)\n",
    "\n",
    "knn_pipeline = Pipeline(\n",
    "  [(\"preprocessing\", ct),\n",
    " #  (\"interaction\", interaction),\n",
    "  (\"knn\", KNeighborsClassifier(n_neighbors=5))]\n",
    ")\n",
    "\n",
    "knn_pipeline.fit(X_train, y_train)\n",
    "y_train_pred = knn_pipeline.predict(X_train)\n",
    "y_test_pred = knn_pipeline.predict(X_test)\n",
    "\n",
    "# Calculate training and test accuracy\n",
    "train_accuracy = accuracy_score(y_train, y_train_pred)\n",
    "test_accuracy = accuracy_score(y_test, y_test_pred)\n",
    "\n",
    "print(f\"Training accuracy: {train_accuracy}\")\n",
    "print(f\"Test accuracy: {test_accuracy}\")"
   ]
  },
  {
   "cell_type": "code",
   "execution_count": 19,
   "metadata": {},
   "outputs": [
    {
     "name": "stdout",
     "output_type": "stream",
     "text": [
      "Confusion Matrix:\n",
      " [[40  0  0]\n",
      " [ 1 14  0]\n",
      " [ 0  0 29]]\n"
     ]
    }
   ],
   "source": [
    "from sklearn.metrics import confusion_matrix\n",
    "\n",
    "# Make predictions\n",
    "y_test_pred = knn_pipeline.predict(X_test)\n",
    "\n",
    "# Create the confusion matrix\n",
    "conf_matrix = confusion_matrix(y_test, y_test_pred)\n",
    "print(\"Confusion Matrix:\\n\", conf_matrix)\n"
   ]
  },
  {
   "cell_type": "code",
   "execution_count": 20,
   "metadata": {},
   "outputs": [
    {
     "name": "stdout",
     "output_type": "stream",
     "text": [
      "Overall Accuracy: 0.9880952380952381\n"
     ]
    }
   ],
   "source": [
    "from sklearn.metrics import accuracy_score\n",
    "\n",
    "accuracy = accuracy_score(y_test, y_test_pred)\n",
    "print(\"Overall Accuracy:\", accuracy)\n"
   ]
  },
  {
   "cell_type": "code",
   "execution_count": 21,
   "metadata": {},
   "outputs": [
    {
     "name": "stdout",
     "output_type": "stream",
     "text": [
      "Classification Report:\n",
      "               precision    recall  f1-score   support\n",
      "\n",
      "      Adelie       0.98      1.00      0.99        40\n",
      "   Chinstrap       1.00      0.93      0.97        15\n",
      "      Gentoo       1.00      1.00      1.00        29\n",
      "\n",
      "    accuracy                           0.99        84\n",
      "   macro avg       0.99      0.98      0.98        84\n",
      "weighted avg       0.99      0.99      0.99        84\n",
      "\n",
      "AUC Score: 0.98510101010101\n"
     ]
    }
   ],
   "source": [
    "from sklearn.metrics import classification_report, roc_auc_score\n",
    "from sklearn.preprocessing import label_binarize\n",
    "\n",
    "# Binarize the species classes for multi-class AUC\n",
    "y_test_binarized = label_binarize(y_test, classes=[\"Adelie\", \"Chinstrap\", \"Gentoo\"])\n",
    "y_test_pred_binarized = label_binarize(y_test_pred, classes=[\"Adelie\", \"Chinstrap\", \"Gentoo\"])\n",
    "\n",
    "# Classification report for Precision, Recall, F1-Score\n",
    "print(\"Classification Report:\\n\", classification_report(y_test, y_test_pred, target_names=[\"Adelie\", \"Chinstrap\", \"Gentoo\"]))\n",
    "\n",
    "# AUC score (one-vs-rest AUC)\n",
    "auc = roc_auc_score(y_test_binarized, y_test_pred_binarized, average=\"macro\", multi_class=\"ovr\")\n",
    "print(\"AUC Score:\", auc)\n"
   ]
  },
  {
   "cell_type": "code",
   "execution_count": 31,
   "metadata": {},
   "outputs": [
    {
     "data": {
      "image/png": "[encoded data removed]",
      "text/plain": [
       "<Figure size 640x480 with 1 Axes>"
      ]
     },
     "metadata": {},
     "output_type": "display_data"
    }
   ],
   "source": [
    "from sklearn.metrics import roc_curve\n",
    "import matplotlib.pyplot as plt\n",
    "\n",
    "# Get probabilities for each class\n",
    "y_test_prob = knn_pipeline.predict_proba(X_test)\n",
    "\n",
    "# Plot ROC curve for a single species (e.g., \"Adelie\" with index 0)\n",
    "fpr, tpr, _ = roc_curve(y_test_binarized[:, 0], y_test_prob[:, 0])\n",
    "\n",
    "plt.plot(fpr, tpr, color='blue', label='ROC curve (area = %0.2f)' % auc)\n",
    "plt.xlabel(\"False Positive Rate\")\n",
    "plt.ylabel(\"True Positive Rate\")\n",
    "plt.title(\"ROC Curve for Adelie Species\")\n",
    "plt.legend(loc=\"lower right\")\n",
    "plt.show()\n"
   ]
  },
  {
   "cell_type": "markdown",
   "metadata": {},
   "source": [
    "# KNN 2"
   ]
  },
  {
   "cell_type": "code",
   "execution_count": 22,
   "metadata": {},
   "outputs": [
    {
     "name": "stdout",
     "output_type": "stream",
     "text": [
      "Training accuracy: 0.9718875502008032\n",
      "Test accuracy: 0.9523809523809523\n"
     ]
    }
   ],
   "source": [
    "### k = 50\n",
    "ct = ColumnTransformer(\n",
    "  [\n",
    "    (\"dummify\", \n",
    "    OneHotEncoder(sparse_output = False, handle_unknown='ignore'),\n",
    "    make_column_selector(dtype_include=object)),\n",
    "    (\"standardize\", \n",
    "    StandardScaler(), \n",
    "    make_column_selector(dtype_include=np.number))\n",
    "  ],\n",
    "  remainder = \"passthrough\"\n",
    ").set_output(transform= \"pandas\")\n",
    "\n",
    "#interaction = PolynomialFeatures(degree= 3, include_bias=False)\n",
    "\n",
    "knn_pipeline = Pipeline(\n",
    "  [(\"preprocessing\", ct),\n",
    " #  (\"interaction\", interaction),\n",
    "  (\"knn\", KNeighborsClassifier(n_neighbors=50))]\n",
    ")\n",
    "\n",
    "knn_pipeline.fit(X_train, y_train)\n",
    "y_train_pred = knn_pipeline.predict(X_train)\n",
    "y_test_pred = knn_pipeline.predict(X_test)\n",
    "\n",
    "# Calculate training and test accuracy\n",
    "train_accuracy = accuracy_score(y_train, y_train_pred)\n",
    "test_accuracy = accuracy_score(y_test, y_test_pred)\n",
    "\n",
    "print(f\"Training accuracy: {train_accuracy}\")\n",
    "print(f\"Test accuracy: {test_accuracy}\")"
   ]
  },
  {
   "cell_type": "code",
   "execution_count": 23,
   "metadata": {},
   "outputs": [
    {
     "name": "stdout",
     "output_type": "stream",
     "text": [
      "Confusion Matrix:\n",
      " [[40  0  0]\n",
      " [ 4 11  0]\n",
      " [ 0  0 29]]\n"
     ]
    }
   ],
   "source": [
    "from sklearn.metrics import confusion_matrix\n",
    "\n",
    "# Make predictions\n",
    "y_test_pred = knn_pipeline.predict(X_test)\n",
    "\n",
    "# Create the confusion matrix\n",
    "conf_matrix = confusion_matrix(y_test, y_test_pred)\n",
    "print(\"Confusion Matrix:\\n\", conf_matrix)\n"
   ]
  },
  {
   "cell_type": "code",
   "execution_count": 24,
   "metadata": {},
   "outputs": [
    {
     "name": "stdout",
     "output_type": "stream",
     "text": [
      "Overall Accuracy: 0.9523809523809523\n"
     ]
    }
   ],
   "source": [
    "accuracy = accuracy_score(y_test, y_test_pred)\n",
    "print(\"Overall Accuracy:\", accuracy)\n"
   ]
  },
  {
   "cell_type": "code",
   "execution_count": 25,
   "metadata": {},
   "outputs": [
    {
     "name": "stdout",
     "output_type": "stream",
     "text": [
      "Classification Report:\n",
      "               precision    recall  f1-score   support\n",
      "\n",
      "      Adelie       0.91      1.00      0.95        40\n",
      "   Chinstrap       1.00      0.73      0.85        15\n",
      "      Gentoo       1.00      1.00      1.00        29\n",
      "\n",
      "    accuracy                           0.95        84\n",
      "   macro avg       0.97      0.91      0.93        84\n",
      "weighted avg       0.96      0.95      0.95        84\n",
      "\n",
      "AUC Score: 0.9404040404040405\n"
     ]
    }
   ],
   "source": [
    "# Binarize the species classes for multi-class AUC\n",
    "y_test_binarized = label_binarize(y_test, classes=[\"Adelie\", \"Chinstrap\", \"Gentoo\"])\n",
    "y_test_pred_binarized = label_binarize(y_test_pred, classes=[\"Adelie\", \"Chinstrap\", \"Gentoo\"])\n",
    "\n",
    "# Classification report for Precision, Recall, F1-Score\n",
    "print(\"Classification Report:\\n\", classification_report(y_test, y_test_pred, target_names=[\"Adelie\", \"Chinstrap\", \"Gentoo\"]))\n",
    "\n",
    "# AUC score (one-vs-rest AUC)\n",
    "auc = roc_auc_score(y_test_binarized, y_test_pred_binarized, average=\"macro\", multi_class=\"ovr\")\n",
    "print(\"AUC Score:\", auc)"
   ]
  },
  {
   "cell_type": "markdown",
   "metadata": {},
   "source": [
    "# Decision Tree 1 "
   ]
  },
  {
   "cell_type": "code",
   "execution_count": 29,
   "metadata": {},
   "outputs": [
    {
     "name": "stdout",
     "output_type": "stream",
     "text": [
      "Training Accuracy: 1.0\n",
      "Test Accuracy: 0.9047619047619048\n",
      "Confusion Matrix:\n",
      " [[35  5  0]\n",
      " [ 2 13  0]\n",
      " [ 1  0 28]]\n",
      "Classification Report:\n",
      "               precision    recall  f1-score   support\n",
      "\n",
      "      Adelie       0.92      0.88      0.90        40\n",
      "   Chinstrap       0.72      0.87      0.79        15\n",
      "      Gentoo       1.00      0.97      0.98        29\n",
      "\n",
      "    accuracy                           0.90        84\n",
      "   macro avg       0.88      0.90      0.89        84\n",
      "weighted avg       0.91      0.90      0.91        84\n",
      "\n",
      "AUC Score: 0.9277563869580362\n"
     ]
    }
   ],
   "source": [
    "dt_pipeline = Pipeline(\n",
    "    [\n",
    "        (\"preprocessing\", ct),\n",
    "        (\"dt\", DecisionTreeClassifier(max_depth=5))  # Adjust max_depth as needed\n",
    "    ]\n",
    ")\n",
    "\n",
    "# Fit the pipeline\n",
    "dt_pipeline.fit(X_train, y_train)\n",
    "\n",
    "# Predict on the training and test sets\n",
    "y_train_pred = dt_pipeline.predict(X_train)\n",
    "y_test_pred = dt_pipeline.predict(X_test)\n",
    "\n",
    "# Calculate and print overall accuracy\n",
    "train_accuracy = accuracy_score(y_train, y_train_pred)\n",
    "test_accuracy = accuracy_score(y_test, y_test_pred)\n",
    "print(f\"Training Accuracy: {train_accuracy}\")\n",
    "print(f\"Test Accuracy: {test_accuracy}\")\n",
    "\n",
    "# Print confusion matrix and classification report for the test set\n",
    "conf_matrix = confusion_matrix(y_test, y_test_pred)\n",
    "print(\"Confusion Matrix:\\n\", conf_matrix)\n",
    "\n",
    "\n",
    "# Binarize the species classes for multi-class AUC\n",
    "y_test_binarized = label_binarize(y_test, classes=[\"Adelie\", \"Chinstrap\", \"Gentoo\"])\n",
    "y_test_pred_binarized = label_binarize(y_test_pred, classes=[\"Adelie\", \"Chinstrap\", \"Gentoo\"])\n",
    "\n",
    "# Classification report for Precision, Recall, F1-Score\n",
    "print(\"Classification Report:\\n\", classification_report(y_test, y_test_pred, target_names=[\"Adelie\", \"Chinstrap\", \"Gentoo\"]))\n",
    "\n",
    "# AUC score (one-vs-rest AUC)\n",
    "auc = roc_auc_score(y_test_binarized, y_test_pred_binarized, average=\"macro\", multi_class=\"ovr\")\n",
    "print(\"AUC Score:\", auc)"
   ]
  },
  {
   "cell_type": "markdown",
   "metadata": {},
   "source": [
    "# Decision Tree 2"
   ]
  },
  {
   "cell_type": "code",
   "execution_count": 30,
   "metadata": {},
   "outputs": [
    {
     "name": "stdout",
     "output_type": "stream",
     "text": [
      "Training Accuracy: 1.0\n",
      "Test Accuracy: 0.9642857142857143\n",
      "Confusion Matrix:\n",
      " [[39  1  0]\n",
      " [ 1 14  0]\n",
      " [ 1  0 28]]\n",
      "Classification Report:\n",
      "               precision    recall  f1-score   support\n",
      "\n",
      "      Adelie       0.95      0.97      0.96        40\n",
      "   Chinstrap       0.93      0.93      0.93        15\n",
      "      Gentoo       1.00      0.97      0.98        29\n",
      "\n",
      "    accuracy                           0.96        84\n",
      "   macro avg       0.96      0.96      0.96        84\n",
      "weighted avg       0.96      0.96      0.96        84\n",
      "\n",
      "AUC Score: 0.9277563869580362\n"
     ]
    }
   ],
   "source": [
    "dt_pipeline = Pipeline(\n",
    "    [\n",
    "        (\"preprocessing\", ct),\n",
    "        (\"dt\", DecisionTreeClassifier(max_depth=20, min_samples_split=2))  # Adjust max_depth as needed\n",
    "    ]\n",
    ")\n",
    "\n",
    "# Fit the pipeline\n",
    "dt_pipeline.fit(X_train, y_train)\n",
    "\n",
    "# Predict on the training and test sets\n",
    "y_train_pred = dt_pipeline.predict(X_train)\n",
    "y_test_pred = dt_pipeline.predict(X_test)\n",
    "\n",
    "# Calculate and print overall accuracy\n",
    "train_accuracy = accuracy_score(y_train, y_train_pred)\n",
    "test_accuracy = accuracy_score(y_test, y_test_pred)\n",
    "print(f\"Training Accuracy: {train_accuracy}\")\n",
    "print(f\"Test Accuracy: {test_accuracy}\")\n",
    "\n",
    "# Print confusion matrix and classification report for the test set\n",
    "conf_matrix = confusion_matrix(y_test, y_test_pred)\n",
    "print(\"Confusion Matrix:\\n\", conf_matrix)\n",
    "\n",
    "# Detailed classification report (precision, recall, f1-score for each class)\n",
    "print(\"Classification Report:\\n\", classification_report(y_test, y_test_pred, target_names=[\"Adelie\", \"Chinstrap\", \"Gentoo\"]))\n",
    "\n",
    "# AUC score (one-vs-rest AUC)\n",
    "auc = roc_auc_score(y_test_binarized, y_test_pred_binarized, average=\"macro\", multi_class=\"ovr\")\n",
    "print(\"AUC Score:\", auc)"
   ]
  }
 ],
 "metadata": {
  "colab": {
   "provenance": []
  },
  "kernelspec": {
   "display_name": "Python 3",
   "name": "python3"
  },
  "language_info": {
   "codemirror_mode": {
    "name": "ipython",
    "version": 3
   },
   "file_extension": ".py",
   "mimetype": "text/x-python",
   "name": "python",
   "nbconvert_exporter": "python",
   "pygments_lexer": "ipython3",
   "version": "3.12.5"
  }
 },
 "nbformat": 4,
 "nbformat_minor": 0
}
