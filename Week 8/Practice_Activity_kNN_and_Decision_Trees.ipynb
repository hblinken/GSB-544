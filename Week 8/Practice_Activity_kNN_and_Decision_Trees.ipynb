{
 "cells": [
  {
   "cell_type": "markdown",
   "metadata": {
    "id": "VeAOZxOcM0Vi"
   },
   "source": [
    "# Palmer Penguins Modeling\n",
    "\n",
    "Import the Palmer Penguins dataset and print out the first few rows.\n",
    "\n",
    "Suppose we want to predict `bill_depth_mm` using the other variables in the dataset.\n",
    "\n",
    "**Dummify** all variables that require this."
   ]
  },
  {
   "cell_type": "code",
   "execution_count": 11,
   "metadata": {
    "id": "Bj_0VvPJMWyp"
   },
   "outputs": [],
   "source": [
    "import pandas as pd \n",
    "from palmerpenguins import load_penguins\n",
    "import numpy as np\n",
    "from sklearn.pipeline import Pipeline\n",
    "from sklearn.compose import make_column_selector, ColumnTransformer\n",
    "from sklearn.preprocessing import StandardScaler, OneHotEncoder, PolynomialFeatures\n",
    "from sklearn.compose import ColumnTransformer\n",
    "from sklearn.impute import SimpleImputer\n",
    "from sklearn.preprocessing import StandardScaler, OneHotEncoder\n",
    "from sklearn.linear_model import LinearRegression\n",
    "from sklearn.model_selection import train_test_split\n",
    "from sklearn.pipeline import Pipeline\n",
    "from sklearn.metrics import mean_squared_error\n",
    "import warnings\n",
    "from sklearn.neighbors import KNeighborsRegressor\n",
    "from sklearn.tree import DecisionTreeRegressor\n",
    "penguins = load_penguins()\n",
    "penguins.dropna(inplace=True)\n"
   ]
  },
  {
   "cell_type": "code",
   "execution_count": 5,
   "metadata": {},
   "outputs": [],
   "source": [
    "\n",
    "pengu_clean = pd.get_dummies(penguins, columns=['species', 'island', 'sex'], drop_first=True)\n"
   ]
  },
  {
   "cell_type": "markdown",
   "metadata": {
    "id": "CXmaqajAchqz"
   },
   "source": [
    "Let's use the other variables to predict `bill_depth_mm`. Prepare your data and fit the following models on the entire dataset:\n",
    "\n",
    "* Your best multiple linear regression model from before\n",
    "* Two kNN models (for different values of K)\n",
    "* A decision tree model\n",
    "\n",
    "Create a plot like the right plot of Fig 1. in our `Model Validation` chapter with the training and test error plotted for each of your four models.\n",
    "\n",
    "Which of your models was best?"
   ]
  },
  {
   "cell_type": "code",
   "execution_count": null,
   "metadata": {
    "id": "R3MYBNQmcyld"
   },
   "outputs": [],
   "source": [
    "X = pengu_clean.drop(['bill_depth_mm'], axis = 1)\n",
    "y = pengu_clean['bill_depth_mm']\n",
    "\n",
    "X_train, X_test, y_train, y_test = train_test_split(X, y, test_size=0.25, random_state= 52)"
   ]
  },
  {
   "cell_type": "code",
   "execution_count": null,
   "metadata": {},
   "outputs": [
    {
     "name": "stdout",
     "output_type": "stream",
     "text": [
      "MSE: 1.833868194054618\n",
      "0.2045252135272984\n",
      "1.833868194054618\n"
     ]
    }
   ],
   "source": [
    "ct = ColumnTransformer(\n",
    "  [\n",
    "    (\"dummify\", \n",
    "    OneHotEncoder(sparse_output = False, handle_unknown='ignore'),\n",
    "    make_column_selector(dtype_include=object)),\n",
    "    (\"standardize\", \n",
    "    StandardScaler(), \n",
    "    make_column_selector(dtype_include=np.number))\n",
    "  ],\n",
    "  remainder = \"passthrough\"\n",
    ").set_output(transform= \"pandas\")\n",
    "\n",
    "interaction = PolynomialFeatures(degree= 3, include_bias=False)\n",
    "\n",
    "lr_pipeline = Pipeline(\n",
    "  [(\"preprocessing\", ct),\n",
    "   (\"interaction\", interaction),\n",
    "  (\"lr\", LinearRegression())]\n",
    ")\n",
    "\n",
    "lr_pipeline.fit(X_train, y_train)\n",
    "\n",
    "y_pred = lr_pipeline.predict(X_train)\n",
    "\n",
    "# mse = mean_squared_error(y_test, y_pred)\n",
    "# print(f\"MSE: {mse}\")\n",
    "\n",
    "y_train_pred = lr_pipeline.predict(X_train)\n",
    "train_mse = mean_squared_error(y_train, y_train_pred)\n",
    "\n",
    "    \n",
    "# Predict and calculate errors for test data\n",
    "y_test_pred = lr_pipeline.predict(X_test)\n",
    "test_mse = mean_squared_error(y_test, y_test_pred)\n",
    "\n",
    "print(train_mse)\n",
    "print(test_mse)"
   ]
  },
  {
   "cell_type": "code",
   "execution_count": 24,
   "metadata": {},
   "outputs": [
    {
     "name": "stdout",
     "output_type": "stream",
     "text": [
      "0.41334457831325316\n",
      "0.7171714285714282\n"
     ]
    }
   ],
   "source": [
    "### k = 5\n",
    "ct = ColumnTransformer(\n",
    "  [\n",
    "    (\"dummify\", \n",
    "    OneHotEncoder(sparse_output = False, handle_unknown='ignore'),\n",
    "    make_column_selector(dtype_include=object)),\n",
    "    (\"standardize\", \n",
    "    StandardScaler(), \n",
    "    make_column_selector(dtype_include=np.number))\n",
    "  ],\n",
    "  remainder = \"passthrough\"\n",
    ").set_output(transform= \"pandas\")\n",
    "\n",
    "#interaction = PolynomialFeatures(degree= 3, include_bias=False)\n",
    "\n",
    "knn_pipeline = Pipeline(\n",
    "  [(\"preprocessing\", ct),\n",
    " #  (\"interaction\", interaction),\n",
    "  (\"knn\", KNeighborsRegressor(n_neighbors=5))]\n",
    ")\n",
    "\n",
    "knn_pipeline.fit(X_train, y_train)\n",
    "\n",
    "y_pred = knn_pipeline.predict(X_test)\n",
    "\n",
    "# mse = mean_squared_error(y_test, y_pred)\n",
    "# print(f\"MSE: {mse}\")\n",
    "\n",
    "y_train_pred = knn_pipeline.predict(X_train)\n",
    "train_mse = mean_squared_error(y_train, y_train_pred)\n",
    "\n",
    "    \n",
    "# Predict and calculate errors for test data\n",
    "y_test_pred = knn_pipeline.predict(X_test)\n",
    "test_mse = mean_squared_error(y_test, y_test_pred)\n",
    "\n",
    "print(train_mse)\n",
    "print(test_mse)\n"
   ]
  },
  {
   "cell_type": "code",
   "execution_count": 25,
   "metadata": {},
   "outputs": [
    {
     "name": "stdout",
     "output_type": "stream",
     "text": [
      "0.5138831325301202\n",
      "0.7560226190476187\n"
     ]
    }
   ],
   "source": [
    "### k = 10\n",
    "ct = ColumnTransformer(\n",
    "  [\n",
    "    (\"dummify\", \n",
    "    OneHotEncoder(sparse_output = False, handle_unknown='ignore'),\n",
    "    make_column_selector(dtype_include=object)),\n",
    "    (\"standardize\", \n",
    "    StandardScaler(), \n",
    "    make_column_selector(dtype_include=np.number))\n",
    "  ],\n",
    "  remainder = \"passthrough\"\n",
    ").set_output(transform= \"pandas\")\n",
    "\n",
    "#interaction = PolynomialFeatures(degree= 3, include_bias=False)\n",
    "\n",
    "knn_pipeline_1 = Pipeline(\n",
    "  [(\"preprocessing\", ct),\n",
    " #  (\"interaction\", interaction),\n",
    "  (\"knn\", KNeighborsRegressor(n_neighbors=10))]\n",
    ")\n",
    "\n",
    "knn_pipeline_1.fit(X_train, y_train)\n",
    "\n",
    "y_pred = knn_pipeline_1.predict(X_test)\n",
    "\n",
    "# mse = mean_squared_error(y_test, y_pred)\n",
    "# print(f\"MSE: {mse}\")\n",
    "\n",
    "y_train_pred = knn_pipeline_1.predict(X_train)\n",
    "train_mse = mean_squared_error(y_train, y_train_pred)\n",
    "\n",
    "    \n",
    "# Predict and calculate errors for test data\n",
    "y_test_pred = knn_pipeline_1.predict(X_test)\n",
    "test_mse = mean_squared_error(y_test, y_test_pred)\n",
    "\n",
    "print(train_mse)\n",
    "print(test_mse)"
   ]
  },
  {
   "cell_type": "code",
   "execution_count": 26,
   "metadata": {},
   "outputs": [
    {
     "name": "stdout",
     "output_type": "stream",
     "text": [
      "0.2957667040029507\n",
      "1.0370128984049605\n"
     ]
    }
   ],
   "source": [
    "dt_pipeline = Pipeline(\n",
    "    [\n",
    "        (\"preprocessing\", ct),\n",
    "        (\"interaction\", interaction),\n",
    "        (\"dt\", DecisionTreeRegressor(max_depth=5))  # Adjust max_depth as needed\n",
    "    ]\n",
    ")\n",
    "\n",
    "# Fit the pipeline\n",
    "dt_pipeline.fit(X_train, y_train)\n",
    "\n",
    "# Predict on the test set\n",
    "y_pred = dt_pipeline.predict(X_test)\n",
    "\n",
    "# Calculate MSE\n",
    "# mse = mean_squared_error(y_test, y_pred)\n",
    "# print(f\"MSE: {mse}\")\n",
    "\n",
    "y_train_pred = dt_pipeline.predict(X_train)\n",
    "train_mse = mean_squared_error(y_train, y_train_pred)\n",
    "\n",
    "    \n",
    "# Predict and calculate errors for test data\n",
    "y_test_pred = dt_pipeline.predict(X_test)\n",
    "test_mse = mean_squared_error(y_test, y_test_pred)\n",
    "\n",
    "print(train_mse)\n",
    "print(test_mse)"
   ]
  },
  {
   "cell_type": "code",
   "execution_count": 20,
   "metadata": {},
   "outputs": [
    {
     "data": {
      "image/png": "[encoded data removed]",
      "text/plain": [
       "<Figure size 1000x600 with 1 Axes>"
      ]
     },
     "metadata": {},
     "output_type": "display_data"
    }
   ],
   "source": [
    "import matplotlib.pyplot as plt\n",
    "ct = ColumnTransformer(\n",
    "    [\n",
    "        (\"dummify\", \n",
    "         OneHotEncoder(sparse_output=False, handle_unknown='ignore'), \n",
    "         make_column_selector(dtype_include=object)),\n",
    "        (\"standardize\", \n",
    "         StandardScaler(), \n",
    "         make_column_selector(dtype_include=np.number))\n",
    "    ],\n",
    "    remainder=\"passthrough\"\n",
    ").set_output(transform=\"pandas\")\n",
    "\n",
    "interaction = PolynomialFeatures(degree=3, include_bias=False)\n",
    "\n",
    "# Define models to compare\n",
    "models = {\n",
    "    \"Linear Regression\": LinearRegression(),\n",
    "    \"KNN5\": KNeighborsRegressor(n_neighbors=5),\n",
    "    \"KNN10\": KNeighborsRegressor(n_neighbors=10),\n",
    "    \"Decision Tree\": DecisionTreeRegressor(max_depth=5),\n",
    "}\n",
    "\n",
    "# Initialize dictionaries to store errors\n",
    "train_errors = []\n",
    "test_errors = []\n",
    "model_names = []\n",
    "\n",
    "# Train each model and calculate train/test errors\n",
    "for name, model in models.items():\n",
    "    # Define a pipeline for each model\n",
    "    pipeline = Pipeline([\n",
    "        (\"preprocessing\", ct),\n",
    "        (\"interaction\", interaction),\n",
    "        (\"model\", model)\n",
    "    ])\n",
    "    \n",
    "    # Fit the model on the training data\n",
    "    pipeline.fit(X_train, y_train)\n",
    "    \n",
    "    # Predict and calculate errors for training data\n",
    "    y_train_pred = pipeline.predict(X_train)\n",
    "    train_mse = mean_squared_error(y_train, y_train_pred)\n",
    "    train_errors.append(train_mse)\n",
    "    \n",
    "    # Predict and calculate errors for test data\n",
    "    y_test_pred = pipeline.predict(X_test)\n",
    "    test_mse = mean_squared_error(y_test, y_test_pred)\n",
    "    test_errors.append(test_mse)\n",
    "    \n",
    "    # Append model name\n",
    "    model_names.append(name)\n",
    "\n",
    "# Plot training and test errors\n",
    "plt.figure(figsize=(10, 6))\n",
    "plt.plot(model_names, train_errors, label=\"Training Error\", marker='o', color='b')\n",
    "plt.plot(model_names, test_errors, label=\"Test Error\", marker='o', color='r')\n",
    "plt.xlabel(\"Model\")\n",
    "plt.ylabel(\"Mean Squared Error\")\n",
    "plt.title(\"Training and Test Error for Different Models\")\n",
    "plt.legend()\n",
    "plt.show()"
   ]
  }
 ],
 "metadata": {
  "colab": {
   "provenance": []
  },
  "kernelspec": {
   "display_name": "Python 3",
   "name": "python3"
  },
  "language_info": {
   "codemirror_mode": {
    "name": "ipython",
    "version": 3
   },
   "file_extension": ".py",
   "mimetype": "text/x-python",
   "name": "python",
   "nbconvert_exporter": "python",
   "pygments_lexer": "ipython3",
   "version": "3.12.5"
  }
 },
 "nbformat": 4,
 "nbformat_minor": 0
}
