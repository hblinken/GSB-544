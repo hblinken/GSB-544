{
 "cells": [
  {
   "cell_type": "markdown",
   "metadata": {},
   "source": [
    "# Week 8 Notes"
   ]
  },
  {
   "cell_type": "markdown",
   "metadata": {},
   "source": [
    "Precision: the proportion of positive identifications that are actually correct= True positives/ true positives + false positives\n",
    "\"if i say yes, am i right?\"\n",
    "\n",
    "Recall: the proportion of actual positives that are correctly identified= True positives/ (true positives + false negatives)\n",
    "\"how many did i find?\"\n",
    "\n",
    "Sensitivity: same as recall\n",
    "\n",
    "Specificity: recall of class 0"
   ]
  },
  {
   "cell_type": "code",
   "execution_count": 13,
   "metadata": {},
   "outputs": [],
   "source": [
    "import pandas as pd\n",
    "from palmerpenguins import load_penguins\n",
    "import numpy as np\n",
    "from sklearn.pipeline import Pipeline\n",
    "from sklearn.compose import make_column_selector, ColumnTransformer\n",
    "from sklearn.preprocessing import StandardScaler, OneHotEncoder, PolynomialFeatures\n",
    "from sklearn.compose import ColumnTransformer\n",
    "from sklearn.impute import SimpleImputer\n",
    "from sklearn.preprocessing import StandardScaler, OneHotEncoder\n",
    "from sklearn.linear_model import LinearRegression, LogisticRegression\n",
    "from sklearn.model_selection import train_test_split\n",
    "from sklearn.pipeline import Pipeline\n",
    "from sklearn.metrics import mean_squared_error\n",
    "import warnings\n",
    "from sklearn.neighbors import KNeighborsRegressor\n",
    "from sklearn.tree import DecisionTreeRegressor\n",
    "from sklearn.metrics import accuracy_score\n",
    "penguins = load_penguins()\n",
    "penguins.dropna(inplace=True)\n"
   ]
  },
  {
   "cell_type": "code",
   "execution_count": 8,
   "metadata": {},
   "outputs": [],
   "source": [
    "penguins['gentoo'] = (penguins['species'] == 'Gentoo').astype(int)\n",
    "\n",
    "X = penguins.drop(columns=['species', 'gentoo'])\n",
    "\n",
    "y = penguins['gentoo']\n",
    "\n",
    "X_train, X_test, y_train, y_test = train_test_split(X, y, test_size=0.2, random_state=42)"
   ]
  },
  {
   "cell_type": "code",
   "execution_count": 14,
   "metadata": {},
   "outputs": [
    {
     "name": "stdout",
     "output_type": "stream",
     "text": [
      "Training Accuracy: 1.0\n",
      "Test Accuracy: 1.0\n"
     ]
    }
   ],
   "source": [
    "ct = ColumnTransformer(\n",
    "  [\n",
    "    (\"dummify\", \n",
    "    OneHotEncoder(sparse_output = False, handle_unknown='ignore'),\n",
    "    make_column_selector(dtype_include=object)),\n",
    "    (\"standardize\", \n",
    "    StandardScaler(), \n",
    "    make_column_selector(dtype_include=np.number))\n",
    "  ],\n",
    "  remainder = \"passthrough\"\n",
    ").set_output(transform= \"pandas\")\n",
    "\n",
    "interaction = PolynomialFeatures(degree= 3, include_bias=False)\n",
    "\n",
    "lr_pipeline = Pipeline(\n",
    "  [(\"preprocessing\", ct),\n",
    "   #(\"interaction\", interaction),\n",
    "  (\"lr\", LogisticRegression())]\n",
    ")\n",
    "\n",
    "# Fit the model\n",
    "lr_pipeline.fit(X_train, y_train)\n",
    "\n",
    "# Predict and calculate accuracy for training data\n",
    "y_train_pred = lr_pipeline.predict(X_train)\n",
    "train_accuracy = accuracy_score(y_train, y_train_pred)\n",
    "\n",
    "# Predict and calculate accuracy for test data\n",
    "y_test_pred = lr_pipeline.predict(X_test)\n",
    "test_accuracy = accuracy_score(y_test, y_test_pred)\n",
    "\n",
    "print(f\"Training Accuracy: {train_accuracy}\")\n",
    "print(f\"Test Accuracy: {test_accuracy}\")\n"
   ]
  },
  {
   "cell_type": "code",
   "execution_count": 5,
   "metadata": {},
   "outputs": [
    {
     "data": {
      "text/plain": [
       "np.float64(946.75)"
      ]
     },
     "execution_count": 5,
     "metadata": {},
     "output_type": "execute_result"
    }
   ],
   "source": [
    "import numpy as np\n",
    "\n",
    "# Defining the observed values and the target value\n",
    "observed_values = np.array([98, 87, 113, 35])\n",
    "target_value = 92.5\n",
    "\n",
    "# Calculating MSE\n",
    "mse = np.mean((observed_values - target_value) ** 2)\n",
    "mse_rounded = round(mse, 4)\n",
    "mse_rounded\n",
    "\n"
   ]
  }
 ],
 "metadata": {
  "kernelspec": {
   "display_name": "Python 3",
   "language": "python",
   "name": "python3"
  },
  "language_info": {
   "codemirror_mode": {
    "name": "ipython",
    "version": 3
   },
   "file_extension": ".py",
   "mimetype": "text/x-python",
   "name": "python",
   "nbconvert_exporter": "python",
   "pygments_lexer": "ipython3",
   "version": "3.12.5"
  }
 },
 "nbformat": 4,
 "nbformat_minor": 2
}
