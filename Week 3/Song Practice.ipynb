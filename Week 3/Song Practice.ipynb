{
 "cells": [
  {
   "cell_type": "code",
   "execution_count": 9,
   "metadata": {},
   "outputs": [],
   "source": [
    "def sing_verse(num):\n",
    "    song = str(num) + \" bottles of beer on the wall, \" \\n + str(num) + \" bottles of beer, take one down, pass it around \\n \" +str(num - 1) + \" bottles of beer on the wall\"\n",
    "    return song\n"
   ]
  },
  {
   "cell_type": "code",
   "execution_count": 17,
   "metadata": {},
   "outputs": [
    {
     "data": {
      "text/plain": [
       "'99 bottles of beer on the wall /n99 bottles of beer \\n take one down, pass it around, \\n98 bottles of beer on the wall \\n'"
      ]
     },
     "execution_count": 17,
     "metadata": {},
     "output_type": "execute_result"
    }
   ],
   "source": [
    "sing_verse(99)"
   ]
  },
  {
   "cell_type": "code",
   "execution_count": 16,
   "metadata": {},
   "outputs": [],
   "source": [
    "def sing_verse(num):\n",
    "  song = str(num) + \" bottles of beer on the wall \\n\" + str(num) + \" bottles of beer \\n\" + \" take one down, pass it around, \\n\" + str(num-1) + \" bottles of beer on the wall \\n\"\n",
    "  \n",
    "  return song"
   ]
  },
  {
   "cell_type": "code",
   "execution_count": 18,
   "metadata": {},
   "outputs": [],
   "source": [
    "import numpy as np"
   ]
  },
  {
   "cell_type": "code",
   "execution_count": 29,
   "metadata": {},
   "outputs": [
    {
     "name": "stdout",
     "output_type": "stream",
     "text": [
      "['please enter a positive value', np.float64(2.0), 'please enter a positive value', np.float64(4.0)]\n"
     ]
    }
   ],
   "source": [
    "a_vec = \n",
    "def sqrt_pos_unvec(num):\n",
    "    if num > 0: \n",
    "        num = np.sqrt(num)\n",
    "        return num\n",
    "    else: \n",
    "        return \"please enter a positive value\"\n",
    "\n",
    "new_vec = []\n",
    "\n",
    "for val in a_vec:\n",
    "    new_vec.append(sqrt_pos_unvec(val))\n",
    "print(new_vec)\n"
   ]
  },
  {
   "cell_type": "code",
   "execution_count": 31,
   "metadata": {},
   "outputs": [
    {
     "name": "stdout",
     "output_type": "stream",
     "text": [
      "[-2  4 -5 16]\n",
      "[-2  2 -5  4]\n"
     ]
    }
   ],
   "source": [
    "def sqrt_pos_unvec(num):\n",
    "    is_pos = num > 0\n",
    "    num[is_pos] = np.sqrt(num[is_pos])\n",
    "\n",
    "    return num\n",
    "\n",
    "print(a_vec)\n",
    "print(sqrt_pos_unvec(a_vec))\n"
   ]
  },
  {
   "cell_type": "code",
   "execution_count": 32,
   "metadata": {},
   "outputs": [
    {
     "name": "stdout",
     "output_type": "stream",
     "text": [
      "100 bottles of beer on the wall /n100 bottles of beer \n",
      " take one down, pass it around, \n",
      "99 bottles of beer on the wall \n",
      "99 bottles of beer on the wall /n99 bottles of beer \n",
      " take one down, pass it around, \n",
      "98 bottles of beer on the wall \n",
      "98 bottles of beer on the wall /n98 bottles of beer \n",
      " take one down, pass it around, \n",
      "97 bottles of beer on the wall \n",
      "\n"
     ]
    }
   ],
   "source": [
    "song = map(sing_verse, range(100,97,-1))\n",
    "song = list(song)\n",
    "print(\"\".join(song))"
   ]
  },
  {
   "cell_type": "code",
   "execution_count": 33,
   "metadata": {},
   "outputs": [],
   "source": [
    "def sing_verse_2(num, drink):\n",
    "  song = str(num) + \" bottles of \" + drink + \" on the wall \\n\"\n",
    "  song = song + str(num) + \" bottles of \" + drink + \"\\n\" \n",
    "  song = song + \" take one down, pass it around, \\n\"\n",
    "  song = song + str(num-1) + \" bottles of \" + drink + \" on the wall \\n\"\n",
    "  \n",
    "  return song"
   ]
  },
  {
   "cell_type": "code",
   "execution_count": 34,
   "metadata": {},
   "outputs": [
    {
     "name": "stdout",
     "output_type": "stream",
     "text": [
      "100 bottles of beer on the wall \n",
      "100 bottles of beer\n",
      " take one down, pass it around, \n",
      "99 bottles of beer on the wall \n",
      "99 bottles of milk on the wall \n",
      "99 bottles of milk\n",
      " take one down, pass it around, \n",
      "98 bottles of milk on the wall \n",
      "98 bottles of lemonade on the wall \n",
      "98 bottles of lemonade\n",
      " take one down, pass it around, \n",
      "97 bottles of lemonade on the wall \n",
      "\n"
     ]
    }
   ],
   "source": [
    "nums = range(100, 96, -1)\n",
    "drinks = [\"beer\", \"milk\", \"lemonade\"]\n",
    "song = map(sing_verse_2, nums, drinks)\n",
    "print(\"\".join(list(song)))"
   ]
  },
  {
   "cell_type": "code",
   "execution_count": null,
   "metadata": {},
   "outputs": [],
   "source": []
  }
 ],
 "metadata": {
  "kernelspec": {
   "display_name": "Python 3",
   "language": "python",
   "name": "python3"
  },
  "language_info": {
   "codemirror_mode": {
    "name": "ipython",
    "version": 3
   },
   "file_extension": ".py",
   "mimetype": "text/x-python",
   "name": "python",
   "nbconvert_exporter": "python",
   "pygments_lexer": "ipython3",
   "version": "3.12.5"
  }
 },
 "nbformat": 4,
 "nbformat_minor": 2
}
