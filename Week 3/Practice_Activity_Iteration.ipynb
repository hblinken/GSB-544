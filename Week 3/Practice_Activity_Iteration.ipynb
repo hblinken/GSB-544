{
  "cells": [
    {
      "cell_type": "markdown",
      "metadata": {
        "id": "8p1mF9p_njvq"
      },
      "source": [
        "0. Load the `penguins` dataset from the `palmerpenguins` library, as well as any other libraries you need.\n",
        "\n"
      ]
    },
    {
      "cell_type": "code",
      "execution_count": 2,
      "metadata": {
        "id": "B0wyLoBRngwh"
      },
      "outputs": [],
      "source": [
        "import numpy as np\n",
        "import pandas as pd\n",
        "from sys import exit\n",
        "from palmerpenguins import load_penguins\n",
        "penguins = load_penguins"
      ]
    },
    {
      "cell_type": "code",
      "execution_count": 4,
      "metadata": {},
      "outputs": [],
      "source": [
        "penguins = load_penguins()"
      ]
    },
    {
      "cell_type": "markdown",
      "metadata": {
        "id": "LUURcsjcnrA3"
      },
      "source": [
        "1. Write a function that takes in information about a penguin, and returns one of the following definitions:\n",
        "\n",
        "*   \"Big Mouth Billy\": Male penguins with bill length times bill depth greater than 800.\n",
        "*   \"Dainty Daisy\": Female penguins with flipper length less than 5% of body mass.\n",
        "*   \"Average Adelie:\" Any Adelie penguins that do not fall into either category.\n",
        "*   \"Other\": Any penguins that do not fall into any of the categories.\n",
        "\n"
      ]
    },
    {
      "cell_type": "code",
      "execution_count": 14,
      "metadata": {
        "id": "udKVPIJmpKG_"
      },
      "outputs": [],
      "source": [
        "def classify_penguins(sex, bill_length, bill_depth, flipper_length, body_mass, species):\n",
        "    if sex == 'male' and bill_length * bill_depth > 800:\n",
        "        return 'Big Mouth Billy'\n",
        "    elif sex == 'female' and flipper_length < 0.05 * body_mass:\n",
        "        return 'Dainty Daisy'\n",
        "    elif species == 'Adelie':\n",
        "        return 'Average Adelie'\n",
        "    else:\n",
        "        return 'Other'"
      ]
    },
    {
      "cell_type": "markdown",
      "metadata": {
        "id": "L3cOiPwJo_q5"
      },
      "source": [
        "2. Use an iterable function to create a new variable called `category_name` that adds these labels."
      ]
    },
    {
      "cell_type": "code",
      "execution_count": 15,
      "metadata": {
        "id": "AJk_DHBDpKvV"
      },
      "outputs": [],
      "source": [
        "penguins['category_name'] = penguins.apply(lambda row: classify_penguins(row['sex'], row['bill_length_mm'], row['bill_depth_mm'], row['flipper_length_mm'], row['body_mass_g'], row['species']), axis=1)"
      ]
    },
    {
      "cell_type": "markdown",
      "metadata": {
        "id": "wzjur3hzpLxr"
      },
      "source": [
        "3. Run the following code to find the counts for each type."
      ]
    },
    {
      "cell_type": "code",
      "execution_count": 16,
      "metadata": {
        "id": "iDHDAKOXpPOm"
      },
      "outputs": [
        {
          "data": {
            "text/plain": [
              "category_name\n",
              "Average Adelie     127\n",
              "Other               84\n",
              "Big Mouth Billy     71\n",
              "Dainty Daisy        62\n",
              "Name: count, dtype: int64"
            ]
          },
          "execution_count": 16,
          "metadata": {},
          "output_type": "execute_result"
        }
      ],
      "source": [
        "penguins.value_counts(\"category_name\")"
      ]
    }
  ],
  "metadata": {
    "colab": {
      "provenance": []
    },
    "kernelspec": {
      "display_name": "Python 3",
      "name": "python3"
    },
    "language_info": {
      "codemirror_mode": {
        "name": "ipython",
        "version": 3
      },
      "file_extension": ".py",
      "mimetype": "text/x-python",
      "name": "python",
      "nbconvert_exporter": "python",
      "pygments_lexer": "ipython3",
      "version": "3.12.5"
    }
  },
  "nbformat": 4,
  "nbformat_minor": 0
}
