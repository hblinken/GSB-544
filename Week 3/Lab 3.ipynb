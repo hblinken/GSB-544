{
 "cells": [
  {
   "cell_type": "markdown",
   "metadata": {},
   "source": [
    "---\n",
    "title: 'Lab 3'\n",
    "author: \"Hunter Blinkenberg\"\n",
    "embed-resources: true\n",
    "format: \n",
    "    html:\n",
    "        toc: true\n",
    "        code-fold: true\n",
    "        theme: cosmo\n",
    "        echo: true\n",
    "---"
   ]
  },
  {
   "cell_type": "code",
   "execution_count": null,
   "metadata": {},
   "outputs": [],
   "source": []
  }
 ],
 "metadata": {
  "kernelspec": {
   "display_name": "Python 3",
   "language": "python",
   "name": "python3"
  },
  "language_info": {
   "name": "python",
   "version": "3.12.5"
  }
 },
 "nbformat": 4,
 "nbformat_minor": 2
}
