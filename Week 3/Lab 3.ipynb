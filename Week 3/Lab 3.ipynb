{
 "cells": [
  {
   "cell_type": "markdown",
   "metadata": {},
   "source": [
    "---\n",
    "title: 'Lab 3'\n",
    "author: \"Hunter Blinkenberg\"\n",
    "embed-resources: true\n",
    "format: \n",
    "    html:\n",
    "        toc: true\n",
    "        code-fold: true\n",
    "        theme: cosmo\n",
    "        echo: true\n",
    "---"
   ]
  },
  {
   "cell_type": "code",
   "execution_count": 94,
   "metadata": {},
   "outputs": [],
   "source": [
    "import pandas as pd\n",
    "xmas = pd.read_csv(\"https://www.dropbox.com/scl/fi/qxaslqqp5p08i1650rpc4/xmas.csv?rlkey=erdxi7jbh7pqf9fh4lv4cayp5&dl=1\")"
   ]
  },
  {
   "cell_type": "code",
   "execution_count": 95,
   "metadata": {},
   "outputs": [],
   "source": [
    "import numpy as np\n",
    "from num2words import num2words"
   ]
  },
  {
   "cell_type": "markdown",
   "metadata": {},
   "source": [
    "# Function One"
   ]
  },
  {
   "cell_type": "code",
   "execution_count": 96,
   "metadata": {},
   "outputs": [],
   "source": [
    "def pluralize_gift(gift):\n",
    "  \"\"\"\n",
    "  Returns plural of a noun\n",
    "  \n",
    "  Parameters\n",
    "  ----------\n",
    "  gift: str\n",
    "    A noun\n",
    "    \n",
    "  Return\n",
    "  ------\n",
    "  str\n",
    "    Plural version\n",
    "  \"\"\"\n",
    "\n",
    "  if gift[-4:] == \"oose\":\n",
    "    gift = gift[:-4] + 'eese'\n",
    "  elif gift[-1] == 'y':\n",
    "    gift = gift[:-1] + 'ies'\n",
    "  else:\n",
    "    gift += 's'\n",
    "\n",
    "  return gift"
   ]
  },
  {
   "cell_type": "code",
   "execution_count": 97,
   "metadata": {},
   "outputs": [],
   "source": [
    "#vectorized function\n",
    "vectorized_pluralize_gift = np.vectorize(pluralize_gift)"
   ]
  },
  {
   "cell_type": "code",
   "execution_count": 98,
   "metadata": {},
   "outputs": [
    {
     "data": {
      "text/plain": [
       "array(['partridges', 'doves', 'hens', 'birds', 'rings', 'geese', 'swans',\n",
       "       'maids', 'ladies', 'lords', 'pipers', 'drummers'], dtype='<U10')"
      ]
     },
     "execution_count": 98,
     "metadata": {},
     "output_type": "execute_result"
    }
   ],
   "source": [
    "vectorized_pluralize_gift(xmas['Gift.Item'])"
   ]
  },
  {
   "cell_type": "markdown",
   "metadata": {},
   "source": [
    "# Function Two"
   ]
  },
  {
   "cell_type": "code",
   "execution_count": 99,
   "metadata": {},
   "outputs": [],
   "source": [
    "def make_phrase(num, num_word, item, verb, adjective, location):\n",
    "  verb = \"\" if pd.isna(verb) else verb\n",
    "  adjective = \"\" if pd.isna(adjective) else adjective\n",
    "  location = \"\" if pd.isna(location) else location\n",
    "\n",
    "  if num > 1:\n",
    "    item = pluralize_gift(item)\n",
    "    num = num2words(num)\n",
    "  elif item[0].lower() in ['a', 'e', 'i', 'o', 'u']:\n",
    "    num = \"an\"\n",
    "  else:\n",
    "    num = \"a\"\n",
    "    \n",
    "  words = [str(num), adjective, item, verb, location]\n",
    "  phrase = ' '.join(word for word in words if word)\n",
    "  return phrase"
   ]
  },
  {
   "cell_type": "code",
   "execution_count": 100,
   "metadata": {},
   "outputs": [],
   "source": [
    "vectorized_make_phrase = np.vectorize(make_phrase)"
   ]
  },
  {
   "cell_type": "code",
   "execution_count": 101,
   "metadata": {},
   "outputs": [
    {
     "data": {
      "text/plain": [
       "array(['a partridge in a pear tree', 'two turtle doves',\n",
       "       'three french hens', 'four calling birds', 'five golden rings',\n",
       "       'six geese a-laying', 'seven swans a-swimming',\n",
       "       'eight maids a-milking', 'nine ladies dancing',\n",
       "       'ten lords a-leaping', 'eleven pipers piping',\n",
       "       'twelve drummers drumming'], dtype='<U26')"
      ]
     },
     "execution_count": 101,
     "metadata": {},
     "output_type": "execute_result"
    }
   ],
   "source": [
    "vectorized_make_phrase(xmas['Day'], xmas['Day.in.Words'], xmas['Gift.Item'], xmas['Verb'], xmas['Adjective'], xmas['Location'])"
   ]
  },
  {
   "cell_type": "code",
   "execution_count": 102,
   "metadata": {},
   "outputs": [],
   "source": [
    "xmas['Full.Phrase'] = xmas.apply(lambda row: make_phrase(row['Day'], \n",
    "                                                         row['Day.in.Words'], \n",
    "                                                         row['Gift.Item'],\n",
    "                                                         row['Verb'],\n",
    "                                                         row['Adjective'],\n",
    "                                                         row['Location']), axis=1)"
   ]
  },
  {
   "cell_type": "markdown",
   "metadata": {},
   "source": [
    "# Function Three"
   ]
  },
  {
   "cell_type": "code",
   "execution_count": 103,
   "metadata": {},
   "outputs": [],
   "source": [
    "\n",
    "def sing_day(dataset, num, phrase_col):\n",
    "    \"\"\"\n",
    "    Takes in a dataset, a number representing the day, and the phrase column,\n",
    "    then outputs the song for that day.\n",
    "    \"\"\"\n",
    "    \n",
    "    # Step 1: Setup the intro line\n",
    "    num_word = num2words(num, to='ordinal')  # convert \"1\" to \"first\" etc.\n",
    "    intro = \"On the \" + num_word + \" day of Christmas, my true love sent to me: \\n\"\n",
    "    \n",
    "    # Step 2: Sing the gift phrases in reverse order (day n down to day 1)\n",
    "    gifts = \"\"\n",
    "    for i in range(num - 1, -1, -1):  # range: from num-1 to 0, as (start, stop, step)\n",
    "        gifts += dataset.iloc[i][phrase_col]\n",
    "        \n",
    "        # Special case for the 2nd day where \"and\" is added before the last gift\n",
    "        if i == 1:\n",
    "            gifts += \", and\\n\"\n",
    "        else:\n",
    "            gifts += \",\\n\"\n",
    "    \n",
    "    # Step 3: Put it all together and return the full lyrics\n",
    "    return intro + gifts[:-2] + \".\"\n"
   ]
  },
  {
   "cell_type": "code",
   "execution_count": 104,
   "metadata": {},
   "outputs": [
    {
     "name": "stdout",
     "output_type": "stream",
     "text": [
      "On the first day of Christmas, my true love sent to me: \n",
      "a partridge in a pear tree.\n",
      "\n",
      "On the second day of Christmas, my true love sent to me: \n",
      "two turtle doves, and\n",
      "a partridge in a pear tree.\n",
      "\n",
      "On the third day of Christmas, my true love sent to me: \n",
      "three french hens,\n",
      "two turtle doves, and\n",
      "a partridge in a pear tree.\n",
      "\n",
      "On the fourth day of Christmas, my true love sent to me: \n",
      "four calling birds,\n",
      "three french hens,\n",
      "two turtle doves, and\n",
      "a partridge in a pear tree.\n",
      "\n",
      "On the fifth day of Christmas, my true love sent to me: \n",
      "five golden rings,\n",
      "four calling birds,\n",
      "three french hens,\n",
      "two turtle doves, and\n",
      "a partridge in a pear tree.\n",
      "\n",
      "On the sixth day of Christmas, my true love sent to me: \n",
      "six geese a-laying,\n",
      "five golden rings,\n",
      "four calling birds,\n",
      "three french hens,\n",
      "two turtle doves, and\n",
      "a partridge in a pear tree.\n",
      "\n",
      "On the seventh day of Christmas, my true love sent to me: \n",
      "seven swans a-swimming,\n",
      "six geese a-laying,\n",
      "five golden rings,\n",
      "four calling birds,\n",
      "three french hens,\n",
      "two turtle doves, and\n",
      "a partridge in a pear tree.\n",
      "\n",
      "On the eighth day of Christmas, my true love sent to me: \n",
      "eight maids a-milking,\n",
      "seven swans a-swimming,\n",
      "six geese a-laying,\n",
      "five golden rings,\n",
      "four calling birds,\n",
      "three french hens,\n",
      "two turtle doves, and\n",
      "a partridge in a pear tree.\n",
      "\n",
      "On the ninth day of Christmas, my true love sent to me: \n",
      "nine ladies dancing,\n",
      "eight maids a-milking,\n",
      "seven swans a-swimming,\n",
      "six geese a-laying,\n",
      "five golden rings,\n",
      "four calling birds,\n",
      "three french hens,\n",
      "two turtle doves, and\n",
      "a partridge in a pear tree.\n",
      "\n",
      "On the tenth day of Christmas, my true love sent to me: \n",
      "ten lords a-leaping,\n",
      "nine ladies dancing,\n",
      "eight maids a-milking,\n",
      "seven swans a-swimming,\n",
      "six geese a-laying,\n",
      "five golden rings,\n",
      "four calling birds,\n",
      "three french hens,\n",
      "two turtle doves, and\n",
      "a partridge in a pear tree.\n",
      "\n",
      "On the eleventh day of Christmas, my true love sent to me: \n",
      "eleven pipers piping,\n",
      "ten lords a-leaping,\n",
      "nine ladies dancing,\n",
      "eight maids a-milking,\n",
      "seven swans a-swimming,\n",
      "six geese a-laying,\n",
      "five golden rings,\n",
      "four calling birds,\n",
      "three french hens,\n",
      "two turtle doves, and\n",
      "a partridge in a pear tree.\n",
      "\n",
      "On the twelfth day of Christmas, my true love sent to me: \n",
      "twelve drummers drumming,\n",
      "eleven pipers piping,\n",
      "ten lords a-leaping,\n",
      "nine ladies dancing,\n",
      "eight maids a-milking,\n",
      "seven swans a-swimming,\n",
      "six geese a-laying,\n",
      "five golden rings,\n",
      "four calling birds,\n",
      "three french hens,\n",
      "two turtle doves, and\n",
      "a partridge in a pear tree.\n",
      "\n"
     ]
    }
   ],
   "source": [
    "days = xmas.apply(lambda row: sing_day(xmas, row.name + 1, 'Full.Phrase'), axis=1)\n",
    "\n",
    "# Print each day\n",
    "for day in days:\n",
    "    print(day + \"\\n\")"
   ]
  },
  {
   "cell_type": "markdown",
   "metadata": {},
   "source": [
    "# Surprise function"
   ]
  },
  {
   "cell_type": "code",
   "execution_count": 105,
   "metadata": {},
   "outputs": [],
   "source": [
    "xmas2 = pd.read_csv(\"https://www.dropbox.com/scl/fi/p9x9k8xwuzs9rhp582vfy/xmas_2.csv?rlkey=kvc3j3lmyn4opcidsrhcmrof1&dl=1\")"
   ]
  },
  {
   "cell_type": "code",
   "execution_count": 106,
   "metadata": {},
   "outputs": [],
   "source": [
    "xmas2['Full.Phrase'] = xmas2.apply(lambda row: make_phrase(row['Day'], \n",
    "                                                         row['Day.in.Words'], \n",
    "                                                         row['Gift.Item'],\n",
    "                                                         row['Verb'],\n",
    "                                                         row['Adjective'],\n",
    "                                                         row['Location']), axis=1)"
   ]
  },
  {
   "cell_type": "code",
   "execution_count": 107,
   "metadata": {},
   "outputs": [
    {
     "name": "stdout",
     "output_type": "stream",
     "text": [
      "On the first day of Christmas, my true love sent to me: \n",
      "an email from Cal Poly.\n",
      "\n",
      "On the second day of Christmas, my true love sent to me: \n",
      "two meal points, and\n",
      "an email from Cal Poly.\n",
      "\n",
      "On the third day of Christmas, my true love sent to me: \n",
      "three lost pens,\n",
      "two meal points, and\n",
      "an email from Cal Poly.\n",
      "\n",
      "On the fourth day of Christmas, my true love sent to me: \n",
      "four course reviews,\n",
      "three lost pens,\n",
      "two meal points, and\n",
      "an email from Cal Poly.\n",
      "\n",
      "On the fifth day of Christmas, my true love sent to me: \n",
      "five practice exams,\n",
      "four course reviews,\n",
      "three lost pens,\n",
      "two meal points, and\n",
      "an email from Cal Poly.\n",
      "\n",
      "On the sixth day of Christmas, my true love sent to me: \n",
      "six graders grading,\n",
      "five practice exams,\n",
      "four course reviews,\n",
      "three lost pens,\n",
      "two meal points, and\n",
      "an email from Cal Poly.\n",
      "\n",
      "On the seventh day of Christmas, my true love sent to me: \n",
      "seven seniors stressing,\n",
      "six graders grading,\n",
      "five practice exams,\n",
      "four course reviews,\n",
      "three lost pens,\n",
      "two meal points, and\n",
      "an email from Cal Poly.\n",
      "\n",
      "On the eighth day of Christmas, my true love sent to me: \n",
      "eight moms a-calling,\n",
      "seven seniors stressing,\n",
      "six graders grading,\n",
      "five practice exams,\n",
      "four course reviews,\n",
      "three lost pens,\n",
      "two meal points, and\n",
      "an email from Cal Poly.\n",
      "\n",
      "On the ninth day of Christmas, my true love sent to me: \n",
      "nine parties bumping,\n",
      "eight moms a-calling,\n",
      "seven seniors stressing,\n",
      "six graders grading,\n",
      "five practice exams,\n",
      "four course reviews,\n",
      "three lost pens,\n",
      "two meal points, and\n",
      "an email from Cal Poly.\n",
      "\n",
      "On the tenth day of Christmas, my true love sent to me: \n",
      "ten loads of laundry,\n",
      "nine parties bumping,\n",
      "eight moms a-calling,\n",
      "seven seniors stressing,\n",
      "six graders grading,\n",
      "five practice exams,\n",
      "four course reviews,\n",
      "three lost pens,\n",
      "two meal points, and\n",
      "an email from Cal Poly.\n",
      "\n",
      "On the eleventh day of Christmas, my true love sent to me: \n",
      "eleven friends goodbye-ing,\n",
      "ten loads of laundry,\n",
      "nine parties bumping,\n",
      "eight moms a-calling,\n",
      "seven seniors stressing,\n",
      "six graders grading,\n",
      "five practice exams,\n",
      "four course reviews,\n",
      "three lost pens,\n",
      "two meal points, and\n",
      "an email from Cal Poly.\n",
      "\n",
      "On the twelfth day of Christmas, my true love sent to me: \n",
      "twelve hours sleeping,\n",
      "eleven friends goodbye-ing,\n",
      "ten loads of laundry,\n",
      "nine parties bumping,\n",
      "eight moms a-calling,\n",
      "seven seniors stressing,\n",
      "six graders grading,\n",
      "five practice exams,\n",
      "four course reviews,\n",
      "three lost pens,\n",
      "two meal points, and\n",
      "an email from Cal Poly.\n",
      "\n"
     ]
    }
   ],
   "source": [
    "days = xmas2.apply(lambda row: sing_day(xmas2, row.name + 1, 'Full.Phrase'), axis=1)\n",
    "\n",
    "# Print each day\n",
    "for day in days:\n",
    "    print(day + \"\\n\")"
   ]
  },
  {
   "cell_type": "markdown",
   "metadata": {},
   "source": [
    "Ethics Statement and References: This lab attempted to recreate the 12 Days of Christmas song using the main concepts of iteration and looping from week 3. Certain outside libraries were employed such as num2words to achieve desired outcomes with the words of the song. Generative AI was also used to help with certain code such as vectorizing functions, as well as certain syntax errors or work arounds for portions of the project that did not work as expected such as the \"fill_na\" portions. "
   ]
  }
 ],
 "metadata": {
  "kernelspec": {
   "display_name": "Python 3",
   "language": "python",
   "name": "python3"
  },
  "language_info": {
   "codemirror_mode": {
    "name": "ipython",
    "version": 3
   },
   "file_extension": ".py",
   "mimetype": "text/x-python",
   "name": "python",
   "nbconvert_exporter": "python",
   "pygments_lexer": "ipython3",
   "version": "3.12.5"
  }
 },
 "nbformat": 4,
 "nbformat_minor": 2
}
