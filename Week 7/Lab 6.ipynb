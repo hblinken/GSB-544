{
 "cells": [
  {
   "cell_type": "markdown",
   "metadata": {},
   "source": [
    "---\n",
    "title: 'Lab 6'\n",
    "author: \"Hunter Blinkenberg\"\n",
    "embed-resources: true\n",
    "format: \n",
    "    html:\n",
    "        toc: true\n",
    "        code-fold: true\n",
    "        theme: cosmo\n",
    "        echo: true\n",
    "---"
   ]
  },
  {
   "cell_type": "markdown",
   "metadata": {},
   "source": [
    "Ethics Statement and References: This lab uses predictive modeling to design a model that predicts a baseball player's salary. Generative AI was used to help out with some of the functions that were more difficult to figure out such as how to get the ceofficients names to display along with the actual value, etc. "
   ]
  },
  {
   "cell_type": "code",
   "execution_count": 98,
   "metadata": {},
   "outputs": [],
   "source": [
    "import pandas as pd\n",
    "import numpy as np\n",
    "from sklearn.pipeline import Pipeline\n",
    "from sklearn.compose import make_column_selector, ColumnTransformer\n",
    "from sklearn.preprocessing import StandardScaler, OneHotEncoder, PolynomialFeatures\n",
    "from sklearn.linear_model import LinearRegression, Ridge, Lasso, ElasticNet \n",
    "from sklearn.model_selection import train_test_split, cross_val_score\n",
    "from sklearn.metrics import r2_score, mean_squared_error\n",
    "from plotnine import ggplot, aes, geom_bar, theme_minimal, labs, facet_wrap, geom_point\n",
    "from sklearn.model_selection import GridSearchCV"
   ]
  },
  {
   "cell_type": "code",
   "execution_count": 99,
   "metadata": {},
   "outputs": [],
   "source": [
    "hits = pd.read_csv(\"C:/Users/hblin/OneDrive - Cal Poly/GSB 544/Week 7/Hitters.csv\")\n",
    "\n",
    "hits = hits.dropna()\n",
    "\n",
    "# hits[\"Salary\"] = hits[\"Salary\"] * 1000"
   ]
  },
  {
   "cell_type": "code",
   "execution_count": 100,
   "metadata": {},
   "outputs": [],
   "source": [
    "X = hits.drop(\"Salary\", axis= 1)\n",
    "y = hits[\"Salary\"]"
   ]
  },
  {
   "cell_type": "code",
   "execution_count": 106,
   "metadata": {},
   "outputs": [],
   "source": [
    "def run_regression_with_cv(X, y, regression_type):\n",
    "    \"\"\"\n",
    "    Function to run a regression (OLS, Ridge, Lasso, ElasticNet) with cross-validation\n",
    "    and return the best hyperparameter (alpha) and best cross-validated MSE score.\n",
    "    \n",
    "    Arguments:\n",
    "    X -- Features DataFrame\n",
    "    y -- Target variable\n",
    "    regression_type -- Type of regression to run: 'ols', 'ridge', 'lasso', 'elasticnet'\n",
    "\n",
    "    Returns:\n",
    "    best_alpha -- Best alpha parameter found via GridSearchCV (or None for OLS)\n",
    "    best_cv_mse -- Best cross-validated MSE score\n",
    "    \"\"\"\n",
    "    # Define ColumnTransformer for preprocessing\n",
    "    ct = ColumnTransformer(\n",
    "        [\n",
    "            (\"dummify\", OneHotEncoder(sparse_output=False, handle_unknown='ignore'), make_column_selector(dtype_include=object)),\n",
    "            (\"standardize\", StandardScaler(), make_column_selector(dtype_include=np.number))\n",
    "        ],\n",
    "        remainder=\"passthrough\"\n",
    "    ).set_output(transform=\"pandas\")\n",
    "\n",
    "    # Initialize the regression models\n",
    "    if regression_type == 'ols':\n",
    "        model = LinearRegression()\n",
    "        pipeline = Pipeline([(\"preprocessing\", ct), (\"regression\", model)])\n",
    "        # Cross-validation MSE score\n",
    "        best_cv_mse = cross_val_score(pipeline, X, y, cv=5, scoring='neg_mean_squared_error').mean() * -1\n",
    "        pipeline.fit(X, y)  # Fit to get the coefficients\n",
    "\n",
    "        # Extract feature names after one-hot encoding for categorical features\n",
    "        categorical_feature_names = ct.transformers_[0][1].get_feature_names_out(input_features=X.select_dtypes(include=[object]).columns)\n",
    "\n",
    "        # Get numerical feature names\n",
    "        numerical_feature_names = X.select_dtypes(include=[np.number]).columns\n",
    "\n",
    "        # Combine all feature names (categorical and numeric)\n",
    "        all_feature_names = list(categorical_feature_names) + list(numerical_feature_names)\n",
    "\n",
    "        # Extract coefficients for the fitted model\n",
    "        coefficients = pipeline.named_steps['regression'].coef_\n",
    "\n",
    "        # Display coefficients with feature names\n",
    "        print(\"Feature names and coefficients for OLS (Linear Regression):\")\n",
    "        for feature, coef in zip(all_feature_names, coefficients):\n",
    "            print(f\"{feature}: {coef}\")\n",
    "        \n",
    "        return None, best_cv_mse  # No best alpha for OLS\n",
    "\n",
    "    elif regression_type == 'ridge':\n",
    "        model = Ridge()\n",
    "        pipeline = Pipeline([(\"preprocessing\", ct), (\"ridge\", model)])\n",
    "\n",
    "        # Hyperparameter grid for Ridge\n",
    "        param_grid = {\"ridge__alpha\": [0.001, 0.01, 0.1, 1, 10]}\n",
    "    \n",
    "    elif regression_type == 'lasso':\n",
    "        model = Lasso()\n",
    "        pipeline = Pipeline([(\"preprocessing\", ct), (\"lasso\", model)])\n",
    "\n",
    "        # Hyperparameter grid for Lasso\n",
    "        param_grid = {\"lasso__alpha\": [0.001, 0.01, 0.1, 1, 10]}\n",
    "\n",
    "    elif regression_type == 'elasticnet':\n",
    "        model = ElasticNet()\n",
    "        pipeline = Pipeline([(\"preprocessing\", ct), (\"elasticnet\", model)])\n",
    "\n",
    "        # Hyperparameter grid for ElasticNet\n",
    "        param_grid = {\"elasticnet__alpha\": [0.001, 0.01, 0.1, 1, 10],\n",
    "                      \"elasticnet__l1_ratio\": [0.1, 0.5, 0.9]}  # L1 ratio for ElasticNet\n",
    "\n",
    "    # GridSearchCV for finding the best alpha\n",
    "    grid_search = GridSearchCV(pipeline, param_grid, cv=5, scoring='neg_mean_squared_error')\n",
    "    grid_search.fit(X, y)\n",
    "\n",
    "    # Best hyperparameter and cross-validated MSE score\n",
    "    best_alpha = grid_search.best_params_\n",
    "    best_cv_mse = -grid_search.best_score_  # We negate the score to get the positive MSE\n",
    "    \n",
    "    # Display the results\n",
    "    print(f\"Best {regression_type} Alpha: {best_alpha}\")\n",
    "    print(f\"Best Cross-Validated MSE: {best_cv_mse}\")\n",
    "\n",
    "    # Extract the coefficients and feature names for the best model\n",
    "    best_pipeline = grid_search.best_estimator_\n",
    "\n",
    "    # Get the preprocessor and model from the pipeline\n",
    "    preprocessor = best_pipeline.named_steps['preprocessing']\n",
    "    \n",
    "    # Extract feature names for categorical columns\n",
    "    cat_features = preprocessor.named_transformers_['dummify'].get_feature_names_out(input_features=X.select_dtypes(include=[object]).columns)\n",
    "    \n",
    "    # Extract feature names for numerical columns\n",
    "    num_features = X.select_dtypes(include=[np.number]).columns\n",
    "\n",
    "    # Combine both categorical and numerical feature names\n",
    "    all_feature_names = list(cat_features) + list(num_features)\n",
    "    \n",
    "    # Extract coefficients for the selected model\n",
    "    coefficients = best_pipeline.named_steps[regression_type].coef_\n",
    "\n",
    "    # Combine feature names and coefficients\n",
    "    print(f\"Feature names and coefficients for {regression_type}:\")\n",
    "    for feature, coef in zip(all_feature_names, coefficients):\n",
    "        print(f\"{feature}: {coef}\")\n",
    "\n",
    "    return best_alpha, best_cv_mse\n"
   ]
  },
  {
   "cell_type": "markdown",
   "metadata": {},
   "source": [
    "# Part I: Different Model Specs"
   ]
  },
  {
   "cell_type": "markdown",
   "metadata": {},
   "source": [
    "##  A. Regression without regularization "
   ]
  },
  {
   "cell_type": "code",
   "execution_count": 102,
   "metadata": {},
   "outputs": [
    {
     "name": "stdout",
     "output_type": "stream",
     "text": [
      "Feature names and coefficients for OLS (Linear Regression):\n",
      "League_A: -31.299711517594083\n",
      "League_N: 31.29971151759421\n",
      "Division_E: 58.424622818437655\n",
      "Division_W: -58.424622818437655\n",
      "NewLeague_A: 12.381162554200026\n",
      "NewLeague_N: -12.381162554200296\n",
      "AtBat: -291.09455569715004\n",
      "Hits: 337.8304794814834\n",
      "HmRun: 37.853836764343086\n",
      "Runs: -60.572478605510774\n",
      "RBI: -26.99498378992079\n",
      "Walks: 135.0738969513123\n",
      "Years: -16.69335887510292\n",
      "CAtBat: -391.038654663538\n",
      "CHits: 86.68761663772092\n",
      "CHmRun: -14.18172332300863\n",
      "CRuns: 480.7471347707918\n",
      "CRBI: 260.68988580523114\n",
      "CWalks: -213.89225864291225\n",
      "PutOuts: 78.76129639492689\n",
      "Assists: 53.73248973474442\n",
      "Errors: -22.160862174225585\n",
      "Best alpha (Ridge): None\n",
      "Best Cross-Validated MSE: 121136.31031816886\n"
     ]
    }
   ],
   "source": [
    "best_alpha, best_cv_mse = run_regression_with_cv(X, y, regression_type='ols')\n",
    "print(f\"Best alpha (Ridge): {best_alpha}\")\n",
    "print(f\"Best Cross-Validated MSE: {best_cv_mse}\")\n",
    "\n"
   ]
  },
  {
   "cell_type": "markdown",
   "metadata": {},
   "source": [
    "The most imporant coefficients are Hits, CRuns, CAtBat, CRBI, and AtBat. These suggest that hitting capabilities largely affect salary. CRuns is the biggest predictor coefficient with a predicted 480k salary increase for every career run. "
   ]
  },
  {
   "cell_type": "markdown",
   "metadata": {},
   "source": [
    "## B. Ridge regression"
   ]
  },
  {
   "cell_type": "code",
   "execution_count": 103,
   "metadata": {},
   "outputs": [
    {
     "name": "stdout",
     "output_type": "stream",
     "text": [
      "Best ridge Alpha: {'ridge__alpha': 1}\n",
      "Best Cross-Validated MSE: 119144.43267691605\n",
      "Feature names and coefficients for ridge:\n",
      "League_A: -30.438855310625804\n",
      "League_N: 30.438855310628888\n",
      "Division_E: 60.01559492710364\n",
      "Division_W: -60.015594927103336\n",
      "NewLeague_A: 13.111281545686666\n",
      "NewLeague_N: -13.111281545685904\n",
      "AtBat: -270.68644069623673\n",
      "Hits: 296.64505003257005\n",
      "HmRun: 18.100591581199478\n",
      "Runs: -29.339406130418972\n",
      "RBI: -9.113294533329986\n",
      "Walks: 124.40717273179192\n",
      "Years: -38.66774782234878\n",
      "CAtBat: -225.40654798156194\n",
      "CHits: 126.65960654936816\n",
      "CHmRun: 39.07092364167405\n",
      "CRuns: 320.4121689078557\n",
      "CRBI: 160.38678418275893\n",
      "CWalks: -184.42361059971174\n",
      "PutOuts: 78.62365619201013\n",
      "Assists: 47.462597110689764\n",
      "Errors: -23.724190306614684\n",
      "Best alpha (Ridge): {'ridge__alpha': 1}\n",
      "Best Cross-Validated MSE: 119144.43267691605\n"
     ]
    }
   ],
   "source": [
    "best_alpha, best_cv_mse = run_regression_with_cv(X, y, regression_type='ridge')\n",
    "print(f\"Best alpha (Ridge): {best_alpha}\")\n",
    "print(f\"Best Cross-Validated MSE: {best_cv_mse}\")"
   ]
  },
  {
   "cell_type": "markdown",
   "metadata": {},
   "source": [
    "In the ridge model, CRuns is still the biggest predictor coefficient with a predicted 320k salary increase for every career run. The same variables of hitting capabilities seem to remain most important  over the career. In this model, AtBat is the next biggest predicter coefficient with a predicted -270k salary decrease with every 1 at bat. "
   ]
  },
  {
   "cell_type": "markdown",
   "metadata": {},
   "source": [
    "## C. Lasso regression"
   ]
  },
  {
   "cell_type": "code",
   "execution_count": 104,
   "metadata": {},
   "outputs": [
    {
     "name": "stderr",
     "output_type": "stream",
     "text": [
      "c:\\Users\\hblin\\AppData\\Local\\Programs\\Python\\Python312\\Lib\\site-packages\\sklearn\\linear_model\\_coordinate_descent.py:697: ConvergenceWarning: Objective did not converge. You might want to increase the number of iterations, check the scale of the features or consider increasing regularisation. Duality gap: 1.004e+07, tolerance: 4.708e+03\n",
      "c:\\Users\\hblin\\AppData\\Local\\Programs\\Python\\Python312\\Lib\\site-packages\\sklearn\\linear_model\\_coordinate_descent.py:697: ConvergenceWarning: Objective did not converge. You might want to increase the number of iterations, check the scale of the features or consider increasing regularisation. Duality gap: 8.984e+06, tolerance: 3.606e+03\n",
      "c:\\Users\\hblin\\AppData\\Local\\Programs\\Python\\Python312\\Lib\\site-packages\\sklearn\\linear_model\\_coordinate_descent.py:697: ConvergenceWarning: Objective did not converge. You might want to increase the number of iterations, check the scale of the features or consider increasing regularisation. Duality gap: 1.012e+07, tolerance: 4.137e+03\n",
      "c:\\Users\\hblin\\AppData\\Local\\Programs\\Python\\Python312\\Lib\\site-packages\\sklearn\\linear_model\\_coordinate_descent.py:697: ConvergenceWarning: Objective did not converge. You might want to increase the number of iterations, check the scale of the features or consider increasing regularisation. Duality gap: 4.096e+06, tolerance: 4.281e+03\n",
      "c:\\Users\\hblin\\AppData\\Local\\Programs\\Python\\Python312\\Lib\\site-packages\\sklearn\\linear_model\\_coordinate_descent.py:697: ConvergenceWarning: Objective did not converge. You might want to increase the number of iterations, check the scale of the features or consider increasing regularisation. Duality gap: 9.537e+06, tolerance: 4.558e+03\n",
      "c:\\Users\\hblin\\AppData\\Local\\Programs\\Python\\Python312\\Lib\\site-packages\\sklearn\\linear_model\\_coordinate_descent.py:697: ConvergenceWarning: Objective did not converge. You might want to increase the number of iterations, check the scale of the features or consider increasing regularisation. Duality gap: 6.594e+06, tolerance: 4.708e+03\n",
      "c:\\Users\\hblin\\AppData\\Local\\Programs\\Python\\Python312\\Lib\\site-packages\\sklearn\\linear_model\\_coordinate_descent.py:697: ConvergenceWarning: Objective did not converge. You might want to increase the number of iterations, check the scale of the features or consider increasing regularisation. Duality gap: 7.059e+06, tolerance: 3.606e+03\n",
      "c:\\Users\\hblin\\AppData\\Local\\Programs\\Python\\Python312\\Lib\\site-packages\\sklearn\\linear_model\\_coordinate_descent.py:697: ConvergenceWarning: Objective did not converge. You might want to increase the number of iterations, check the scale of the features or consider increasing regularisation. Duality gap: 8.591e+06, tolerance: 4.137e+03\n",
      "c:\\Users\\hblin\\AppData\\Local\\Programs\\Python\\Python312\\Lib\\site-packages\\sklearn\\linear_model\\_coordinate_descent.py:697: ConvergenceWarning: Objective did not converge. You might want to increase the number of iterations, check the scale of the features or consider increasing regularisation. Duality gap: 4.471e+05, tolerance: 4.281e+03\n",
      "c:\\Users\\hblin\\AppData\\Local\\Programs\\Python\\Python312\\Lib\\site-packages\\sklearn\\linear_model\\_coordinate_descent.py:697: ConvergenceWarning: Objective did not converge. You might want to increase the number of iterations, check the scale of the features or consider increasing regularisation. Duality gap: 8.066e+06, tolerance: 4.558e+03\n",
      "c:\\Users\\hblin\\AppData\\Local\\Programs\\Python\\Python312\\Lib\\site-packages\\sklearn\\linear_model\\_coordinate_descent.py:697: ConvergenceWarning: Objective did not converge. You might want to increase the number of iterations, check the scale of the features or consider increasing regularisation. Duality gap: 4.923e+04, tolerance: 4.708e+03\n",
      "c:\\Users\\hblin\\AppData\\Local\\Programs\\Python\\Python312\\Lib\\site-packages\\sklearn\\linear_model\\_coordinate_descent.py:697: ConvergenceWarning: Objective did not converge. You might want to increase the number of iterations, check the scale of the features or consider increasing regularisation. Duality gap: 2.726e+05, tolerance: 3.606e+03\n",
      "c:\\Users\\hblin\\AppData\\Local\\Programs\\Python\\Python312\\Lib\\site-packages\\sklearn\\linear_model\\_coordinate_descent.py:697: ConvergenceWarning: Objective did not converge. You might want to increase the number of iterations, check the scale of the features or consider increasing regularisation. Duality gap: 2.158e+05, tolerance: 4.137e+03\n",
      "c:\\Users\\hblin\\AppData\\Local\\Programs\\Python\\Python312\\Lib\\site-packages\\sklearn\\linear_model\\_coordinate_descent.py:697: ConvergenceWarning: Objective did not converge. You might want to increase the number of iterations, check the scale of the features or consider increasing regularisation. Duality gap: 2.929e+04, tolerance: 4.281e+03\n",
      "c:\\Users\\hblin\\AppData\\Local\\Programs\\Python\\Python312\\Lib\\site-packages\\sklearn\\linear_model\\_coordinate_descent.py:697: ConvergenceWarning: Objective did not converge. You might want to increase the number of iterations, check the scale of the features or consider increasing regularisation. Duality gap: 4.282e+05, tolerance: 4.558e+03\n",
      "c:\\Users\\hblin\\AppData\\Local\\Programs\\Python\\Python312\\Lib\\site-packages\\sklearn\\linear_model\\_coordinate_descent.py:697: ConvergenceWarning: Objective did not converge. You might want to increase the number of iterations, check the scale of the features or consider increasing regularisation. Duality gap: 4.815e+03, tolerance: 4.281e+03\n"
     ]
    },
    {
     "name": "stdout",
     "output_type": "stream",
     "text": [
      "Best lasso Alpha: {'lasso__alpha': 1}\n",
      "Best Cross-Validated MSE: 119761.58740741308\n",
      "Feature names and coefficients for lasso:\n",
      "League_A: -35.826072111628456\n",
      "League_N: 9.974641468119858e-14\n",
      "Division_E: 114.41295113388867\n",
      "Division_W: -2.0789294977294632e-11\n",
      "NewLeague_A: 0.0\n",
      "NewLeague_N: -0.0\n",
      "AtBat: -282.37095717330493\n",
      "Hits: 304.35950858415094\n",
      "HmRun: 11.127022029363774\n",
      "Runs: -24.96650711139829\n",
      "RBI: -0.0\n",
      "Walks: 120.69527502165931\n",
      "Years: -34.94814807264341\n",
      "CAtBat: -162.6397937686367\n",
      "CHits: 0.0\n",
      "CHmRun: 14.225993157039428\n",
      "CRuns: 375.5655192079644\n",
      "CRBI: 192.61089166933445\n",
      "CWalks: -189.6446419428977\n",
      "PutOuts: 78.76036575456914\n",
      "Assists: 41.99667950395398\n",
      "Errors: -18.479378396747396\n",
      "Best alpha (Ridge): {'lasso__alpha': 1}\n",
      "Best Cross-Validated MSE: 119761.58740741308\n"
     ]
    }
   ],
   "source": [
    "best_alpha, best_cv_mse = run_regression_with_cv(X, y, regression_type='lasso')\n",
    "print(f\"Best alpha (Ridge): {best_alpha}\")\n",
    "print(f\"Best Cross-Validated MSE: {best_cv_mse}\")"
   ]
  },
  {
   "cell_type": "markdown",
   "metadata": {},
   "source": [
    "Similar to the last models, CRuns is the biggest predictor, with CRuns, Hits, AtBat, and CWalks are weighted the heaviest. Some coefficients have been forced to 0 as a result of the lasso regression though"
   ]
  },
  {
   "cell_type": "markdown",
   "metadata": {},
   "source": [
    "## D. Elastic Net "
   ]
  },
  {
   "cell_type": "code",
   "execution_count": 105,
   "metadata": {},
   "outputs": [
    {
     "name": "stderr",
     "output_type": "stream",
     "text": [
      "c:\\Users\\hblin\\AppData\\Local\\Programs\\Python\\Python312\\Lib\\site-packages\\sklearn\\linear_model\\_coordinate_descent.py:697: ConvergenceWarning: Objective did not converge. You might want to increase the number of iterations, check the scale of the features or consider increasing regularisation. Duality gap: 1.033e+07, tolerance: 4.708e+03\n",
      "c:\\Users\\hblin\\AppData\\Local\\Programs\\Python\\Python312\\Lib\\site-packages\\sklearn\\linear_model\\_coordinate_descent.py:697: ConvergenceWarning: Objective did not converge. You might want to increase the number of iterations, check the scale of the features or consider increasing regularisation. Duality gap: 9.137e+06, tolerance: 3.606e+03\n",
      "c:\\Users\\hblin\\AppData\\Local\\Programs\\Python\\Python312\\Lib\\site-packages\\sklearn\\linear_model\\_coordinate_descent.py:697: ConvergenceWarning: Objective did not converge. You might want to increase the number of iterations, check the scale of the features or consider increasing regularisation. Duality gap: 1.030e+07, tolerance: 4.137e+03\n",
      "c:\\Users\\hblin\\AppData\\Local\\Programs\\Python\\Python312\\Lib\\site-packages\\sklearn\\linear_model\\_coordinate_descent.py:697: ConvergenceWarning: Objective did not converge. You might want to increase the number of iterations, check the scale of the features or consider increasing regularisation. Duality gap: 7.359e+06, tolerance: 4.281e+03\n",
      "c:\\Users\\hblin\\AppData\\Local\\Programs\\Python\\Python312\\Lib\\site-packages\\sklearn\\linear_model\\_coordinate_descent.py:697: ConvergenceWarning: Objective did not converge. You might want to increase the number of iterations, check the scale of the features or consider increasing regularisation. Duality gap: 9.710e+06, tolerance: 4.558e+03\n",
      "c:\\Users\\hblin\\AppData\\Local\\Programs\\Python\\Python312\\Lib\\site-packages\\sklearn\\linear_model\\_coordinate_descent.py:697: ConvergenceWarning: Objective did not converge. You might want to increase the number of iterations, check the scale of the features or consider increasing regularisation. Duality gap: 1.012e+07, tolerance: 4.708e+03\n",
      "c:\\Users\\hblin\\AppData\\Local\\Programs\\Python\\Python312\\Lib\\site-packages\\sklearn\\linear_model\\_coordinate_descent.py:697: ConvergenceWarning: Objective did not converge. You might want to increase the number of iterations, check the scale of the features or consider increasing regularisation. Duality gap: 8.995e+06, tolerance: 3.606e+03\n",
      "c:\\Users\\hblin\\AppData\\Local\\Programs\\Python\\Python312\\Lib\\site-packages\\sklearn\\linear_model\\_coordinate_descent.py:697: ConvergenceWarning: Objective did not converge. You might want to increase the number of iterations, check the scale of the features or consider increasing regularisation. Duality gap: 1.018e+07, tolerance: 4.137e+03\n",
      "c:\\Users\\hblin\\AppData\\Local\\Programs\\Python\\Python312\\Lib\\site-packages\\sklearn\\linear_model\\_coordinate_descent.py:697: ConvergenceWarning: Objective did not converge. You might want to increase the number of iterations, check the scale of the features or consider increasing regularisation. Duality gap: 7.060e+06, tolerance: 4.281e+03\n",
      "c:\\Users\\hblin\\AppData\\Local\\Programs\\Python\\Python312\\Lib\\site-packages\\sklearn\\linear_model\\_coordinate_descent.py:697: ConvergenceWarning: Objective did not converge. You might want to increase the number of iterations, check the scale of the features or consider increasing regularisation. Duality gap: 9.579e+06, tolerance: 4.558e+03\n",
      "c:\\Users\\hblin\\AppData\\Local\\Programs\\Python\\Python312\\Lib\\site-packages\\sklearn\\linear_model\\_coordinate_descent.py:697: ConvergenceWarning: Objective did not converge. You might want to increase the number of iterations, check the scale of the features or consider increasing regularisation. Duality gap: 1.005e+07, tolerance: 4.708e+03\n",
      "c:\\Users\\hblin\\AppData\\Local\\Programs\\Python\\Python312\\Lib\\site-packages\\sklearn\\linear_model\\_coordinate_descent.py:697: ConvergenceWarning: Objective did not converge. You might want to increase the number of iterations, check the scale of the features or consider increasing regularisation. Duality gap: 8.982e+06, tolerance: 3.606e+03\n",
      "c:\\Users\\hblin\\AppData\\Local\\Programs\\Python\\Python312\\Lib\\site-packages\\sklearn\\linear_model\\_coordinate_descent.py:697: ConvergenceWarning: Objective did not converge. You might want to increase the number of iterations, check the scale of the features or consider increasing regularisation. Duality gap: 1.013e+07, tolerance: 4.137e+03\n",
      "c:\\Users\\hblin\\AppData\\Local\\Programs\\Python\\Python312\\Lib\\site-packages\\sklearn\\linear_model\\_coordinate_descent.py:697: ConvergenceWarning: Objective did not converge. You might want to increase the number of iterations, check the scale of the features or consider increasing regularisation. Duality gap: 5.488e+06, tolerance: 4.281e+03\n",
      "c:\\Users\\hblin\\AppData\\Local\\Programs\\Python\\Python312\\Lib\\site-packages\\sklearn\\linear_model\\_coordinate_descent.py:697: ConvergenceWarning: Objective did not converge. You might want to increase the number of iterations, check the scale of the features or consider increasing regularisation. Duality gap: 9.543e+06, tolerance: 4.558e+03\n",
      "c:\\Users\\hblin\\AppData\\Local\\Programs\\Python\\Python312\\Lib\\site-packages\\sklearn\\linear_model\\_coordinate_descent.py:697: ConvergenceWarning: Objective did not converge. You might want to increase the number of iterations, check the scale of the features or consider increasing regularisation. Duality gap: 3.597e+05, tolerance: 4.708e+03\n",
      "c:\\Users\\hblin\\AppData\\Local\\Programs\\Python\\Python312\\Lib\\site-packages\\sklearn\\linear_model\\_coordinate_descent.py:697: ConvergenceWarning: Objective did not converge. You might want to increase the number of iterations, check the scale of the features or consider increasing regularisation. Duality gap: 3.940e+05, tolerance: 3.606e+03\n",
      "c:\\Users\\hblin\\AppData\\Local\\Programs\\Python\\Python312\\Lib\\site-packages\\sklearn\\linear_model\\_coordinate_descent.py:697: ConvergenceWarning: Objective did not converge. You might want to increase the number of iterations, check the scale of the features or consider increasing regularisation. Duality gap: 3.672e+06, tolerance: 4.137e+03\n",
      "c:\\Users\\hblin\\AppData\\Local\\Programs\\Python\\Python312\\Lib\\site-packages\\sklearn\\linear_model\\_coordinate_descent.py:697: ConvergenceWarning: Objective did not converge. You might want to increase the number of iterations, check the scale of the features or consider increasing regularisation. Duality gap: 2.925e+05, tolerance: 4.281e+03\n",
      "c:\\Users\\hblin\\AppData\\Local\\Programs\\Python\\Python312\\Lib\\site-packages\\sklearn\\linear_model\\_coordinate_descent.py:697: ConvergenceWarning: Objective did not converge. You might want to increase the number of iterations, check the scale of the features or consider increasing regularisation. Duality gap: 9.683e+05, tolerance: 4.558e+03\n"
     ]
    },
    {
     "name": "stdout",
     "output_type": "stream",
     "text": [
      "Best elasticnet Alpha: {'elasticnet__alpha': 0.1, 'elasticnet__l1_ratio': 0.9}\n",
      "Best Cross-Validated MSE: 118969.49340131154\n",
      "Feature names and coefficients for elasticnet:\n",
      "League_A: -27.879684823579147\n",
      "League_N: 27.87998426682858\n",
      "Division_E: 60.67059232883931\n",
      "Division_W: -60.67174944853942\n",
      "NewLeague_A: 11.19158041766919\n",
      "NewLeague_N: -11.19347297383407\n",
      "AtBat: -231.50781166705525\n",
      "Hits: 247.55614590053753\n",
      "HmRun: 4.470921754490769\n",
      "Runs: -5.041667988969194\n",
      "RBI: 2.384347282527404\n",
      "Walks: 110.80823487974342\n",
      "Years: -49.54157197831513\n",
      "CAtBat: -115.29371139914225\n",
      "CHits: 120.01542461996134\n",
      "CHmRun: 55.91505651718336\n",
      "CRuns: 223.03749016380291\n",
      "CRBI: 121.69342970573753\n",
      "CWalks: -154.66882940112455\n",
      "PutOuts: 77.91853947991538\n",
      "Assists: 40.7366413934229\n",
      "Errors: -24.388980915134283\n",
      "Best alpha (Ridge): {'elasticnet__alpha': 0.1, 'elasticnet__l1_ratio': 0.9}\n",
      "Best Cross-Validated MSE: 118969.49340131154\n"
     ]
    }
   ],
   "source": [
    "best_alpha, best_cv_mse = run_regression_with_cv(X, y, regression_type='elasticnet')\n",
    "print(f\"Best alpha (Ridge): {best_alpha}\")\n",
    "print(f\"Best Cross-Validated MSE: {best_cv_mse}\")"
   ]
  },
  {
   "cell_type": "markdown",
   "metadata": {},
   "source": [
    "Similar to other models, Hits is the biggest predictor, with CRuns, Hits, AtBat, and CWalks being weighted some of the heaviest. "
   ]
  },
  {
   "cell_type": "markdown",
   "metadata": {},
   "source": [
    "# Part II: Variable Selection"
   ]
  },
  {
   "cell_type": "markdown",
   "metadata": {},
   "source": [
    "Most important numeric: CRuns \n",
    "\n",
    "Five most important numeric: CRuns, Hits, AtBat, Walks, and CRBI\n",
    "\n",
    "Most important Categorical: Division "
   ]
  },
  {
   "cell_type": "markdown",
   "metadata": {},
   "source": [
    "## 1 numeric "
   ]
  },
  {
   "cell_type": "code",
   "execution_count": 108,
   "metadata": {},
   "outputs": [],
   "source": [
    "Xone = hits['CRuns']"
   ]
  },
  {
   "cell_type": "code",
   "execution_count": null,
   "metadata": {},
   "outputs": [],
   "source": [
    "\n",
    "def run_regression_with_one(Xone, y, regression_type):\n",
    "    \"\"\"\n",
    "    Function to run a regression (OLS, Ridge, Lasso, ElasticNet) with cross-validation\n",
    "    and return the best hyperparameter (alpha) and best cross-validated MSE score.\n",
    "    \n",
    "    Arguments:\n",
    "    X -- Features DataFrame\n",
    "    y -- Target variable\n",
    "    regression_type -- Type of regression to run: 'ols', 'ridge', 'lasso', 'elasticnet'\n",
    "\n",
    "    Returns:\n",
    "    best_alpha -- Best alpha parameter found via GridSearchCV (or None for OLS)\n",
    "    best_cv_mse -- Best cross-validated MSE score\n",
    "    \"\"\"\n",
    "    # Convert all non-numeric columns to numeric (or handle non-numeric values appropriately)\n",
    "    #print(\"Starting preprocessing...\")\n",
    "    Xone = Xone.apply(pd.to_numeric, errors='coerce')  # Coerce non-numeric to NaN\n",
    "    Xone.fillna(0, inplace=True)  # Optionally fill NaN values with 0 (or another strategy)\n",
    "\n",
    "    print(\"Preprocessing completed.\")\n",
    "\n",
    "    # Define ColumnTransformer for preprocessing (standardizing numerical, encoding categorical)\n",
    "    numerical_cols = Xone.select_dtypes(include=[np.number]).columns\n",
    "    categorical_cols = Xone.select_dtypes(exclude=[np.number]).columns\n",
    "\n",
    "    ct = ColumnTransformer(\n",
    "        [\n",
    "            (\"standardize\", StandardScaler(), numerical_cols),  # Standard scaling for numerical features\n",
    "            (\"encode\", OneHotEncoder(), categorical_cols),  # One-hot encoding for categorical features\n",
    "        ],\n",
    "        remainder=\"passthrough\"\n",
    "    ).set_output(transform=\"pandas\")\n",
    "\n",
    "    # Initialize the regression models\n",
    "    pipeline = None  # Initialize the pipeline variable to avoid UnboundLocalError\n",
    "\n",
    "    if regression_type == 'ols':\n",
    "        print(\"OLS Regression selected.\")\n",
    "        model = LinearRegression()\n",
    "        pipeline = Pipeline([(\"preprocessing\", ct), (\"regression\", model)])\n",
    "        \n",
    "        # Cross-validation MSE score\n",
    "        best_cv_mse = cross_val_score(pipeline, Xone, y, cv=5, scoring='neg_mean_squared_error').mean() * -1\n",
    "        pipeline.fit(Xone, y)  # Fit to get the coefficients\n",
    "\n",
    "        # Extract feature names\n",
    "        all_feature_names = list(numerical_cols) + list(categorical_cols)\n",
    "\n",
    "        # Extract coefficients for the fitted model\n",
    "        coefficients = pipeline.named_steps['regression'].coef_\n",
    "\n",
    "        # Display coefficients with feature names\n",
    "        print(\"Feature names and coefficients for OLS (Linear Regression):\")\n",
    "        for feature, coef in zip(all_feature_names, coefficients):\n",
    "            print(f\"{feature}: {coef}\")\n",
    "\n",
    "        return None, best_cv_mse  # No best alpha for OLS\n",
    "\n",
    "    # For Ridge, Lasso, and ElasticNet\n",
    "    elif regression_type in ['ridge', 'lasso', 'elasticnet']:\n",
    "        print(f\"{regression_type} selected.\")\n",
    "        # Set model and hyperparameters based on the regression type\n",
    "        if regression_type == 'ridge':\n",
    "            model = Ridge()\n",
    "            param_grid = {\"ridge__alpha\": [0.001, 0.01, 0.1, 1, 10]}\n",
    "        elif regression_type == 'lasso':\n",
    "            model = Lasso()\n",
    "            param_grid = {\"lasso__alpha\": [0.001, 0.01, 0.1, 1, 10]}\n",
    "        elif regression_type == 'elasticnet':\n",
    "            model = ElasticNet()\n",
    "            param_grid = {\"elasticnet__alpha\": [0.001, 0.01, 0.1, 1, 10],\n",
    "                          \"elasticnet__l1_ratio\": [0.1, 0.5, 0.9]}  # L1 ratio for ElasticNet\n",
    "\n",
    "        # Create pipeline and perform grid search\n",
    "        pipeline = Pipeline([(\"preprocessing\", ct), (regression_type, model)])  # Create pipeline here\n",
    "        print(\"Performing GridSearchCV...\")\n",
    "        grid_search = GridSearchCV(pipeline, param_grid, cv=5, scoring='neg_mean_squared_error')\n",
    "        grid_search.fit(Xone, y)\n",
    "\n",
    "        # Best hyperparameter and cross-validated MSE score\n",
    "        best_alpha = grid_search.best_params_\n",
    "        best_cv_mse = -grid_search.best_score_  # Negating to return positive MSE\n",
    "        \n",
    "        # Display the results\n",
    "        print(f\"Best {regression_type} Alpha: {best_alpha}\")\n",
    "        print(f\"Best Cross-Validated MSE: {best_cv_mse}\")\n",
    "\n",
    "        # Extract the coefficients and feature names for the best model\n",
    "        best_pipeline = grid_search.best_estimator_\n",
    "        coefficients = best_pipeline.named_steps[regression_type].coef_\n",
    "\n",
    "        # Combine feature names (numerical + categorical)\n",
    "        all_feature_names = list(numerical_cols) + list(categorical_cols)\n",
    "\n",
    "        # Display coefficients for the selected model\n",
    "        print(f\"Feature names and coefficients for {regression_type}:\")\n",
    "        for feature, coef in zip(all_feature_names, coefficients):\n",
    "            print(f\"{feature}: {coef}\")\n",
    "\n",
    "        return best_alpha, best_cv_mse\n",
    "\n",
    "    else:\n",
    "        print(f\"Invalid regression type: {regression_type}\")\n",
    "        return None, None\n"
   ]
  },
  {
   "cell_type": "code",
   "execution_count": 128,
   "metadata": {},
   "outputs": [
    {
     "name": "stdout",
     "output_type": "stream",
     "text": [
      "Preprocessing completed.\n",
      "OLS Regression selected.\n",
      "Feature names and coefficients for OLS (Linear Regression):\n",
      "CRuns: 253.35139209799252\n"
     ]
    },
    {
     "data": {
      "text/plain": [
       "(None, np.float64(143812.93591629734))"
      ]
     },
     "execution_count": 128,
     "metadata": {},
     "output_type": "execute_result"
    }
   ],
   "source": [
    "run_regression_with_one(Xone, y, regression_type= \"ols\")"
   ]
  },
  {
   "cell_type": "code",
   "execution_count": 129,
   "metadata": {},
   "outputs": [
    {
     "name": "stdout",
     "output_type": "stream",
     "text": [
      "Preprocessing completed.\n",
      "ridge selected.\n",
      "Performing GridSearchCV...\n",
      "Best ridge Alpha: {'ridge__alpha': 10}\n",
      "Best Cross-Validated MSE: 143658.5173685888\n",
      "Feature names and coefficients for ridge:\n",
      "CRuns: 244.07112132517216\n"
     ]
    },
    {
     "data": {
      "text/plain": [
       "({'ridge__alpha': 10}, np.float64(143658.5173685888))"
      ]
     },
     "execution_count": 129,
     "metadata": {},
     "output_type": "execute_result"
    }
   ],
   "source": [
    "run_regression_with_one(Xone, y, regression_type= \"ridge\")"
   ]
  },
  {
   "cell_type": "code",
   "execution_count": 130,
   "metadata": {},
   "outputs": [
    {
     "name": "stdout",
     "output_type": "stream",
     "text": [
      "Preprocessing completed.\n",
      "lasso selected.\n",
      "Performing GridSearchCV...\n",
      "Best lasso Alpha: {'lasso__alpha': 10}\n",
      "Best Cross-Validated MSE: 143793.4491585397\n",
      "Feature names and coefficients for lasso:\n",
      "CRuns: 243.3513920979925\n"
     ]
    },
    {
     "data": {
      "text/plain": [
       "({'lasso__alpha': 10}, np.float64(143793.4491585397))"
      ]
     },
     "execution_count": 130,
     "metadata": {},
     "output_type": "execute_result"
    }
   ],
   "source": [
    "run_regression_with_one(Xone, y, regression_type= \"lasso\")"
   ]
  },
  {
   "cell_type": "code",
   "execution_count": 131,
   "metadata": {},
   "outputs": [
    {
     "name": "stdout",
     "output_type": "stream",
     "text": [
      "Preprocessing completed.\n",
      "elasticnet selected.\n",
      "Performing GridSearchCV...\n",
      "Best elasticnet Alpha: {'elasticnet__alpha': 0.1, 'elasticnet__l1_ratio': 0.5}\n",
      "Best Cross-Validated MSE: 143655.07604766646\n",
      "Feature names and coefficients for elasticnet:\n",
      "CRuns: 241.23942104570716\n"
     ]
    },
    {
     "data": {
      "text/plain": [
       "({'elasticnet__alpha': 0.1, 'elasticnet__l1_ratio': 0.5},\n",
       " np.float64(143655.07604766646))"
      ]
     },
     "execution_count": 131,
     "metadata": {},
     "output_type": "execute_result"
    }
   ],
   "source": [
    "run_regression_with_one(Xone, y, regression_type= \"elasticnet\")"
   ]
  },
  {
   "cell_type": "markdown",
   "metadata": {},
   "source": [
    "## Five Best"
   ]
  },
  {
   "cell_type": "code",
   "execution_count": 133,
   "metadata": {},
   "outputs": [],
   "source": [
    "Xfive = hits[['CRuns', 'Hits', 'AtBat', 'Walks', 'CRBI']]"
   ]
  },
  {
   "cell_type": "code",
   "execution_count": 138,
   "metadata": {},
   "outputs": [],
   "source": [
    "def run_regression_with_five(Xfive, y, regression_type):\n",
    "    \"\"\"\n",
    "    Function to run a regression (OLS, Ridge, Lasso, ElasticNet) with cross-validation\n",
    "    and return the best hyperparameter (alpha) and best cross-validated MSE score.\n",
    "    \n",
    "    Arguments:\n",
    "    X -- Features DataFrame\n",
    "    y -- Target variable\n",
    "    regression_type -- Type of regression to run: 'ols', 'ridge', 'lasso', 'elasticnet'\n",
    "\n",
    "    Returns:\n",
    "    best_alpha -- Best alpha parameter found via GridSearchCV (or None for OLS)\n",
    "    best_cv_mse -- Best cross-validated MSE score\n",
    "    \"\"\"\n",
    "    # Convert all non-numeric columns to numeric (or handle non-numeric values appropriately)\n",
    "    #print(\"Starting preprocessing...\")\n",
    "    Xfive = Xfive.apply(pd.to_numeric, errors='coerce')  # Coerce non-numeric to NaN\n",
    "    Xfive.fillna(0, inplace=True)  # Optionally fill NaN values with 0 (or another strategy)\n",
    "\n",
    "    print(\"Preprocessing completed.\")\n",
    "\n",
    "    # Define ColumnTransformer for preprocessing (standardizing numerical, encoding categorical)\n",
    "    numerical_cols = Xfive.select_dtypes(include=[np.number]).columns\n",
    "    categorical_cols = Xfive.select_dtypes(exclude=[np.number]).columns\n",
    "\n",
    "    ct = ColumnTransformer(\n",
    "        [\n",
    "            (\"standardize\", StandardScaler(), numerical_cols),  # Standard scaling for numerical features\n",
    "            (\"encode\", OneHotEncoder(), categorical_cols),  # One-hot encoding for categorical features\n",
    "        ],\n",
    "        remainder=\"passthrough\"\n",
    "    ).set_output(transform=\"pandas\")\n",
    "\n",
    "    # Initialize the regression models\n",
    "    pipeline = None  # Initialize the pipeline variable to avoid UnboundLocalError\n",
    "\n",
    "    if regression_type == 'ols':\n",
    "        print(\"OLS Regression selected.\")\n",
    "        model = LinearRegression()\n",
    "        pipeline = Pipeline([(\"preprocessing\", ct), (\"regression\", model)])\n",
    "        \n",
    "        # Cross-validation MSE score\n",
    "        best_cv_mse = cross_val_score(pipeline, Xfive, y, cv=5, scoring='neg_mean_squared_error').mean() * -1\n",
    "        pipeline.fit(Xfive, y)  # Fit to get the coefficients\n",
    "\n",
    "        # Extract feature names\n",
    "        all_feature_names = list(numerical_cols) + list(categorical_cols)\n",
    "\n",
    "        # Extract coefficients for the fitted model\n",
    "        coefficients = pipeline.named_steps['regression'].coef_\n",
    "\n",
    "        # Display coefficients with feature names\n",
    "        print(\"Feature names and coefficients for OLS (Linear Regression):\")\n",
    "        for feature, coef in zip(all_feature_names, coefficients):\n",
    "            print(f\"{feature}: {coef}\")\n",
    "\n",
    "        return None, best_cv_mse  # No best alpha for OLS\n",
    "\n",
    "    # For Ridge, Lasso, and ElasticNet\n",
    "    elif regression_type in ['ridge', 'lasso', 'elasticnet']:\n",
    "        print(f\"{regression_type} selected.\")\n",
    "        # Set model and hyperparameters based on the regression type\n",
    "        if regression_type == 'ridge':\n",
    "            model = Ridge()\n",
    "            param_grid = {\"ridge__alpha\": [0.001, 0.01, 0.1, 1, 10]}\n",
    "        elif regression_type == 'lasso':\n",
    "            model = Lasso()\n",
    "            param_grid = {\"lasso__alpha\": [0.001, 0.01, 0.1, 1, 10]}\n",
    "        elif regression_type == 'elasticnet':\n",
    "            model = ElasticNet()\n",
    "            param_grid = {\"elasticnet__alpha\": [0.001, 0.01, 0.1, 1, 10],\n",
    "                          \"elasticnet__l1_ratio\": [0.1, 0.5, 0.9]}  # L1 ratio for ElasticNet\n",
    "\n",
    "        # Create pipeline and perform grid search\n",
    "        pipeline = Pipeline([(\"preprocessing\", ct), (regression_type, model)])  # Create pipeline here\n",
    "        print(\"Performing GridSearchCV...\")\n",
    "        grid_search = GridSearchCV(pipeline, param_grid, cv=5, scoring='neg_mean_squared_error')\n",
    "        grid_search.fit(Xfive, y)\n",
    "\n",
    "        # Best hyperparameter and cross-validated MSE score\n",
    "        best_alpha = grid_search.best_params_\n",
    "        best_cv_mse = -grid_search.best_score_  # Negating to return positive MSE\n",
    "        \n",
    "        # Display the results\n",
    "        print(f\"Best {regression_type} Alpha: {best_alpha}\")\n",
    "        print(f\"Best Cross-Validated MSE: {best_cv_mse}\")\n",
    "\n",
    "        # Extract the coefficients and feature names for the best model\n",
    "        best_pipeline = grid_search.best_estimator_\n",
    "        coefficients = best_pipeline.named_steps[regression_type].coef_\n",
    "\n",
    "        # Combine feature names (numerical + categorical)\n",
    "        all_feature_names = list(numerical_cols) + list(categorical_cols)\n",
    "\n",
    "        # Display coefficients for the selected model\n",
    "        print(f\"Feature names and coefficients for {regression_type}:\")\n",
    "        for feature, coef in zip(all_feature_names, coefficients):\n",
    "            print(f\"{feature}: {coef}\")\n",
    "\n",
    "        return best_alpha, best_cv_mse\n",
    "\n",
    "    else:\n",
    "        print(f\"Invalid regression type: {regression_type}\")\n",
    "        return None, None\n"
   ]
  },
  {
   "cell_type": "code",
   "execution_count": 139,
   "metadata": {},
   "outputs": [
    {
     "name": "stdout",
     "output_type": "stream",
     "text": [
      "Preprocessing completed.\n",
      "OLS Regression selected.\n",
      "Feature names and coefficients for OLS (Linear Regression):\n",
      "CRuns: 45.13222426606409\n",
      "Hits: 368.80583284198326\n",
      "AtBat: -283.49581188398906\n",
      "Walks: 93.59915164465491\n",
      "CRBI: 165.18729094655532\n"
     ]
    },
    {
     "data": {
      "text/plain": [
       "(None, np.float64(119906.79075868055))"
      ]
     },
     "execution_count": 139,
     "metadata": {},
     "output_type": "execute_result"
    }
   ],
   "source": [
    "run_regression_with_five(Xfive, y, regression_type= \"ols\")"
   ]
  },
  {
   "cell_type": "code",
   "execution_count": 140,
   "metadata": {},
   "outputs": [
    {
     "name": "stdout",
     "output_type": "stream",
     "text": [
      "Preprocessing completed.\n",
      "ridge selected.\n",
      "Performing GridSearchCV...\n",
      "Best ridge Alpha: {'ridge__alpha': 1}\n",
      "Best Cross-Validated MSE: 119386.6696482726\n",
      "Feature names and coefficients for ridge:\n",
      "CRuns: 50.362476868900835\n",
      "Hits: 336.9126865434994\n",
      "AtBat: -250.39048519333912\n",
      "Walks: 91.17324634130557\n",
      "CRBI: 160.05870566725412\n"
     ]
    },
    {
     "data": {
      "text/plain": [
       "({'ridge__alpha': 1}, np.float64(119386.6696482726))"
      ]
     },
     "execution_count": 140,
     "metadata": {},
     "output_type": "execute_result"
    }
   ],
   "source": [
    "run_regression_with_five(Xfive, y, regression_type= \"ridge\")"
   ]
  },
  {
   "cell_type": "code",
   "execution_count": 141,
   "metadata": {},
   "outputs": [
    {
     "name": "stdout",
     "output_type": "stream",
     "text": [
      "Preprocessing completed.\n",
      "lasso selected.\n",
      "Performing GridSearchCV...\n",
      "Best lasso Alpha: {'lasso__alpha': 1}\n",
      "Best Cross-Validated MSE: 119509.30500015007\n",
      "Feature names and coefficients for lasso:\n",
      "CRuns: 46.1892639320874\n",
      "Hits: 340.1445375678188\n",
      "AtBat: -252.76090304072306\n",
      "Walks: 90.35855660176503\n",
      "CRBI: 163.68433349414158\n"
     ]
    },
    {
     "data": {
      "text/plain": [
       "({'lasso__alpha': 1}, np.float64(119509.30500015007))"
      ]
     },
     "execution_count": 141,
     "metadata": {},
     "output_type": "execute_result"
    }
   ],
   "source": [
    "run_regression_with_five(Xfive, y, regression_type= \"lasso\")"
   ]
  },
  {
   "cell_type": "code",
   "execution_count": 142,
   "metadata": {},
   "outputs": [
    {
     "name": "stdout",
     "output_type": "stream",
     "text": [
      "Preprocessing completed.\n",
      "elasticnet selected.\n",
      "Performing GridSearchCV...\n",
      "Best elasticnet Alpha: {'elasticnet__alpha': 0.1, 'elasticnet__l1_ratio': 0.9}\n",
      "Best Cross-Validated MSE: 119175.85350719497\n",
      "Feature names and coefficients for elasticnet:\n",
      "CRuns: 57.13906103866921\n",
      "Hits: 294.6168108926609\n",
      "AtBat: -206.41191006410185\n",
      "Walks: 87.80892920285068\n",
      "CRBI: 153.23102647057257\n"
     ]
    },
    {
     "data": {
      "text/plain": [
       "({'elasticnet__alpha': 0.1, 'elasticnet__l1_ratio': 0.9},\n",
       " np.float64(119175.85350719497))"
      ]
     },
     "execution_count": 142,
     "metadata": {},
     "output_type": "execute_result"
    }
   ],
   "source": [
    "run_regression_with_five(Xfive, y, regression_type= \"elasticnet\")"
   ]
  },
  {
   "cell_type": "markdown",
   "metadata": {},
   "source": [
    "## Interaction"
   ]
  },
  {
   "cell_type": "code",
   "execution_count": null,
   "metadata": {},
   "outputs": [],
   "source": [
    "Xfive = hits[['CRuns', 'Hits', 'AtBat', 'Walks', 'CRBI', 'Division']]"
   ]
  },
  {
   "cell_type": "code",
   "execution_count": 148,
   "metadata": {},
   "outputs": [],
   "source": [
    "from sklearn.preprocessing import PolynomialFeatures\n",
    "\n",
    "def run_regression_with_five(Xfive, y, regression_type):\n",
    "    \"\"\"\n",
    "    Function to run a regression (OLS, Ridge, Lasso, ElasticNet) with cross-validation\n",
    "    and return the best hyperparameter (alpha) and best cross-validated MSE score.\n",
    "    \n",
    "    Arguments:\n",
    "    X -- Features DataFrame\n",
    "    y -- Target variable\n",
    "    regression_type -- Type of regression to run: 'ols', 'ridge', 'lasso', 'elasticnet'\n",
    "\n",
    "    Returns:\n",
    "    best_alpha -- Best alpha parameter found via GridSearchCV (or None for OLS)\n",
    "    best_cv_mse -- Best cross-validated MSE score\n",
    "    \"\"\"\n",
    "    # Convert all non-numeric columns to numeric (or handle non-numeric values appropriately)\n",
    "    Xfive = Xfive.apply(pd.to_numeric, errors='coerce')  # Coerce non-numeric to NaN\n",
    "    Xfive.fillna(0, inplace=True)  # Optionally fill NaN values with 0 (or another strategy)\n",
    "\n",
    "    print(\"Preprocessing completed.\")\n",
    "\n",
    "    # Define ColumnTransformer for preprocessing (standardizing numerical, encoding categorical)\n",
    "    numerical_cols = Xfive.select_dtypes(include=[np.number]).columns\n",
    "    categorical_cols = Xfive.select_dtypes(exclude=[np.number]).columns\n",
    "\n",
    "    ct = ColumnTransformer(\n",
    "        [\n",
    "            (\"standardize\", StandardScaler(), numerical_cols),  # Standard scaling for numerical features\n",
    "            (\"encode\", OneHotEncoder(), categorical_cols),  # One-hot encoding for categorical features\n",
    "        ],\n",
    "        remainder=\"passthrough\"\n",
    "    ).set_output(transform=\"pandas\")\n",
    "\n",
    "    # Add PolynomialFeatures to create interaction terms\n",
    "    interaction = PolynomialFeatures(interaction_only=False, include_bias=False)\n",
    "\n",
    "    # Initialize the regression models\n",
    "    pipeline = None  # Initialize the pipeline variable to avoid UnboundLocalError\n",
    "\n",
    "    if regression_type == 'ols':\n",
    "        print(\"OLS Regression selected.\")\n",
    "        model = LinearRegression()\n",
    "        pipeline = Pipeline([\n",
    "            (\"preprocessing\", ct), \n",
    "            (\"interaction\", interaction),  # Adding interaction terms\n",
    "            (\"regression\", model)\n",
    "        ])\n",
    "        \n",
    "        # Cross-validation MSE score\n",
    "        best_cv_mse = cross_val_score(pipeline, Xfive, y, cv=5, scoring='neg_mean_squared_error').mean() * -1\n",
    "        pipeline.fit(Xfive, y)  # Fit to get the coefficients\n",
    "\n",
    "        # Extract feature names\n",
    "        all_feature_names = list(numerical_cols) + list(categorical_cols)\n",
    "\n",
    "        # Extract coefficients for the fitted model\n",
    "        coefficients = pipeline.named_steps['regression'].coef_\n",
    "\n",
    "        # Display coefficients with feature names\n",
    "        print(\"Feature names and coefficients for OLS (Linear Regression):\")\n",
    "        for feature, coef in zip(all_feature_names, coefficients):\n",
    "            print(f\"{feature}: {coef}\")\n",
    "\n",
    "        return None, best_cv_mse  # No best alpha for OLS\n",
    "\n",
    "    # For Ridge, Lasso, and ElasticNet\n",
    "    elif regression_type in ['ridge', 'lasso', 'elasticnet']:\n",
    "        print(f\"{regression_type} selected.\")\n",
    "        # Set model and hyperparameters based on the regression type\n",
    "        if regression_type == 'ridge':\n",
    "            model = Ridge()\n",
    "            param_grid = {\"ridge__alpha\": [0.001, 0.01, 0.1, 1, 10]}\n",
    "        elif regression_type == 'lasso':\n",
    "            model = Lasso()\n",
    "            param_grid = {\"lasso__alpha\": [0.001, 0.01, 0.1, 1, 10]}\n",
    "        elif regression_type == 'elasticnet':\n",
    "            model = ElasticNet()\n",
    "            param_grid = {\"elasticnet__alpha\": [0.001, 0.01, 0.1, 1, 10],\n",
    "                          \"elasticnet__l1_ratio\": [0.1, 0.5, 0.9]}  # L1 ratio for ElasticNet\n",
    "\n",
    "        # Create pipeline and perform grid search\n",
    "        pipeline = Pipeline([\n",
    "            (\"preprocessing\", ct), \n",
    "            (\"interaction\", interaction),  # Adding interaction terms\n",
    "            (regression_type, model)\n",
    "        ])  # Create pipeline here\n",
    "        \n",
    "        print(\"Performing GridSearchCV...\")\n",
    "        grid_search = GridSearchCV(pipeline, param_grid, cv=5, scoring='neg_mean_squared_error')\n",
    "        grid_search.fit(Xfive, y)\n",
    "\n",
    "        # Best hyperparameter and cross-validated MSE score\n",
    "        best_alpha = grid_search.best_params_\n",
    "        best_cv_mse = -grid_search.best_score_  # Negating to return positive MSE\n",
    "        \n",
    "        # Display the results\n",
    "        print(f\"Best {regression_type} Alpha: {best_alpha}\")\n",
    "        print(f\"Best Cross-Validated MSE: {best_cv_mse}\")\n",
    "\n",
    "        # Extract the coefficients and feature names for the best model\n",
    "        best_pipeline = grid_search.best_estimator_\n",
    "        coefficients = best_pipeline.named_steps[regression_type].coef_\n",
    "\n",
    "        # Combine feature names (numerical + categorical)\n",
    "        all_feature_names = list(numerical_cols) + list(categorical_cols)\n",
    "\n",
    "        # Display coefficients for the selected model\n",
    "        print(f\"Feature names and coefficients for {regression_type}:\")\n",
    "        for feature, coef in zip(all_feature_names, coefficients):\n",
    "            print(f\"{feature}: {coef}\")\n",
    "\n",
    "        return best_alpha, best_cv_mse\n",
    "\n",
    "    else:\n",
    "        print(f\"Invalid regression type: {regression_type}\")\n",
    "        return None, None\n"
   ]
  },
  {
   "cell_type": "code",
   "execution_count": 149,
   "metadata": {},
   "outputs": [
    {
     "name": "stdout",
     "output_type": "stream",
     "text": [
      "Preprocessing completed.\n",
      "OLS Regression selected.\n",
      "Feature names and coefficients for OLS (Linear Regression):\n",
      "CRuns: -59.499135728742985\n",
      "Hits: 67.9204947447958\n",
      "AtBat: -10.29451192521862\n",
      "Walks: 73.72745757858594\n",
      "CRBI: 400.5530122752484\n"
     ]
    },
    {
     "data": {
      "text/plain": [
       "(None, np.float64(98527.61453677765))"
      ]
     },
     "execution_count": 149,
     "metadata": {},
     "output_type": "execute_result"
    }
   ],
   "source": [
    "run_regression_with_five(Xfive, y, regression_type= 'ols')"
   ]
  },
  {
   "cell_type": "code",
   "execution_count": 150,
   "metadata": {},
   "outputs": [
    {
     "name": "stdout",
     "output_type": "stream",
     "text": [
      "Preprocessing completed.\n",
      "ridge selected.\n",
      "Performing GridSearchCV...\n",
      "Best ridge Alpha: {'ridge__alpha': 0.001}\n",
      "Best Cross-Validated MSE: 98530.92869998606\n",
      "Feature names and coefficients for ridge:\n",
      "CRuns: -59.44816133010122\n",
      "Hits: 67.96572596155727\n",
      "AtBat: -10.305761081330058\n",
      "Walks: 73.7043859321674\n",
      "CRBI: 400.4994619937646\n"
     ]
    },
    {
     "data": {
      "text/plain": [
       "({'ridge__alpha': 0.001}, np.float64(98530.92869998606))"
      ]
     },
     "execution_count": 150,
     "metadata": {},
     "output_type": "execute_result"
    }
   ],
   "source": [
    "run_regression_with_five(Xfive, y, regression_type= 'ridge')"
   ]
  },
  {
   "cell_type": "code",
   "execution_count": 146,
   "metadata": {},
   "outputs": [
    {
     "name": "stdout",
     "output_type": "stream",
     "text": [
      "Preprocessing completed.\n",
      "lasso selected.\n",
      "Performing GridSearchCV...\n"
     ]
    },
    {
     "name": "stderr",
     "output_type": "stream",
     "text": [
      "c:\\Users\\hblin\\AppData\\Local\\Programs\\Python\\Python312\\Lib\\site-packages\\sklearn\\linear_model\\_coordinate_descent.py:697: ConvergenceWarning: Objective did not converge. You might want to increase the number of iterations, check the scale of the features or consider increasing regularisation. Duality gap: 6.788e+06, tolerance: 4.708e+03\n",
      "c:\\Users\\hblin\\AppData\\Local\\Programs\\Python\\Python312\\Lib\\site-packages\\sklearn\\linear_model\\_coordinate_descent.py:697: ConvergenceWarning: Objective did not converge. You might want to increase the number of iterations, check the scale of the features or consider increasing regularisation. Duality gap: 6.151e+06, tolerance: 3.606e+03\n",
      "c:\\Users\\hblin\\AppData\\Local\\Programs\\Python\\Python312\\Lib\\site-packages\\sklearn\\linear_model\\_coordinate_descent.py:697: ConvergenceWarning: Objective did not converge. You might want to increase the number of iterations, check the scale of the features or consider increasing regularisation. Duality gap: 6.114e+06, tolerance: 4.137e+03\n",
      "c:\\Users\\hblin\\AppData\\Local\\Programs\\Python\\Python312\\Lib\\site-packages\\sklearn\\linear_model\\_coordinate_descent.py:697: ConvergenceWarning: Objective did not converge. You might want to increase the number of iterations, check the scale of the features or consider increasing regularisation. Duality gap: 4.539e+06, tolerance: 4.281e+03\n",
      "c:\\Users\\hblin\\AppData\\Local\\Programs\\Python\\Python312\\Lib\\site-packages\\sklearn\\linear_model\\_coordinate_descent.py:697: ConvergenceWarning: Objective did not converge. You might want to increase the number of iterations, check the scale of the features or consider increasing regularisation. Duality gap: 6.152e+06, tolerance: 4.558e+03\n",
      "c:\\Users\\hblin\\AppData\\Local\\Programs\\Python\\Python312\\Lib\\site-packages\\sklearn\\linear_model\\_coordinate_descent.py:697: ConvergenceWarning: Objective did not converge. You might want to increase the number of iterations, check the scale of the features or consider increasing regularisation. Duality gap: 6.627e+06, tolerance: 4.708e+03\n",
      "c:\\Users\\hblin\\AppData\\Local\\Programs\\Python\\Python312\\Lib\\site-packages\\sklearn\\linear_model\\_coordinate_descent.py:697: ConvergenceWarning: Objective did not converge. You might want to increase the number of iterations, check the scale of the features or consider increasing regularisation. Duality gap: 6.025e+06, tolerance: 3.606e+03\n",
      "c:\\Users\\hblin\\AppData\\Local\\Programs\\Python\\Python312\\Lib\\site-packages\\sklearn\\linear_model\\_coordinate_descent.py:697: ConvergenceWarning: Objective did not converge. You might want to increase the number of iterations, check the scale of the features or consider increasing regularisation. Duality gap: 5.962e+06, tolerance: 4.137e+03\n",
      "c:\\Users\\hblin\\AppData\\Local\\Programs\\Python\\Python312\\Lib\\site-packages\\sklearn\\linear_model\\_coordinate_descent.py:697: ConvergenceWarning: Objective did not converge. You might want to increase the number of iterations, check the scale of the features or consider increasing regularisation. Duality gap: 4.005e+06, tolerance: 4.281e+03\n",
      "c:\\Users\\hblin\\AppData\\Local\\Programs\\Python\\Python312\\Lib\\site-packages\\sklearn\\linear_model\\_coordinate_descent.py:697: ConvergenceWarning: Objective did not converge. You might want to increase the number of iterations, check the scale of the features or consider increasing regularisation. Duality gap: 6.063e+06, tolerance: 4.558e+03\n",
      "c:\\Users\\hblin\\AppData\\Local\\Programs\\Python\\Python312\\Lib\\site-packages\\sklearn\\linear_model\\_coordinate_descent.py:697: ConvergenceWarning: Objective did not converge. You might want to increase the number of iterations, check the scale of the features or consider increasing regularisation. Duality gap: 5.286e+06, tolerance: 4.708e+03\n",
      "c:\\Users\\hblin\\AppData\\Local\\Programs\\Python\\Python312\\Lib\\site-packages\\sklearn\\linear_model\\_coordinate_descent.py:697: ConvergenceWarning: Objective did not converge. You might want to increase the number of iterations, check the scale of the features or consider increasing regularisation. Duality gap: 4.966e+06, tolerance: 3.606e+03\n",
      "c:\\Users\\hblin\\AppData\\Local\\Programs\\Python\\Python312\\Lib\\site-packages\\sklearn\\linear_model\\_coordinate_descent.py:697: ConvergenceWarning: Objective did not converge. You might want to increase the number of iterations, check the scale of the features or consider increasing regularisation. Duality gap: 4.728e+06, tolerance: 4.137e+03\n",
      "c:\\Users\\hblin\\AppData\\Local\\Programs\\Python\\Python312\\Lib\\site-packages\\sklearn\\linear_model\\_coordinate_descent.py:697: ConvergenceWarning: Objective did not converge. You might want to increase the number of iterations, check the scale of the features or consider increasing regularisation. Duality gap: 1.532e+06, tolerance: 4.281e+03\n",
      "c:\\Users\\hblin\\AppData\\Local\\Programs\\Python\\Python312\\Lib\\site-packages\\sklearn\\linear_model\\_coordinate_descent.py:697: ConvergenceWarning: Objective did not converge. You might want to increase the number of iterations, check the scale of the features or consider increasing regularisation. Duality gap: 5.272e+06, tolerance: 4.558e+03\n",
      "c:\\Users\\hblin\\AppData\\Local\\Programs\\Python\\Python312\\Lib\\site-packages\\sklearn\\linear_model\\_coordinate_descent.py:697: ConvergenceWarning: Objective did not converge. You might want to increase the number of iterations, check the scale of the features or consider increasing regularisation. Duality gap: 1.215e+06, tolerance: 4.708e+03\n",
      "c:\\Users\\hblin\\AppData\\Local\\Programs\\Python\\Python312\\Lib\\site-packages\\sklearn\\linear_model\\_coordinate_descent.py:697: ConvergenceWarning: Objective did not converge. You might want to increase the number of iterations, check the scale of the features or consider increasing regularisation. Duality gap: 1.236e+06, tolerance: 3.606e+03\n",
      "c:\\Users\\hblin\\AppData\\Local\\Programs\\Python\\Python312\\Lib\\site-packages\\sklearn\\linear_model\\_coordinate_descent.py:697: ConvergenceWarning: Objective did not converge. You might want to increase the number of iterations, check the scale of the features or consider increasing regularisation. Duality gap: 9.575e+05, tolerance: 4.137e+03\n",
      "c:\\Users\\hblin\\AppData\\Local\\Programs\\Python\\Python312\\Lib\\site-packages\\sklearn\\linear_model\\_coordinate_descent.py:697: ConvergenceWarning: Objective did not converge. You might want to increase the number of iterations, check the scale of the features or consider increasing regularisation. Duality gap: 3.941e+04, tolerance: 4.281e+03\n",
      "c:\\Users\\hblin\\AppData\\Local\\Programs\\Python\\Python312\\Lib\\site-packages\\sklearn\\linear_model\\_coordinate_descent.py:697: ConvergenceWarning: Objective did not converge. You might want to increase the number of iterations, check the scale of the features or consider increasing regularisation. Duality gap: 1.410e+06, tolerance: 4.558e+03\n"
     ]
    },
    {
     "name": "stdout",
     "output_type": "stream",
     "text": [
      "Best lasso Alpha: {'lasso__alpha': 0.001}\n",
      "Best Cross-Validated MSE: 96634.71271346684\n",
      "Feature names and coefficients for lasso:\n",
      "CRuns: -42.580735785877145\n",
      "Hits: 69.15167411032984\n",
      "AtBat: -10.185109898279245\n",
      "Walks: 73.62481386687428\n",
      "CRBI: 385.4001126864816\n"
     ]
    },
    {
     "name": "stderr",
     "output_type": "stream",
     "text": [
      "c:\\Users\\hblin\\AppData\\Local\\Programs\\Python\\Python312\\Lib\\site-packages\\sklearn\\linear_model\\_coordinate_descent.py:697: ConvergenceWarning: Objective did not converge. You might want to increase the number of iterations, check the scale of the features or consider increasing regularisation. Duality gap: 7.764e+06, tolerance: 5.332e+03\n"
     ]
    },
    {
     "data": {
      "text/plain": [
       "({'lasso__alpha': 0.001}, np.float64(96634.71271346684))"
      ]
     },
     "execution_count": 146,
     "metadata": {},
     "output_type": "execute_result"
    }
   ],
   "source": [
    "run_regression_with_five(Xfive, y, regression_type= 'lasso')"
   ]
  },
  {
   "cell_type": "code",
   "execution_count": 147,
   "metadata": {},
   "outputs": [
    {
     "name": "stdout",
     "output_type": "stream",
     "text": [
      "Preprocessing completed.\n",
      "elasticnet selected.\n",
      "Performing GridSearchCV...\n"
     ]
    },
    {
     "name": "stderr",
     "output_type": "stream",
     "text": [
      "c:\\Users\\hblin\\AppData\\Local\\Programs\\Python\\Python312\\Lib\\site-packages\\sklearn\\linear_model\\_coordinate_descent.py:697: ConvergenceWarning: Objective did not converge. You might want to increase the number of iterations, check the scale of the features or consider increasing regularisation. Duality gap: 7.090e+06, tolerance: 4.708e+03\n",
      "c:\\Users\\hblin\\AppData\\Local\\Programs\\Python\\Python312\\Lib\\site-packages\\sklearn\\linear_model\\_coordinate_descent.py:697: ConvergenceWarning: Objective did not converge. You might want to increase the number of iterations, check the scale of the features or consider increasing regularisation. Duality gap: 6.323e+06, tolerance: 3.606e+03\n",
      "c:\\Users\\hblin\\AppData\\Local\\Programs\\Python\\Python312\\Lib\\site-packages\\sklearn\\linear_model\\_coordinate_descent.py:697: ConvergenceWarning: Objective did not converge. You might want to increase the number of iterations, check the scale of the features or consider increasing regularisation. Duality gap: 6.552e+06, tolerance: 4.137e+03\n",
      "c:\\Users\\hblin\\AppData\\Local\\Programs\\Python\\Python312\\Lib\\site-packages\\sklearn\\linear_model\\_coordinate_descent.py:697: ConvergenceWarning: Objective did not converge. You might want to increase the number of iterations, check the scale of the features or consider increasing regularisation. Duality gap: 4.823e+06, tolerance: 4.281e+03\n",
      "c:\\Users\\hblin\\AppData\\Local\\Programs\\Python\\Python312\\Lib\\site-packages\\sklearn\\linear_model\\_coordinate_descent.py:697: ConvergenceWarning: Objective did not converge. You might want to increase the number of iterations, check the scale of the features or consider increasing regularisation. Duality gap: 6.663e+06, tolerance: 4.558e+03\n",
      "c:\\Users\\hblin\\AppData\\Local\\Programs\\Python\\Python312\\Lib\\site-packages\\sklearn\\linear_model\\_coordinate_descent.py:697: ConvergenceWarning: Objective did not converge. You might want to increase the number of iterations, check the scale of the features or consider increasing regularisation. Duality gap: 6.970e+06, tolerance: 4.708e+03\n",
      "c:\\Users\\hblin\\AppData\\Local\\Programs\\Python\\Python312\\Lib\\site-packages\\sklearn\\linear_model\\_coordinate_descent.py:697: ConvergenceWarning: Objective did not converge. You might want to increase the number of iterations, check the scale of the features or consider increasing regularisation. Duality gap: 6.252e+06, tolerance: 3.606e+03\n",
      "c:\\Users\\hblin\\AppData\\Local\\Programs\\Python\\Python312\\Lib\\site-packages\\sklearn\\linear_model\\_coordinate_descent.py:697: ConvergenceWarning: Objective did not converge. You might want to increase the number of iterations, check the scale of the features or consider increasing regularisation. Duality gap: 6.386e+06, tolerance: 4.137e+03\n",
      "c:\\Users\\hblin\\AppData\\Local\\Programs\\Python\\Python312\\Lib\\site-packages\\sklearn\\linear_model\\_coordinate_descent.py:697: ConvergenceWarning: Objective did not converge. You might want to increase the number of iterations, check the scale of the features or consider increasing regularisation. Duality gap: 4.701e+06, tolerance: 4.281e+03\n",
      "c:\\Users\\hblin\\AppData\\Local\\Programs\\Python\\Python312\\Lib\\site-packages\\sklearn\\linear_model\\_coordinate_descent.py:697: ConvergenceWarning: Objective did not converge. You might want to increase the number of iterations, check the scale of the features or consider increasing regularisation. Duality gap: 6.468e+06, tolerance: 4.558e+03\n",
      "c:\\Users\\hblin\\AppData\\Local\\Programs\\Python\\Python312\\Lib\\site-packages\\sklearn\\linear_model\\_coordinate_descent.py:697: ConvergenceWarning: Objective did not converge. You might want to increase the number of iterations, check the scale of the features or consider increasing regularisation. Duality gap: 6.829e+06, tolerance: 4.708e+03\n",
      "c:\\Users\\hblin\\AppData\\Local\\Programs\\Python\\Python312\\Lib\\site-packages\\sklearn\\linear_model\\_coordinate_descent.py:697: ConvergenceWarning: Objective did not converge. You might want to increase the number of iterations, check the scale of the features or consider increasing regularisation. Duality gap: 6.173e+06, tolerance: 3.606e+03\n",
      "c:\\Users\\hblin\\AppData\\Local\\Programs\\Python\\Python312\\Lib\\site-packages\\sklearn\\linear_model\\_coordinate_descent.py:697: ConvergenceWarning: Objective did not converge. You might want to increase the number of iterations, check the scale of the features or consider increasing regularisation. Duality gap: 6.177e+06, tolerance: 4.137e+03\n",
      "c:\\Users\\hblin\\AppData\\Local\\Programs\\Python\\Python312\\Lib\\site-packages\\sklearn\\linear_model\\_coordinate_descent.py:697: ConvergenceWarning: Objective did not converge. You might want to increase the number of iterations, check the scale of the features or consider increasing regularisation. Duality gap: 4.575e+06, tolerance: 4.281e+03\n",
      "c:\\Users\\hblin\\AppData\\Local\\Programs\\Python\\Python312\\Lib\\site-packages\\sklearn\\linear_model\\_coordinate_descent.py:697: ConvergenceWarning: Objective did not converge. You might want to increase the number of iterations, check the scale of the features or consider increasing regularisation. Duality gap: 6.224e+06, tolerance: 4.558e+03\n",
      "c:\\Users\\hblin\\AppData\\Local\\Programs\\Python\\Python312\\Lib\\site-packages\\sklearn\\linear_model\\_coordinate_descent.py:697: ConvergenceWarning: Objective did not converge. You might want to increase the number of iterations, check the scale of the features or consider increasing regularisation. Duality gap: 6.588e+06, tolerance: 4.708e+03\n",
      "c:\\Users\\hblin\\AppData\\Local\\Programs\\Python\\Python312\\Lib\\site-packages\\sklearn\\linear_model\\_coordinate_descent.py:697: ConvergenceWarning: Objective did not converge. You might want to increase the number of iterations, check the scale of the features or consider increasing regularisation. Duality gap: 6.427e+06, tolerance: 3.606e+03\n",
      "c:\\Users\\hblin\\AppData\\Local\\Programs\\Python\\Python312\\Lib\\site-packages\\sklearn\\linear_model\\_coordinate_descent.py:697: ConvergenceWarning: Objective did not converge. You might want to increase the number of iterations, check the scale of the features or consider increasing regularisation. Duality gap: 5.535e+06, tolerance: 4.137e+03\n",
      "c:\\Users\\hblin\\AppData\\Local\\Programs\\Python\\Python312\\Lib\\site-packages\\sklearn\\linear_model\\_coordinate_descent.py:697: ConvergenceWarning: Objective did not converge. You might want to increase the number of iterations, check the scale of the features or consider increasing regularisation. Duality gap: 4.964e+06, tolerance: 4.558e+03\n",
      "c:\\Users\\hblin\\AppData\\Local\\Programs\\Python\\Python312\\Lib\\site-packages\\sklearn\\linear_model\\_coordinate_descent.py:697: ConvergenceWarning: Objective did not converge. You might want to increase the number of iterations, check the scale of the features or consider increasing regularisation. Duality gap: 6.756e+06, tolerance: 4.708e+03\n",
      "c:\\Users\\hblin\\AppData\\Local\\Programs\\Python\\Python312\\Lib\\site-packages\\sklearn\\linear_model\\_coordinate_descent.py:697: ConvergenceWarning: Objective did not converge. You might want to increase the number of iterations, check the scale of the features or consider increasing regularisation. Duality gap: 6.244e+06, tolerance: 3.606e+03\n",
      "c:\\Users\\hblin\\AppData\\Local\\Programs\\Python\\Python312\\Lib\\site-packages\\sklearn\\linear_model\\_coordinate_descent.py:697: ConvergenceWarning: Objective did not converge. You might want to increase the number of iterations, check the scale of the features or consider increasing regularisation. Duality gap: 6.115e+06, tolerance: 4.137e+03\n",
      "c:\\Users\\hblin\\AppData\\Local\\Programs\\Python\\Python312\\Lib\\site-packages\\sklearn\\linear_model\\_coordinate_descent.py:697: ConvergenceWarning: Objective did not converge. You might want to increase the number of iterations, check the scale of the features or consider increasing regularisation. Duality gap: 2.599e+05, tolerance: 4.281e+03\n",
      "c:\\Users\\hblin\\AppData\\Local\\Programs\\Python\\Python312\\Lib\\site-packages\\sklearn\\linear_model\\_coordinate_descent.py:697: ConvergenceWarning: Objective did not converge. You might want to increase the number of iterations, check the scale of the features or consider increasing regularisation. Duality gap: 6.241e+06, tolerance: 4.558e+03\n",
      "c:\\Users\\hblin\\AppData\\Local\\Programs\\Python\\Python312\\Lib\\site-packages\\sklearn\\linear_model\\_coordinate_descent.py:697: ConvergenceWarning: Objective did not converge. You might want to increase the number of iterations, check the scale of the features or consider increasing regularisation. Duality gap: 6.873e+06, tolerance: 4.708e+03\n",
      "c:\\Users\\hblin\\AppData\\Local\\Programs\\Python\\Python312\\Lib\\site-packages\\sklearn\\linear_model\\_coordinate_descent.py:697: ConvergenceWarning: Objective did not converge. You might want to increase the number of iterations, check the scale of the features or consider increasing regularisation. Duality gap: 6.164e+06, tolerance: 3.606e+03\n",
      "c:\\Users\\hblin\\AppData\\Local\\Programs\\Python\\Python312\\Lib\\site-packages\\sklearn\\linear_model\\_coordinate_descent.py:697: ConvergenceWarning: Objective did not converge. You might want to increase the number of iterations, check the scale of the features or consider increasing regularisation. Duality gap: 6.338e+06, tolerance: 4.137e+03\n",
      "c:\\Users\\hblin\\AppData\\Local\\Programs\\Python\\Python312\\Lib\\site-packages\\sklearn\\linear_model\\_coordinate_descent.py:697: ConvergenceWarning: Objective did not converge. You might want to increase the number of iterations, check the scale of the features or consider increasing regularisation. Duality gap: 3.680e+06, tolerance: 4.281e+03\n",
      "c:\\Users\\hblin\\AppData\\Local\\Programs\\Python\\Python312\\Lib\\site-packages\\sklearn\\linear_model\\_coordinate_descent.py:697: ConvergenceWarning: Objective did not converge. You might want to increase the number of iterations, check the scale of the features or consider increasing regularisation. Duality gap: 6.518e+06, tolerance: 4.558e+03\n",
      "c:\\Users\\hblin\\AppData\\Local\\Programs\\Python\\Python312\\Lib\\site-packages\\sklearn\\linear_model\\_coordinate_descent.py:697: ConvergenceWarning: Objective did not converge. You might want to increase the number of iterations, check the scale of the features or consider increasing regularisation. Duality gap: 3.238e+04, tolerance: 4.708e+03\n",
      "c:\\Users\\hblin\\AppData\\Local\\Programs\\Python\\Python312\\Lib\\site-packages\\sklearn\\linear_model\\_coordinate_descent.py:697: ConvergenceWarning: Objective did not converge. You might want to increase the number of iterations, check the scale of the features or consider increasing regularisation. Duality gap: 1.836e+05, tolerance: 3.606e+03\n",
      "c:\\Users\\hblin\\AppData\\Local\\Programs\\Python\\Python312\\Lib\\site-packages\\sklearn\\linear_model\\_coordinate_descent.py:697: ConvergenceWarning: Objective did not converge. You might want to increase the number of iterations, check the scale of the features or consider increasing regularisation. Duality gap: 1.024e+04, tolerance: 4.137e+03\n"
     ]
    },
    {
     "name": "stdout",
     "output_type": "stream",
     "text": [
      "Best elasticnet Alpha: {'elasticnet__alpha': 0.001, 'elasticnet__l1_ratio': 0.9}\n",
      "Best Cross-Validated MSE: 97371.00054922434\n",
      "Feature names and coefficients for elasticnet:\n",
      "CRuns: -41.47848558574818\n",
      "Hits: 70.11784955022313\n",
      "AtBat: -10.541538882894747\n",
      "Walks: 73.10759717641653\n",
      "CRBI: 384.25094364882216\n"
     ]
    },
    {
     "name": "stderr",
     "output_type": "stream",
     "text": [
      "c:\\Users\\hblin\\AppData\\Local\\Programs\\Python\\Python312\\Lib\\site-packages\\sklearn\\linear_model\\_coordinate_descent.py:697: ConvergenceWarning: Objective did not converge. You might want to increase the number of iterations, check the scale of the features or consider increasing regularisation. Duality gap: 7.821e+06, tolerance: 5.332e+03\n"
     ]
    },
    {
     "data": {
      "text/plain": [
       "({'elasticnet__alpha': 0.001, 'elasticnet__l1_ratio': 0.9},\n",
       " np.float64(97371.00054922434))"
      ]
     },
     "execution_count": 147,
     "metadata": {},
     "output_type": "execute_result"
    }
   ],
   "source": [
    "run_regression_with_five(Xfive, y, regression_type= 'elasticnet')"
   ]
  },
  {
   "cell_type": "markdown",
   "metadata": {},
   "source": [
    "The lasso model with the 5 variables and their interactions performed the best with an alpha of .001 and an MSE of 96634."
   ]
  },
  {
   "cell_type": "markdown",
   "metadata": {},
   "source": [
    "# Part III: Discussion "
   ]
  },
  {
   "cell_type": "markdown",
   "metadata": {},
   "source": [
    "## A. Ridge "
   ]
  },
  {
   "cell_type": "markdown",
   "metadata": {},
   "source": [
    "This relationship is somewhat inverse since Ridge regression penalizes larger coefficients more than OLS. "
   ]
  },
  {
   "cell_type": "markdown",
   "metadata": {},
   "source": [
    "## B. LASSO "
   ]
  },
  {
   "cell_type": "markdown",
   "metadata": {},
   "source": [
    "Some were the same, but most were different. This makes sense because different variables being in the model are going to cause different optimal lambdas. The presence of the variables is what is really going to make the difference between variables. "
   ]
  },
  {
   "cell_type": "markdown",
   "metadata": {},
   "source": [
    "## C. Elastic Net"
   ]
  },
  {
   "cell_type": "markdown",
   "metadata": {},
   "source": [
    "Elastic net models straddle in between ridge and lasso and can be tuned to be the optimal model between the two approaches"
   ]
  },
  {
   "cell_type": "markdown",
   "metadata": {},
   "source": [
    "# Part IV: Final Model"
   ]
  },
  {
   "cell_type": "markdown",
   "metadata": {},
   "source": [
    "The best model was the lasso model with the 5 best variables and their interactions with the categorical variable. The lambda for this model is .001 and the best cross validated MSE is 96634. I chose to show the different MSE's that were used in the cross validation selection as it seems important to me to not only show how different variables can affect a prediction, but also how different lambdas can affect the error of a model too. "
   ]
  },
  {
   "cell_type": "code",
   "execution_count": 156,
   "metadata": {},
   "outputs": [
    {
     "name": "stdout",
     "output_type": "stream",
     "text": [
      "Preprocessing completed.\n",
      "lasso selected.\n",
      "Performing GridSearchCV...\n"
     ]
    },
    {
     "name": "stderr",
     "output_type": "stream",
     "text": [
      "c:\\Users\\hblin\\AppData\\Local\\Programs\\Python\\Python312\\Lib\\site-packages\\sklearn\\linear_model\\_coordinate_descent.py:697: ConvergenceWarning: Objective did not converge. You might want to increase the number of iterations, check the scale of the features or consider increasing regularisation. Duality gap: 6.788e+06, tolerance: 4.708e+03\n",
      "c:\\Users\\hblin\\AppData\\Local\\Programs\\Python\\Python312\\Lib\\site-packages\\sklearn\\linear_model\\_coordinate_descent.py:697: ConvergenceWarning: Objective did not converge. You might want to increase the number of iterations, check the scale of the features or consider increasing regularisation. Duality gap: 6.151e+06, tolerance: 3.606e+03\n",
      "c:\\Users\\hblin\\AppData\\Local\\Programs\\Python\\Python312\\Lib\\site-packages\\sklearn\\linear_model\\_coordinate_descent.py:697: ConvergenceWarning: Objective did not converge. You might want to increase the number of iterations, check the scale of the features or consider increasing regularisation. Duality gap: 6.114e+06, tolerance: 4.137e+03\n",
      "c:\\Users\\hblin\\AppData\\Local\\Programs\\Python\\Python312\\Lib\\site-packages\\sklearn\\linear_model\\_coordinate_descent.py:697: ConvergenceWarning: Objective did not converge. You might want to increase the number of iterations, check the scale of the features or consider increasing regularisation. Duality gap: 4.539e+06, tolerance: 4.281e+03\n",
      "c:\\Users\\hblin\\AppData\\Local\\Programs\\Python\\Python312\\Lib\\site-packages\\sklearn\\linear_model\\_coordinate_descent.py:697: ConvergenceWarning: Objective did not converge. You might want to increase the number of iterations, check the scale of the features or consider increasing regularisation. Duality gap: 6.152e+06, tolerance: 4.558e+03\n",
      "c:\\Users\\hblin\\AppData\\Local\\Programs\\Python\\Python312\\Lib\\site-packages\\sklearn\\linear_model\\_coordinate_descent.py:697: ConvergenceWarning: Objective did not converge. You might want to increase the number of iterations, check the scale of the features or consider increasing regularisation. Duality gap: 6.627e+06, tolerance: 4.708e+03\n",
      "c:\\Users\\hblin\\AppData\\Local\\Programs\\Python\\Python312\\Lib\\site-packages\\sklearn\\linear_model\\_coordinate_descent.py:697: ConvergenceWarning: Objective did not converge. You might want to increase the number of iterations, check the scale of the features or consider increasing regularisation. Duality gap: 6.025e+06, tolerance: 3.606e+03\n",
      "c:\\Users\\hblin\\AppData\\Local\\Programs\\Python\\Python312\\Lib\\site-packages\\sklearn\\linear_model\\_coordinate_descent.py:697: ConvergenceWarning: Objective did not converge. You might want to increase the number of iterations, check the scale of the features or consider increasing regularisation. Duality gap: 5.962e+06, tolerance: 4.137e+03\n",
      "c:\\Users\\hblin\\AppData\\Local\\Programs\\Python\\Python312\\Lib\\site-packages\\sklearn\\linear_model\\_coordinate_descent.py:697: ConvergenceWarning: Objective did not converge. You might want to increase the number of iterations, check the scale of the features or consider increasing regularisation. Duality gap: 4.005e+06, tolerance: 4.281e+03\n",
      "c:\\Users\\hblin\\AppData\\Local\\Programs\\Python\\Python312\\Lib\\site-packages\\sklearn\\linear_model\\_coordinate_descent.py:697: ConvergenceWarning: Objective did not converge. You might want to increase the number of iterations, check the scale of the features or consider increasing regularisation. Duality gap: 6.063e+06, tolerance: 4.558e+03\n",
      "c:\\Users\\hblin\\AppData\\Local\\Programs\\Python\\Python312\\Lib\\site-packages\\sklearn\\linear_model\\_coordinate_descent.py:697: ConvergenceWarning: Objective did not converge. You might want to increase the number of iterations, check the scale of the features or consider increasing regularisation. Duality gap: 5.286e+06, tolerance: 4.708e+03\n",
      "c:\\Users\\hblin\\AppData\\Local\\Programs\\Python\\Python312\\Lib\\site-packages\\sklearn\\linear_model\\_coordinate_descent.py:697: ConvergenceWarning: Objective did not converge. You might want to increase the number of iterations, check the scale of the features or consider increasing regularisation. Duality gap: 4.966e+06, tolerance: 3.606e+03\n",
      "c:\\Users\\hblin\\AppData\\Local\\Programs\\Python\\Python312\\Lib\\site-packages\\sklearn\\linear_model\\_coordinate_descent.py:697: ConvergenceWarning: Objective did not converge. You might want to increase the number of iterations, check the scale of the features or consider increasing regularisation. Duality gap: 4.728e+06, tolerance: 4.137e+03\n",
      "c:\\Users\\hblin\\AppData\\Local\\Programs\\Python\\Python312\\Lib\\site-packages\\sklearn\\linear_model\\_coordinate_descent.py:697: ConvergenceWarning: Objective did not converge. You might want to increase the number of iterations, check the scale of the features or consider increasing regularisation. Duality gap: 1.532e+06, tolerance: 4.281e+03\n",
      "c:\\Users\\hblin\\AppData\\Local\\Programs\\Python\\Python312\\Lib\\site-packages\\sklearn\\linear_model\\_coordinate_descent.py:697: ConvergenceWarning: Objective did not converge. You might want to increase the number of iterations, check the scale of the features or consider increasing regularisation. Duality gap: 5.272e+06, tolerance: 4.558e+03\n",
      "c:\\Users\\hblin\\AppData\\Local\\Programs\\Python\\Python312\\Lib\\site-packages\\sklearn\\linear_model\\_coordinate_descent.py:697: ConvergenceWarning: Objective did not converge. You might want to increase the number of iterations, check the scale of the features or consider increasing regularisation. Duality gap: 1.215e+06, tolerance: 4.708e+03\n",
      "c:\\Users\\hblin\\AppData\\Local\\Programs\\Python\\Python312\\Lib\\site-packages\\sklearn\\linear_model\\_coordinate_descent.py:697: ConvergenceWarning: Objective did not converge. You might want to increase the number of iterations, check the scale of the features or consider increasing regularisation. Duality gap: 1.236e+06, tolerance: 3.606e+03\n",
      "c:\\Users\\hblin\\AppData\\Local\\Programs\\Python\\Python312\\Lib\\site-packages\\sklearn\\linear_model\\_coordinate_descent.py:697: ConvergenceWarning: Objective did not converge. You might want to increase the number of iterations, check the scale of the features or consider increasing regularisation. Duality gap: 9.575e+05, tolerance: 4.137e+03\n",
      "c:\\Users\\hblin\\AppData\\Local\\Programs\\Python\\Python312\\Lib\\site-packages\\sklearn\\linear_model\\_coordinate_descent.py:697: ConvergenceWarning: Objective did not converge. You might want to increase the number of iterations, check the scale of the features or consider increasing regularisation. Duality gap: 3.941e+04, tolerance: 4.281e+03\n"
     ]
    },
    {
     "name": "stdout",
     "output_type": "stream",
     "text": [
      "Best lasso Alpha: {'lasso__alpha': 0.001}\n",
      "Best Cross-Validated MSE: 96634.71271346684\n",
      "Feature names and coefficients for lasso:\n",
      "CRuns: -42.580735785877145\n",
      "Hits: 69.15167411032984\n",
      "AtBat: -10.185109898279245\n",
      "Walks: 73.62481386687428\n",
      "CRBI: 385.4001126864816\n"
     ]
    },
    {
     "name": "stderr",
     "output_type": "stream",
     "text": [
      "c:\\Users\\hblin\\AppData\\Local\\Programs\\Python\\Python312\\Lib\\site-packages\\sklearn\\linear_model\\_coordinate_descent.py:697: ConvergenceWarning: Objective did not converge. You might want to increase the number of iterations, check the scale of the features or consider increasing regularisation. Duality gap: 1.410e+06, tolerance: 4.558e+03\n",
      "c:\\Users\\hblin\\AppData\\Local\\Programs\\Python\\Python312\\Lib\\site-packages\\sklearn\\linear_model\\_coordinate_descent.py:697: ConvergenceWarning: Objective did not converge. You might want to increase the number of iterations, check the scale of the features or consider increasing regularisation. Duality gap: 7.764e+06, tolerance: 5.332e+03\n"
     ]
    },
    {
     "data": {
      "text/plain": [
       "({'lasso__alpha': 0.001}, np.float64(96634.71271346684))"
      ]
     },
     "execution_count": 156,
     "metadata": {},
     "output_type": "execute_result"
    }
   ],
   "source": [
    "# lasso model with 5 variables and their interaction\n",
    "run_regression_with_five(Xfive, y, regression_type= 'lasso') "
   ]
  },
  {
   "cell_type": "code",
   "execution_count": 160,
   "metadata": {},
   "outputs": [
    {
     "name": "stderr",
     "output_type": "stream",
     "text": [
      "c:\\Users\\hblin\\AppData\\Local\\Programs\\Python\\Python312\\Lib\\site-packages\\sklearn\\linear_model\\_coordinate_descent.py:697: ConvergenceWarning: Objective did not converge. You might want to increase the number of iterations, check the scale of the features or consider increasing regularisation. Duality gap: 5.247e+06, tolerance: 4.367e+03\n",
      "c:\\Users\\hblin\\AppData\\Local\\Programs\\Python\\Python312\\Lib\\site-packages\\sklearn\\linear_model\\_coordinate_descent.py:697: ConvergenceWarning: Objective did not converge. You might want to increase the number of iterations, check the scale of the features or consider increasing regularisation. Duality gap: 5.700e+06, tolerance: 3.931e+03\n",
      "c:\\Users\\hblin\\AppData\\Local\\Programs\\Python\\Python312\\Lib\\site-packages\\sklearn\\linear_model\\_coordinate_descent.py:697: ConvergenceWarning: Objective did not converge. You might want to increase the number of iterations, check the scale of the features or consider increasing regularisation. Duality gap: 6.832e+06, tolerance: 3.957e+03\n",
      "c:\\Users\\hblin\\AppData\\Local\\Programs\\Python\\Python312\\Lib\\site-packages\\sklearn\\linear_model\\_coordinate_descent.py:697: ConvergenceWarning: Objective did not converge. You might want to increase the number of iterations, check the scale of the features or consider increasing regularisation. Duality gap: 5.907e+06, tolerance: 4.282e+03\n",
      "c:\\Users\\hblin\\AppData\\Local\\Programs\\Python\\Python312\\Lib\\site-packages\\sklearn\\linear_model\\_coordinate_descent.py:697: ConvergenceWarning: Objective did not converge. You might want to increase the number of iterations, check the scale of the features or consider increasing regularisation. Duality gap: 6.576e+06, tolerance: 4.765e+03\n",
      "c:\\Users\\hblin\\AppData\\Local\\Programs\\Python\\Python312\\Lib\\site-packages\\sklearn\\linear_model\\_coordinate_descent.py:697: ConvergenceWarning: Objective did not converge. You might want to increase the number of iterations, check the scale of the features or consider increasing regularisation. Duality gap: 5.114e+06, tolerance: 4.367e+03\n",
      "c:\\Users\\hblin\\AppData\\Local\\Programs\\Python\\Python312\\Lib\\site-packages\\sklearn\\linear_model\\_coordinate_descent.py:697: ConvergenceWarning: Objective did not converge. You might want to increase the number of iterations, check the scale of the features or consider increasing regularisation. Duality gap: 5.577e+06, tolerance: 3.931e+03\n",
      "c:\\Users\\hblin\\AppData\\Local\\Programs\\Python\\Python312\\Lib\\site-packages\\sklearn\\linear_model\\_coordinate_descent.py:697: ConvergenceWarning: Objective did not converge. You might want to increase the number of iterations, check the scale of the features or consider increasing regularisation. Duality gap: 6.638e+06, tolerance: 3.957e+03\n",
      "c:\\Users\\hblin\\AppData\\Local\\Programs\\Python\\Python312\\Lib\\site-packages\\sklearn\\linear_model\\_coordinate_descent.py:697: ConvergenceWarning: Objective did not converge. You might want to increase the number of iterations, check the scale of the features or consider increasing regularisation. Duality gap: 5.712e+06, tolerance: 4.282e+03\n",
      "c:\\Users\\hblin\\AppData\\Local\\Programs\\Python\\Python312\\Lib\\site-packages\\sklearn\\linear_model\\_coordinate_descent.py:697: ConvergenceWarning: Objective did not converge. You might want to increase the number of iterations, check the scale of the features or consider increasing regularisation. Duality gap: 6.425e+06, tolerance: 4.765e+03\n",
      "c:\\Users\\hblin\\AppData\\Local\\Programs\\Python\\Python312\\Lib\\site-packages\\sklearn\\linear_model\\_coordinate_descent.py:697: ConvergenceWarning: Objective did not converge. You might want to increase the number of iterations, check the scale of the features or consider increasing regularisation. Duality gap: 4.028e+06, tolerance: 4.367e+03\n",
      "c:\\Users\\hblin\\AppData\\Local\\Programs\\Python\\Python312\\Lib\\site-packages\\sklearn\\linear_model\\_coordinate_descent.py:697: ConvergenceWarning: Objective did not converge. You might want to increase the number of iterations, check the scale of the features or consider increasing regularisation. Duality gap: 4.549e+06, tolerance: 3.931e+03\n",
      "c:\\Users\\hblin\\AppData\\Local\\Programs\\Python\\Python312\\Lib\\site-packages\\sklearn\\linear_model\\_coordinate_descent.py:697: ConvergenceWarning: Objective did not converge. You might want to increase the number of iterations, check the scale of the features or consider increasing regularisation. Duality gap: 5.084e+06, tolerance: 3.957e+03\n",
      "c:\\Users\\hblin\\AppData\\Local\\Programs\\Python\\Python312\\Lib\\site-packages\\sklearn\\linear_model\\_coordinate_descent.py:697: ConvergenceWarning: Objective did not converge. You might want to increase the number of iterations, check the scale of the features or consider increasing regularisation. Duality gap: 4.248e+06, tolerance: 4.282e+03\n",
      "c:\\Users\\hblin\\AppData\\Local\\Programs\\Python\\Python312\\Lib\\site-packages\\sklearn\\linear_model\\_coordinate_descent.py:697: ConvergenceWarning: Objective did not converge. You might want to increase the number of iterations, check the scale of the features or consider increasing regularisation. Duality gap: 5.105e+06, tolerance: 4.765e+03\n",
      "c:\\Users\\hblin\\AppData\\Local\\Programs\\Python\\Python312\\Lib\\site-packages\\sklearn\\linear_model\\_coordinate_descent.py:697: ConvergenceWarning: Objective did not converge. You might want to increase the number of iterations, check the scale of the features or consider increasing regularisation. Duality gap: 8.385e+05, tolerance: 4.367e+03\n",
      "c:\\Users\\hblin\\AppData\\Local\\Programs\\Python\\Python312\\Lib\\site-packages\\sklearn\\linear_model\\_coordinate_descent.py:697: ConvergenceWarning: Objective did not converge. You might want to increase the number of iterations, check the scale of the features or consider increasing regularisation. Duality gap: 9.324e+05, tolerance: 3.931e+03\n",
      "c:\\Users\\hblin\\AppData\\Local\\Programs\\Python\\Python312\\Lib\\site-packages\\sklearn\\linear_model\\_coordinate_descent.py:697: ConvergenceWarning: Objective did not converge. You might want to increase the number of iterations, check the scale of the features or consider increasing regularisation. Duality gap: 5.818e+05, tolerance: 3.957e+03\n",
      "c:\\Users\\hblin\\AppData\\Local\\Programs\\Python\\Python312\\Lib\\site-packages\\sklearn\\linear_model\\_coordinate_descent.py:697: ConvergenceWarning: Objective did not converge. You might want to increase the number of iterations, check the scale of the features or consider increasing regularisation. Duality gap: 9.339e+05, tolerance: 4.282e+03\n",
      "c:\\Users\\hblin\\AppData\\Local\\Programs\\Python\\Python312\\Lib\\site-packages\\sklearn\\linear_model\\_coordinate_descent.py:697: ConvergenceWarning: Objective did not converge. You might want to increase the number of iterations, check the scale of the features or consider increasing regularisation. Duality gap: 3.787e+05, tolerance: 4.765e+03\n"
     ]
    },
    {
     "data": {
      "image/png": "[encoded data removed]",
      "text/plain": [
       "<Figure size 640x480 with 1 Axes>"
      ]
     },
     "metadata": {},
     "output_type": "display_data"
    }
   ],
   "source": [
    "import numpy as np\n",
    "import pandas as pd\n",
    "import matplotlib.pyplot as plt\n",
    "from sklearn.linear_model import Lasso\n",
    "from sklearn.model_selection import cross_val_score, KFold\n",
    "from sklearn.pipeline import Pipeline\n",
    "from sklearn.preprocessing import StandardScaler, PolynomialFeatures\n",
    "from sklearn.compose import ColumnTransformer\n",
    "from sklearn.model_selection import GridSearchCV\n",
    "from sklearn.impute import SimpleImputer\n",
    "\n",
    "# Define the preprocessing and model setup\n",
    "def create_pipeline(X):\n",
    "    # Columns: numerical and categorical\n",
    "    numerical_cols = X.select_dtypes(include=[np.number]).columns\n",
    "    categorical_cols = X.select_dtypes(exclude=[np.number]).columns\n",
    "\n",
    "    # Column transformer (for scaling numerical columns, encoding categorical ones)\n",
    "    ct = ColumnTransformer(\n",
    "        [\n",
    "            (\"standardize\", StandardScaler(), numerical_cols),\n",
    "            (\"encode\", OneHotEncoder(), categorical_cols)\n",
    "        ], remainder=\"passthrough\"\n",
    "    )\n",
    "\n",
    "    # Add polynomial features (interaction terms)\n",
    "    interaction = PolynomialFeatures(interaction_only=False, include_bias=False)\n",
    "\n",
    "    # Create a pipeline with scaling, encoding, and Lasso regression\n",
    "    lasso = Lasso()\n",
    "    pipeline = Pipeline([\n",
    "        (\"preprocessing\", ct),\n",
    "        (\"interaction\", interaction),\n",
    "        (\"lasso\", lasso)\n",
    "    ])\n",
    "    \n",
    "    return pipeline\n",
    "\n",
    "# Define cross-validation\n",
    "def cross_val_mse(X, y, alpha_values):\n",
    "    mse_scores = []\n",
    "    \n",
    "    # K-Fold Cross-Validation Setup (same folds as GridSearchCV)\n",
    "    kf = KFold(n_splits=5, shuffle=True, random_state=42)  # Ensure reproducibility\n",
    "    \n",
    "    # Loop over alpha values\n",
    "    for alpha in alpha_values:\n",
    "        model = create_pipeline(X)\n",
    "        model.set_params(lasso__alpha=alpha)  # Set alpha in the Lasso model\n",
    "\n",
    "        # Compute MSE with cross-validation\n",
    "        mse = cross_val_score(model, X, y, cv=kf, scoring='neg_mean_squared_error')\n",
    "        mse_scores.append(-mse.mean())  # Convert negative MSE to positive\n",
    "        \n",
    "    return mse_scores\n",
    "\n",
    "# Define the alpha values for Lasso regularization\n",
    "alpha_values = [0.001, 0.01, 0.1, 1, 10]\n",
    "\n",
    "# Get cross-validated MSE for different alpha values\n",
    "mse_scores = cross_val_mse(Xfive, y, alpha_values)\n",
    "\n",
    "# Plot MSE vs alpha\n",
    "plt.plot(alpha_values, mse_scores, marker='o')\n",
    "plt.xscale('log')\n",
    "plt.xlabel('Alpha')\n",
    "plt.ylabel('Mean Squared Error (MSE)')\n",
    "plt.title('MSE vs Alpha for Lasso Regression')\n",
    "plt.show()\n"
   ]
  }
 ],
 "metadata": {
  "kernelspec": {
   "display_name": "Python 3",
   "language": "python",
   "name": "python3"
  },
  "language_info": {
   "codemirror_mode": {
    "name": "ipython",
    "version": 3
   },
   "file_extension": ".py",
   "mimetype": "text/x-python",
   "name": "python",
   "nbconvert_exporter": "python",
   "pygments_lexer": "ipython3",
   "version": "3.12.5"
  }
 },
 "nbformat": 4,
 "nbformat_minor": 2
}
