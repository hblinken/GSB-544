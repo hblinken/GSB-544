{
 "cells": [
  {
   "cell_type": "markdown",
   "metadata": {},
   "source": [
    "---\n",
    "title: 'Lab 8'\n",
    "author: \"Hunter Blinkenberg\"\n",
    "embed-resources: true\n",
    "format: \n",
    "    html:\n",
    "        toc: true\n",
    "        code-fold: true\n",
    "        theme: yeti\n",
    "        echo: true\n",
    "---"
   ]
  },
  {
   "cell_type": "code",
   "execution_count": 47,
   "metadata": {},
   "outputs": [],
   "source": [
    "import pandas as pd\n",
    "from sklearn.pipeline import Pipeline\n",
    "from sklearn.neighbors import KNeighborsClassifier\n",
    "from sklearn.tree import DecisionTreeClassifier\n",
    "import numpy as np\n",
    "from sklearn.compose import make_column_selector, ColumnTransformer\n",
    "from sklearn.preprocessing import StandardScaler, OneHotEncoder, PolynomialFeatures\n",
    "from sklearn.impute import SimpleImputer\n",
    "from sklearn.linear_model import LinearRegression, LogisticRegression\n",
    "from sklearn.model_selection import train_test_split\n",
    "import warnings\n",
    "from sklearn.neighbors import KNeighborsRegressor\n",
    "from sklearn.tree import DecisionTreeRegressor\n",
    "from sklearn.metrics import accuracy_score, roc_auc_score, classification_report, confusion_matrix, mean_squared_error\n",
    "from sklearn.model_selection import cross_val_score, GridSearchCV, StratifiedKFold\n",
    "import matplotlib.pyplot as plt\n",
    "from sklearn.discriminant_analysis import LinearDiscriminantAnalysis, QuadraticDiscriminantAnalysis\n",
    "from sklearn.exceptions import FitFailedWarning\n",
    "from sklearn.svm import SVC\n",
    "from sklearn.tree import plot_tree"
   ]
  },
  {
   "cell_type": "code",
   "execution_count": 101,
   "metadata": {},
   "outputs": [],
   "source": [
    "url = \"https://www.dropbox.com/s/s2a1uoiegitupjc/cannabis_full.csv?dl=1\"\n",
    "cbd = pd.read_csv(url)\n",
    "cbd = cbd.dropna()"
   ]
  },
  {
   "cell_type": "markdown",
   "metadata": {},
   "source": [
    "Ethics Statement and References: The goal of this lab will be to fit models that identify the Sativa types from the Indica types, and then to fit models that also distinguish the Hybrid types."
   ]
  },
  {
   "cell_type": "markdown",
   "metadata": {},
   "source": [
    "# Part One: Binary Classification"
   ]
  },
  {
   "cell_type": "code",
   "execution_count": 102,
   "metadata": {},
   "outputs": [],
   "source": [
    "two = cbd[cbd['Type'].isin([\"sativa\", \"indica\"])]"
   ]
  },
  {
   "cell_type": "code",
   "execution_count": 103,
   "metadata": {},
   "outputs": [],
   "source": [
    "X = two.drop([\"Strain\", \"Type\", \"Effects\", \"Flavor\"], axis= 1)\n",
    "\n",
    "y= two[\"Type\"]"
   ]
  },
  {
   "cell_type": "markdown",
   "metadata": {},
   "source": [
    "For each, you should:\n",
    "\n",
    "Choose a metric you will use to select your model, and briefly justify your choice. (Hint: There is no specific target category here, so this should not be a metric that only prioritizes one category.)\n",
    "\n",
    "Find the best model for predicting the Type variable. Don’t forget to tune any hyperparameters.\n",
    "\n",
    "Report the (cross-validated!) metric.\n",
    "\n",
    "Fit the final model.\n",
    "\n",
    "Output a confusion matrix."
   ]
  },
  {
   "cell_type": "code",
   "execution_count": 86,
   "metadata": {},
   "outputs": [
    {
     "data": {
      "text/plain": [
       "Type\n",
       "indica    659\n",
       "sativa    409\n",
       "Name: count, dtype: int64"
      ]
     },
     "execution_count": 86,
     "metadata": {},
     "output_type": "execute_result"
    }
   ],
   "source": [
    "two[\"Type\"].value_counts()"
   ]
  },
  {
   "cell_type": "markdown",
   "metadata": {},
   "source": [
    "Since there are no target categories, I will use the weighted F1 score for all models since the classes are slightly imbalanced and need a more robust statistic rather than accuracy. Weighting the f1 score will also be able to account for more classes than binary classification. "
   ]
  },
  {
   "cell_type": "code",
   "execution_count": 104,
   "metadata": {},
   "outputs": [],
   "source": [
    "# Define the preprocessing step\n",
    "ct = ColumnTransformer(\n",
    "    [\n",
    "        (\"dummify\", \n",
    "         OneHotEncoder(sparse_output=False, handle_unknown='ignore'),\n",
    "         make_column_selector(dtype_include=object)),\n",
    "        (\"standardize\", \n",
    "         StandardScaler(), \n",
    "         make_column_selector(dtype_include=np.number))\n",
    "    ],\n",
    "    remainder=\"passthrough\"\n",
    ").set_output(transform=\"pandas\")\n",
    "\n",
    "def evaluate_grid_search(grid_search, X, y):\n",
    "    \"\"\"\n",
    "    This function performs grid search, evaluates the best model, and prints the results.\n",
    "\n",
    "    Parameters:\n",
    "    - grid_search: The GridSearchCV object that has been set up with the pipeline and parameter grid.\n",
    "    - X: The feature matrix.\n",
    "    - y: The target vector.\n",
    "\n",
    "    Returns:\n",
    "    - None\n",
    "    \"\"\"\n",
    "    # Suppress warnings only in this block\n",
    "    with warnings.catch_warnings():\n",
    "        warnings.simplefilter(\"ignore\", FitFailedWarning)\n",
    "        grid_search.fit(X, y)  # Perform GridSearchCV without warnings\n",
    "\n",
    "    # Output the best parameters and ROC-AUC score\n",
    "    print(\"Best Parameters:\", grid_search.best_params_)\n",
    "    print(f\"Best Cross-validated Metric: {grid_search.best_score_:.4f}\")\n",
    "\n",
    "    # Make predictions with the best estimator\n",
    "    y_pred = grid_search.best_estimator_.predict(X)\n",
    "\n",
    "    # Print the classification report and confusion matrix\n",
    "    print(\"Classification Report:\")\n",
    "    print(classification_report(y, y_pred))\n",
    "\n",
    "    print(\"Confusion Matrix:\")\n",
    "    print(confusion_matrix(y, y_pred))\n",
    "\n",
    "# Example usage:\n",
    "# evaluate_grid_search(grid_search, X, y)"
   ]
  },
  {
   "cell_type": "markdown",
   "metadata": {},
   "source": [
    "## Q1: LDA "
   ]
  },
  {
   "cell_type": "code",
   "execution_count": 105,
   "metadata": {},
   "outputs": [
    {
     "name": "stdout",
     "output_type": "stream",
     "text": [
      "Best Parameters: {'lda__n_components': 1, 'lda__priors': None, 'lda__shrinkage': 'auto', 'lda__solver': 'eigen', 'lda__tol': 0.0001}\n",
      "Best Cross-validated Metric: 0.8659\n",
      "Classification Report:\n",
      "              precision    recall  f1-score   support\n",
      "\n",
      "      indica       0.90      0.91      0.90       659\n",
      "      sativa       0.85      0.83      0.84       409\n",
      "\n",
      "    accuracy                           0.88      1068\n",
      "   macro avg       0.88      0.87      0.87      1068\n",
      "weighted avg       0.88      0.88      0.88      1068\n",
      "\n",
      "Confusion Matrix:\n",
      "[[601  58]\n",
      " [ 69 340]]\n"
     ]
    },
    {
     "name": "stderr",
     "output_type": "stream",
     "text": [
      "c:\\Users\\hblin\\AppData\\Local\\Programs\\Python\\Python312\\Lib\\site-packages\\sklearn\\model_selection\\_search.py:1103: UserWarning: One or more of the test scores are non-finite: [0.86589097 0.86589097        nan        nan        nan        nan]\n"
     ]
    }
   ],
   "source": [
    "# unused solvers: \"svd\", \"lsqr\", \n",
    "param_grid = {\n",
    "    \"lda__solver\": [\"eigen\"],  # Different solvers for LDA\n",
    "    \"lda__priors\": [None],  # Uniform priors or None (learned from the data)\n",
    "    \"lda__n_components\": [1, 2, 3],  # Different number of components (for dimensionality reduction)\n",
    "    \"lda__shrinkage\": [\"auto\"],  # Only applicable if solver=\"lsqr\"\n",
    "    \"lda__tol\": [1e-4, 1e-3]  # Different tolerance levels\n",
    "}\n",
    "\n",
    "# Define the pipeline for LDA \n",
    "lda_pipeline = Pipeline(\n",
    "    [(\"preprocessing\", ct),\n",
    "     (\"lda\", LinearDiscriminantAnalysis())]  # Default classifier\n",
    ")\n",
    "\n",
    "# Fit the GridSearchCV\n",
    "grid_search = GridSearchCV(\n",
    "    lda_pipeline,\n",
    "    param_grid,\n",
    "    cv=StratifiedKFold(n_splits=5),  # Ensures proper class distribution\n",
    "    scoring=\"f1_weighted\",\n",
    "    n_jobs=-1\n",
    ")\n",
    "\n",
    "evaluate_grid_search(grid_search, X, y)\n"
   ]
  },
  {
   "cell_type": "markdown",
   "metadata": {},
   "source": [
    "## Q2: QDA"
   ]
  },
  {
   "cell_type": "code",
   "execution_count": 106,
   "metadata": {},
   "outputs": [
    {
     "name": "stdout",
     "output_type": "stream",
     "text": [
      "Best Parameters: {'qda__priors': None, 'qda__reg_param': 0.5, 'qda__tol': 0.0001}\n",
      "Best Cross-validated Metric: 0.7910\n",
      "Classification Report:\n",
      "              precision    recall  f1-score   support\n",
      "\n",
      "      indica       0.91      0.86      0.88       659\n",
      "      sativa       0.79      0.86      0.82       409\n",
      "\n",
      "    accuracy                           0.86      1068\n",
      "   macro avg       0.85      0.86      0.85      1068\n",
      "weighted avg       0.86      0.86      0.86      1068\n",
      "\n",
      "Confusion Matrix:\n",
      "[[566  93]\n",
      " [ 58 351]]\n"
     ]
    },
    {
     "name": "stderr",
     "output_type": "stream",
     "text": [
      "c:\\Users\\hblin\\AppData\\Local\\Programs\\Python\\Python312\\Lib\\site-packages\\sklearn\\model_selection\\_search.py:1103: UserWarning: One or more of the test scores are non-finite: [0.45716985 0.45716985 0.77782164 0.77782164 0.79101703 0.79101703\n",
      "        nan        nan        nan        nan        nan        nan]\n",
      "c:\\Users\\hblin\\AppData\\Local\\Programs\\Python\\Python312\\Lib\\site-packages\\sklearn\\discriminant_analysis.py:947: UserWarning: Variables are collinear\n"
     ]
    }
   ],
   "source": [
    "param_grid = {\n",
    "    'qda__priors': [None, .5],  # Priors for class probabilities\n",
    "    'qda__reg_param': [0.0, 0.1, 0.5],  # Regularization parameter (optional)\n",
    "    'qda__tol': [1e-4, 1e-3]  # Tolerance for eigenvalue decomposition (optional)\n",
    "}\n",
    "\n",
    "# Define the pipeline for QDA \n",
    "qda_pipeline = Pipeline(\n",
    "    [(\"preprocessing\", ct),\n",
    "     (\"qda\", QuadraticDiscriminantAnalysis())]  # Default classifier\n",
    ")\n",
    "\n",
    "# Fit the GridSearchCV\n",
    "grid_search = GridSearchCV(\n",
    "    qda_pipeline,\n",
    "    param_grid,\n",
    "    cv=StratifiedKFold(n_splits=5),  # Ensures proper class distribution\n",
    "    scoring=\"f1_weighted\",\n",
    "    n_jobs=-1\n",
    ")\n",
    "\n",
    "evaluate_grid_search(grid_search, X, y)"
   ]
  },
  {
   "cell_type": "markdown",
   "metadata": {},
   "source": [
    "## Q3: SVC"
   ]
  },
  {
   "cell_type": "code",
   "execution_count": 107,
   "metadata": {},
   "outputs": [
    {
     "name": "stdout",
     "output_type": "stream",
     "text": [
      "Best Parameters: {'svc__C': 1, 'svc__class_weight': 'balanced', 'svc__max_iter': 1000, 'svc__shrinking': True, 'svc__tol': 0.0001}\n",
      "Best Cross-validated Metric: 0.8442\n",
      "Classification Report:\n",
      "              precision    recall  f1-score   support\n",
      "\n",
      "      indica       0.96      0.94      0.95       659\n",
      "      sativa       0.90      0.93      0.92       409\n",
      "\n",
      "    accuracy                           0.94      1068\n",
      "   macro avg       0.93      0.93      0.93      1068\n",
      "weighted avg       0.94      0.94      0.94      1068\n",
      "\n",
      "Confusion Matrix:\n",
      "[[618  41]\n",
      " [ 28 381]]\n"
     ]
    }
   ],
   "source": [
    "param_grid = {\n",
    "    \"svc__C\": [0.1, 1, 10, 100, 1000],\n",
    "    \"svc__class_weight\": [None, 'balanced'],\n",
    "    \"svc__shrinking\": [True, False],\n",
    "    \"svc__tol\": [1e-4, 1e-5, 1e-6],\n",
    "    \"svc__max_iter\": [1000, 5000, -1]\n",
    "}\n",
    "\n",
    "svc_pipeline = Pipeline([\n",
    "    (\"preprocessing\", ct),\n",
    "    (\"svc\", SVC(probability=True))  # Use probability=True for probability outputs\n",
    "])\n",
    "\n",
    "# Define the parameter grid for C (regularization parameter)\n",
    "\n",
    "grid_search = GridSearchCV(\n",
    "    svc_pipeline,\n",
    "    param_grid,\n",
    "    cv=StratifiedKFold(n_splits=5),  # Ensures proper class distribution\n",
    "    scoring=\"f1_weighted\",\n",
    "    n_jobs=-1\n",
    ")\n",
    "\n",
    "evaluate_grid_search(grid_search, X, y)"
   ]
  },
  {
   "cell_type": "markdown",
   "metadata": {},
   "source": [
    "## Q4: SVM "
   ]
  },
  {
   "cell_type": "code",
   "execution_count": 108,
   "metadata": {},
   "outputs": [
    {
     "name": "stdout",
     "output_type": "stream",
     "text": [
      "Best Parameters: {'svc__C': 10, 'svc__class_weight': 'balanced', 'svc__kernel': 'poly', 'svc__max_iter': 5000, 'svc__shrinking': True, 'svc__tol': 0.0001}\n",
      "Best Cross-validated Metric: 0.8490\n",
      "Classification Report:\n",
      "              precision    recall  f1-score   support\n",
      "\n",
      "      indica       0.98      0.99      0.99       659\n",
      "      sativa       0.99      0.97      0.98       409\n",
      "\n",
      "    accuracy                           0.98      1068\n",
      "   macro avg       0.98      0.98      0.98      1068\n",
      "weighted avg       0.98      0.98      0.98      1068\n",
      "\n",
      "Confusion Matrix:\n",
      "[[653   6]\n",
      " [ 13 396]]\n"
     ]
    }
   ],
   "source": [
    "# too computationally expensive params \n",
    "    # \"svc__gamma\": ['scale', 'auto', 0.001, 0.01, 0.1, 1],\n",
    "    # \"svc__degree\": [2, 3, 4],\n",
    "    # \"svc__coef0\": [0, 0.5, 1],\n",
    "param_grid = {\n",
    "    \"svc__C\": [0.1, 1, 10, 100, 1000],\n",
    "    \"svc__kernel\": ['poly'],\n",
    "    \"svc__class_weight\": [None, 'balanced'],\n",
    "    \"svc__shrinking\": [True, False],\n",
    "    \"svc__tol\": [1e-4, 1e-5, 1e-6],\n",
    "    \"svc__max_iter\": [1000, 5000, -1]\n",
    "}\n",
    "\n",
    "svc_pipeline = Pipeline([\n",
    "    (\"preprocessing\", ct),\n",
    "    (\"svc\", SVC(probability=True))  # Use probability=True for probability outputs\n",
    "])\n",
    "\n",
    "# Define the parameter grid for C (regularization parameter)\n",
    "\n",
    "grid_search = GridSearchCV(\n",
    "    svc_pipeline,\n",
    "    param_grid,\n",
    "    cv=StratifiedKFold(n_splits=5),  # Ensures proper class distribution\n",
    "    scoring=\"f1_weighted\",\n",
    "    n_jobs=-1\n",
    ")\n",
    "\n",
    "evaluate_grid_search(grid_search, X, y)\n"
   ]
  },
  {
   "cell_type": "markdown",
   "metadata": {},
   "source": [
    "# Part 2: Natural Multiclass"
   ]
  },
  {
   "cell_type": "code",
   "execution_count": 109,
   "metadata": {},
   "outputs": [],
   "source": [
    "X = cbd.drop([\"Strain\", \"Type\", \"Effects\", \"Flavor\"], axis= 1)\n",
    "\n",
    "y= cbd[\"Type\"]"
   ]
  },
  {
   "cell_type": "code",
   "execution_count": 98,
   "metadata": {},
   "outputs": [
    {
     "data": {
      "text/plain": [
       "Type\n",
       "hybrid    1123\n",
       "indica     659\n",
       "sativa     409\n",
       "Name: count, dtype: int64"
      ]
     },
     "execution_count": 98,
     "metadata": {},
     "output_type": "execute_result"
    }
   ],
   "source": [
    "cbd[\"Type\"].value_counts()"
   ]
  },
  {
   "cell_type": "markdown",
   "metadata": {},
   "source": [
    "## Q1: Decision Tree "
   ]
  },
  {
   "cell_type": "code",
   "execution_count": 112,
   "metadata": {},
   "outputs": [
    {
     "data": {
      "text/html": [
       "<style>#sk-container-id-5 {\n",
       "  /* Definition of color scheme common for light and dark mode */\n",
       "  --sklearn-color-text: black;\n",
       "  --sklearn-color-line: gray;\n",
       "  /* Definition of color scheme for unfitted estimators */\n",
       "  --sklearn-color-unfitted-level-0: #fff5e6;\n",
       "  --sklearn-color-unfitted-level-1: #f6e4d2;\n",
       "  --sklearn-color-unfitted-level-2: #ffe0b3;\n",
       "  --sklearn-color-unfitted-level-3: chocolate;\n",
       "  /* Definition of color scheme for fitted estimators */\n",
       "  --sklearn-color-fitted-level-0: #f0f8ff;\n",
       "  --sklearn-color-fitted-level-1: #d4ebff;\n",
       "  --sklearn-color-fitted-level-2: #b3dbfd;\n",
       "  --sklearn-color-fitted-level-3: cornflowerblue;\n",
       "\n",
       "  /* Specific color for light theme */\n",
       "  --sklearn-color-text-on-default-background: var(--sg-text-color, var(--theme-code-foreground, var(--jp-content-font-color1, black)));\n",
       "  --sklearn-color-background: var(--sg-background-color, var(--theme-background, var(--jp-layout-color0, white)));\n",
       "  --sklearn-color-border-box: var(--sg-text-color, var(--theme-code-foreground, var(--jp-content-font-color1, black)));\n",
       "  --sklearn-color-icon: #696969;\n",
       "\n",
       "  @media (prefers-color-scheme: dark) {\n",
       "    /* Redefinition of color scheme for dark theme */\n",
       "    --sklearn-color-text-on-default-background: var(--sg-text-color, var(--theme-code-foreground, var(--jp-content-font-color1, white)));\n",
       "    --sklearn-color-background: var(--sg-background-color, var(--theme-background, var(--jp-layout-color0, #111)));\n",
       "    --sklearn-color-border-box: var(--sg-text-color, var(--theme-code-foreground, var(--jp-content-font-color1, white)));\n",
       "    --sklearn-color-icon: #878787;\n",
       "  }\n",
       "}\n",
       "\n",
       "#sk-container-id-5 {\n",
       "  color: var(--sklearn-color-text);\n",
       "}\n",
       "\n",
       "#sk-container-id-5 pre {\n",
       "  padding: 0;\n",
       "}\n",
       "\n",
       "#sk-container-id-5 input.sk-hidden--visually {\n",
       "  border: 0;\n",
       "  clip: rect(1px 1px 1px 1px);\n",
       "  clip: rect(1px, 1px, 1px, 1px);\n",
       "  height: 1px;\n",
       "  margin: -1px;\n",
       "  overflow: hidden;\n",
       "  padding: 0;\n",
       "  position: absolute;\n",
       "  width: 1px;\n",
       "}\n",
       "\n",
       "#sk-container-id-5 div.sk-dashed-wrapped {\n",
       "  border: 1px dashed var(--sklearn-color-line);\n",
       "  margin: 0 0.4em 0.5em 0.4em;\n",
       "  box-sizing: border-box;\n",
       "  padding-bottom: 0.4em;\n",
       "  background-color: var(--sklearn-color-background);\n",
       "}\n",
       "\n",
       "#sk-container-id-5 div.sk-container {\n",
       "  /* jupyter's `normalize.less` sets `[hidden] { display: none; }`\n",
       "     but bootstrap.min.css set `[hidden] { display: none !important; }`\n",
       "     so we also need the `!important` here to be able to override the\n",
       "     default hidden behavior on the sphinx rendered scikit-learn.org.\n",
       "     See: https://github.com/scikit-learn/scikit-learn/issues/21755 */\n",
       "  display: inline-block !important;\n",
       "  position: relative;\n",
       "}\n",
       "\n",
       "#sk-container-id-5 div.sk-text-repr-fallback {\n",
       "  display: none;\n",
       "}\n",
       "\n",
       "div.sk-parallel-item,\n",
       "div.sk-serial,\n",
       "div.sk-item {\n",
       "  /* draw centered vertical line to link estimators */\n",
       "  background-image: linear-gradient(var(--sklearn-color-text-on-default-background), var(--sklearn-color-text-on-default-background));\n",
       "  background-size: 2px 100%;\n",
       "  background-repeat: no-repeat;\n",
       "  background-position: center center;\n",
       "}\n",
       "\n",
       "/* Parallel-specific style estimator block */\n",
       "\n",
       "#sk-container-id-5 div.sk-parallel-item::after {\n",
       "  content: \"\";\n",
       "  width: 100%;\n",
       "  border-bottom: 2px solid var(--sklearn-color-text-on-default-background);\n",
       "  flex-grow: 1;\n",
       "}\n",
       "\n",
       "#sk-container-id-5 div.sk-parallel {\n",
       "  display: flex;\n",
       "  align-items: stretch;\n",
       "  justify-content: center;\n",
       "  background-color: var(--sklearn-color-background);\n",
       "  position: relative;\n",
       "}\n",
       "\n",
       "#sk-container-id-5 div.sk-parallel-item {\n",
       "  display: flex;\n",
       "  flex-direction: column;\n",
       "}\n",
       "\n",
       "#sk-container-id-5 div.sk-parallel-item:first-child::after {\n",
       "  align-self: flex-end;\n",
       "  width: 50%;\n",
       "}\n",
       "\n",
       "#sk-container-id-5 div.sk-parallel-item:last-child::after {\n",
       "  align-self: flex-start;\n",
       "  width: 50%;\n",
       "}\n",
       "\n",
       "#sk-container-id-5 div.sk-parallel-item:only-child::after {\n",
       "  width: 0;\n",
       "}\n",
       "\n",
       "/* Serial-specific style estimator block */\n",
       "\n",
       "#sk-container-id-5 div.sk-serial {\n",
       "  display: flex;\n",
       "  flex-direction: column;\n",
       "  align-items: center;\n",
       "  background-color: var(--sklearn-color-background);\n",
       "  padding-right: 1em;\n",
       "  padding-left: 1em;\n",
       "}\n",
       "\n",
       "\n",
       "/* Toggleable style: style used for estimator/Pipeline/ColumnTransformer box that is\n",
       "clickable and can be expanded/collapsed.\n",
       "- Pipeline and ColumnTransformer use this feature and define the default style\n",
       "- Estimators will overwrite some part of the style using the `sk-estimator` class\n",
       "*/\n",
       "\n",
       "/* Pipeline and ColumnTransformer style (default) */\n",
       "\n",
       "#sk-container-id-5 div.sk-toggleable {\n",
       "  /* Default theme specific background. It is overwritten whether we have a\n",
       "  specific estimator or a Pipeline/ColumnTransformer */\n",
       "  background-color: var(--sklearn-color-background);\n",
       "}\n",
       "\n",
       "/* Toggleable label */\n",
       "#sk-container-id-5 label.sk-toggleable__label {\n",
       "  cursor: pointer;\n",
       "  display: block;\n",
       "  width: 100%;\n",
       "  margin-bottom: 0;\n",
       "  padding: 0.5em;\n",
       "  box-sizing: border-box;\n",
       "  text-align: center;\n",
       "}\n",
       "\n",
       "#sk-container-id-5 label.sk-toggleable__label-arrow:before {\n",
       "  /* Arrow on the left of the label */\n",
       "  content: \"▸\";\n",
       "  float: left;\n",
       "  margin-right: 0.25em;\n",
       "  color: var(--sklearn-color-icon);\n",
       "}\n",
       "\n",
       "#sk-container-id-5 label.sk-toggleable__label-arrow:hover:before {\n",
       "  color: var(--sklearn-color-text);\n",
       "}\n",
       "\n",
       "/* Toggleable content - dropdown */\n",
       "\n",
       "#sk-container-id-5 div.sk-toggleable__content {\n",
       "  max-height: 0;\n",
       "  max-width: 0;\n",
       "  overflow: hidden;\n",
       "  text-align: left;\n",
       "  /* unfitted */\n",
       "  background-color: var(--sklearn-color-unfitted-level-0);\n",
       "}\n",
       "\n",
       "#sk-container-id-5 div.sk-toggleable__content.fitted {\n",
       "  /* fitted */\n",
       "  background-color: var(--sklearn-color-fitted-level-0);\n",
       "}\n",
       "\n",
       "#sk-container-id-5 div.sk-toggleable__content pre {\n",
       "  margin: 0.2em;\n",
       "  border-radius: 0.25em;\n",
       "  color: var(--sklearn-color-text);\n",
       "  /* unfitted */\n",
       "  background-color: var(--sklearn-color-unfitted-level-0);\n",
       "}\n",
       "\n",
       "#sk-container-id-5 div.sk-toggleable__content.fitted pre {\n",
       "  /* unfitted */\n",
       "  background-color: var(--sklearn-color-fitted-level-0);\n",
       "}\n",
       "\n",
       "#sk-container-id-5 input.sk-toggleable__control:checked~div.sk-toggleable__content {\n",
       "  /* Expand drop-down */\n",
       "  max-height: 200px;\n",
       "  max-width: 100%;\n",
       "  overflow: auto;\n",
       "}\n",
       "\n",
       "#sk-container-id-5 input.sk-toggleable__control:checked~label.sk-toggleable__label-arrow:before {\n",
       "  content: \"▾\";\n",
       "}\n",
       "\n",
       "/* Pipeline/ColumnTransformer-specific style */\n",
       "\n",
       "#sk-container-id-5 div.sk-label input.sk-toggleable__control:checked~label.sk-toggleable__label {\n",
       "  color: var(--sklearn-color-text);\n",
       "  background-color: var(--sklearn-color-unfitted-level-2);\n",
       "}\n",
       "\n",
       "#sk-container-id-5 div.sk-label.fitted input.sk-toggleable__control:checked~label.sk-toggleable__label {\n",
       "  background-color: var(--sklearn-color-fitted-level-2);\n",
       "}\n",
       "\n",
       "/* Estimator-specific style */\n",
       "\n",
       "/* Colorize estimator box */\n",
       "#sk-container-id-5 div.sk-estimator input.sk-toggleable__control:checked~label.sk-toggleable__label {\n",
       "  /* unfitted */\n",
       "  background-color: var(--sklearn-color-unfitted-level-2);\n",
       "}\n",
       "\n",
       "#sk-container-id-5 div.sk-estimator.fitted input.sk-toggleable__control:checked~label.sk-toggleable__label {\n",
       "  /* fitted */\n",
       "  background-color: var(--sklearn-color-fitted-level-2);\n",
       "}\n",
       "\n",
       "#sk-container-id-5 div.sk-label label.sk-toggleable__label,\n",
       "#sk-container-id-5 div.sk-label label {\n",
       "  /* The background is the default theme color */\n",
       "  color: var(--sklearn-color-text-on-default-background);\n",
       "}\n",
       "\n",
       "/* On hover, darken the color of the background */\n",
       "#sk-container-id-5 div.sk-label:hover label.sk-toggleable__label {\n",
       "  color: var(--sklearn-color-text);\n",
       "  background-color: var(--sklearn-color-unfitted-level-2);\n",
       "}\n",
       "\n",
       "/* Label box, darken color on hover, fitted */\n",
       "#sk-container-id-5 div.sk-label.fitted:hover label.sk-toggleable__label.fitted {\n",
       "  color: var(--sklearn-color-text);\n",
       "  background-color: var(--sklearn-color-fitted-level-2);\n",
       "}\n",
       "\n",
       "/* Estimator label */\n",
       "\n",
       "#sk-container-id-5 div.sk-label label {\n",
       "  font-family: monospace;\n",
       "  font-weight: bold;\n",
       "  display: inline-block;\n",
       "  line-height: 1.2em;\n",
       "}\n",
       "\n",
       "#sk-container-id-5 div.sk-label-container {\n",
       "  text-align: center;\n",
       "}\n",
       "\n",
       "/* Estimator-specific */\n",
       "#sk-container-id-5 div.sk-estimator {\n",
       "  font-family: monospace;\n",
       "  border: 1px dotted var(--sklearn-color-border-box);\n",
       "  border-radius: 0.25em;\n",
       "  box-sizing: border-box;\n",
       "  margin-bottom: 0.5em;\n",
       "  /* unfitted */\n",
       "  background-color: var(--sklearn-color-unfitted-level-0);\n",
       "}\n",
       "\n",
       "#sk-container-id-5 div.sk-estimator.fitted {\n",
       "  /* fitted */\n",
       "  background-color: var(--sklearn-color-fitted-level-0);\n",
       "}\n",
       "\n",
       "/* on hover */\n",
       "#sk-container-id-5 div.sk-estimator:hover {\n",
       "  /* unfitted */\n",
       "  background-color: var(--sklearn-color-unfitted-level-2);\n",
       "}\n",
       "\n",
       "#sk-container-id-5 div.sk-estimator.fitted:hover {\n",
       "  /* fitted */\n",
       "  background-color: var(--sklearn-color-fitted-level-2);\n",
       "}\n",
       "\n",
       "/* Specification for estimator info (e.g. \"i\" and \"?\") */\n",
       "\n",
       "/* Common style for \"i\" and \"?\" */\n",
       "\n",
       ".sk-estimator-doc-link,\n",
       "a:link.sk-estimator-doc-link,\n",
       "a:visited.sk-estimator-doc-link {\n",
       "  float: right;\n",
       "  font-size: smaller;\n",
       "  line-height: 1em;\n",
       "  font-family: monospace;\n",
       "  background-color: var(--sklearn-color-background);\n",
       "  border-radius: 1em;\n",
       "  height: 1em;\n",
       "  width: 1em;\n",
       "  text-decoration: none !important;\n",
       "  margin-left: 1ex;\n",
       "  /* unfitted */\n",
       "  border: var(--sklearn-color-unfitted-level-1) 1pt solid;\n",
       "  color: var(--sklearn-color-unfitted-level-1);\n",
       "}\n",
       "\n",
       ".sk-estimator-doc-link.fitted,\n",
       "a:link.sk-estimator-doc-link.fitted,\n",
       "a:visited.sk-estimator-doc-link.fitted {\n",
       "  /* fitted */\n",
       "  border: var(--sklearn-color-fitted-level-1) 1pt solid;\n",
       "  color: var(--sklearn-color-fitted-level-1);\n",
       "}\n",
       "\n",
       "/* On hover */\n",
       "div.sk-estimator:hover .sk-estimator-doc-link:hover,\n",
       ".sk-estimator-doc-link:hover,\n",
       "div.sk-label-container:hover .sk-estimator-doc-link:hover,\n",
       ".sk-estimator-doc-link:hover {\n",
       "  /* unfitted */\n",
       "  background-color: var(--sklearn-color-unfitted-level-3);\n",
       "  color: var(--sklearn-color-background);\n",
       "  text-decoration: none;\n",
       "}\n",
       "\n",
       "div.sk-estimator.fitted:hover .sk-estimator-doc-link.fitted:hover,\n",
       ".sk-estimator-doc-link.fitted:hover,\n",
       "div.sk-label-container:hover .sk-estimator-doc-link.fitted:hover,\n",
       ".sk-estimator-doc-link.fitted:hover {\n",
       "  /* fitted */\n",
       "  background-color: var(--sklearn-color-fitted-level-3);\n",
       "  color: var(--sklearn-color-background);\n",
       "  text-decoration: none;\n",
       "}\n",
       "\n",
       "/* Span, style for the box shown on hovering the info icon */\n",
       ".sk-estimator-doc-link span {\n",
       "  display: none;\n",
       "  z-index: 9999;\n",
       "  position: relative;\n",
       "  font-weight: normal;\n",
       "  right: .2ex;\n",
       "  padding: .5ex;\n",
       "  margin: .5ex;\n",
       "  width: min-content;\n",
       "  min-width: 20ex;\n",
       "  max-width: 50ex;\n",
       "  color: var(--sklearn-color-text);\n",
       "  box-shadow: 2pt 2pt 4pt #999;\n",
       "  /* unfitted */\n",
       "  background: var(--sklearn-color-unfitted-level-0);\n",
       "  border: .5pt solid var(--sklearn-color-unfitted-level-3);\n",
       "}\n",
       "\n",
       ".sk-estimator-doc-link.fitted span {\n",
       "  /* fitted */\n",
       "  background: var(--sklearn-color-fitted-level-0);\n",
       "  border: var(--sklearn-color-fitted-level-3);\n",
       "}\n",
       "\n",
       ".sk-estimator-doc-link:hover span {\n",
       "  display: block;\n",
       "}\n",
       "\n",
       "/* \"?\"-specific style due to the `<a>` HTML tag */\n",
       "\n",
       "#sk-container-id-5 a.estimator_doc_link {\n",
       "  float: right;\n",
       "  font-size: 1rem;\n",
       "  line-height: 1em;\n",
       "  font-family: monospace;\n",
       "  background-color: var(--sklearn-color-background);\n",
       "  border-radius: 1rem;\n",
       "  height: 1rem;\n",
       "  width: 1rem;\n",
       "  text-decoration: none;\n",
       "  /* unfitted */\n",
       "  color: var(--sklearn-color-unfitted-level-1);\n",
       "  border: var(--sklearn-color-unfitted-level-1) 1pt solid;\n",
       "}\n",
       "\n",
       "#sk-container-id-5 a.estimator_doc_link.fitted {\n",
       "  /* fitted */\n",
       "  border: var(--sklearn-color-fitted-level-1) 1pt solid;\n",
       "  color: var(--sklearn-color-fitted-level-1);\n",
       "}\n",
       "\n",
       "/* On hover */\n",
       "#sk-container-id-5 a.estimator_doc_link:hover {\n",
       "  /* unfitted */\n",
       "  background-color: var(--sklearn-color-unfitted-level-3);\n",
       "  color: var(--sklearn-color-background);\n",
       "  text-decoration: none;\n",
       "}\n",
       "\n",
       "#sk-container-id-5 a.estimator_doc_link.fitted:hover {\n",
       "  /* fitted */\n",
       "  background-color: var(--sklearn-color-fitted-level-3);\n",
       "}\n",
       "</style><div id=\"sk-container-id-5\" class=\"sk-top-container\"><div class=\"sk-text-repr-fallback\"><pre>GridSearchCV(cv=StratifiedKFold(n_splits=5, random_state=None, shuffle=False),\n",
       "             estimator=Pipeline(steps=[(&#x27;preprocessing&#x27;,\n",
       "                                        ColumnTransformer(remainder=&#x27;passthrough&#x27;,\n",
       "                                                          transformers=[(&#x27;dummify&#x27;,\n",
       "                                                                         OneHotEncoder(handle_unknown=&#x27;ignore&#x27;,\n",
       "                                                                                       sparse_output=False),\n",
       "                                                                         &lt;sklearn.compose._column_transformer.make_column_selector object at 0x000002A866EC4320&gt;),\n",
       "                                                                        (&#x27;standardize&#x27;,\n",
       "                                                                         StandardScaler(),\n",
       "                                                                         &lt;sklearn.compose._column_transformer.make_column_selector object at 0x000002A8624312E0&gt;)])),\n",
       "                                       (&#x27;dt&#x27;, DecisionTreeClassifier())]),\n",
       "             n_jobs=-1,\n",
       "             param_grid={&#x27;dt__criterion&#x27;: [&#x27;gini&#x27;, &#x27;entropy&#x27;],\n",
       "                         &#x27;dt__max_depth&#x27;: [3, 7, 10, None],\n",
       "                         &#x27;dt__min_samples_leaf&#x27;: [1, 2, 4],\n",
       "                         &#x27;dt__min_samples_split&#x27;: [2, 5, 10]},\n",
       "             scoring=&#x27;f1_weighted&#x27;)</pre><b>In a Jupyter environment, please rerun this cell to show the HTML representation or trust the notebook. <br />On GitHub, the HTML representation is unable to render, please try loading this page with nbviewer.org.</b></div><div class=\"sk-container\" hidden><div class=\"sk-item sk-dashed-wrapped\"><div class=\"sk-label-container\"><div class=\"sk-label fitted sk-toggleable\"><input class=\"sk-toggleable__control sk-hidden--visually\" id=\"sk-estimator-id-41\" type=\"checkbox\" ><label for=\"sk-estimator-id-41\" class=\"sk-toggleable__label fitted sk-toggleable__label-arrow fitted\">&nbsp;&nbsp;GridSearchCV<a class=\"sk-estimator-doc-link fitted\" rel=\"noreferrer\" target=\"_blank\" href=\"https://scikit-learn.org/1.5/modules/generated/sklearn.model_selection.GridSearchCV.html\">?<span>Documentation for GridSearchCV</span></a><span class=\"sk-estimator-doc-link fitted\">i<span>Fitted</span></span></label><div class=\"sk-toggleable__content fitted\"><pre>GridSearchCV(cv=StratifiedKFold(n_splits=5, random_state=None, shuffle=False),\n",
       "             estimator=Pipeline(steps=[(&#x27;preprocessing&#x27;,\n",
       "                                        ColumnTransformer(remainder=&#x27;passthrough&#x27;,\n",
       "                                                          transformers=[(&#x27;dummify&#x27;,\n",
       "                                                                         OneHotEncoder(handle_unknown=&#x27;ignore&#x27;,\n",
       "                                                                                       sparse_output=False),\n",
       "                                                                         &lt;sklearn.compose._column_transformer.make_column_selector object at 0x000002A866EC4320&gt;),\n",
       "                                                                        (&#x27;standardize&#x27;,\n",
       "                                                                         StandardScaler(),\n",
       "                                                                         &lt;sklearn.compose._column_transformer.make_column_selector object at 0x000002A8624312E0&gt;)])),\n",
       "                                       (&#x27;dt&#x27;, DecisionTreeClassifier())]),\n",
       "             n_jobs=-1,\n",
       "             param_grid={&#x27;dt__criterion&#x27;: [&#x27;gini&#x27;, &#x27;entropy&#x27;],\n",
       "                         &#x27;dt__max_depth&#x27;: [3, 7, 10, None],\n",
       "                         &#x27;dt__min_samples_leaf&#x27;: [1, 2, 4],\n",
       "                         &#x27;dt__min_samples_split&#x27;: [2, 5, 10]},\n",
       "             scoring=&#x27;f1_weighted&#x27;)</pre></div> </div></div><div class=\"sk-parallel\"><div class=\"sk-parallel-item\"><div class=\"sk-item\"><div class=\"sk-label-container\"><div class=\"sk-label fitted sk-toggleable\"><input class=\"sk-toggleable__control sk-hidden--visually\" id=\"sk-estimator-id-42\" type=\"checkbox\" ><label for=\"sk-estimator-id-42\" class=\"sk-toggleable__label fitted sk-toggleable__label-arrow fitted\">best_estimator_: Pipeline</label><div class=\"sk-toggleable__content fitted\"><pre>Pipeline(steps=[(&#x27;preprocessing&#x27;,\n",
       "                 ColumnTransformer(remainder=&#x27;passthrough&#x27;,\n",
       "                                   transformers=[(&#x27;dummify&#x27;,\n",
       "                                                  OneHotEncoder(handle_unknown=&#x27;ignore&#x27;,\n",
       "                                                                sparse_output=False),\n",
       "                                                  &lt;sklearn.compose._column_transformer.make_column_selector object at 0x000002A8675DDA60&gt;),\n",
       "                                                 (&#x27;standardize&#x27;,\n",
       "                                                  StandardScaler(),\n",
       "                                                  &lt;sklearn.compose._column_transformer.make_column_selector object at 0x000002A8675DCD70&gt;)])),\n",
       "                (&#x27;dt&#x27;,\n",
       "                 DecisionTreeClassifier(criterion=&#x27;entropy&#x27;, max_depth=3))])</pre></div> </div></div><div class=\"sk-serial\"><div class=\"sk-item\"><div class=\"sk-serial\"><div class=\"sk-item sk-dashed-wrapped\"><div class=\"sk-label-container\"><div class=\"sk-label fitted sk-toggleable\"><input class=\"sk-toggleable__control sk-hidden--visually\" id=\"sk-estimator-id-43\" type=\"checkbox\" ><label for=\"sk-estimator-id-43\" class=\"sk-toggleable__label fitted sk-toggleable__label-arrow fitted\">&nbsp;preprocessing: ColumnTransformer<a class=\"sk-estimator-doc-link fitted\" rel=\"noreferrer\" target=\"_blank\" href=\"https://scikit-learn.org/1.5/modules/generated/sklearn.compose.ColumnTransformer.html\">?<span>Documentation for preprocessing: ColumnTransformer</span></a></label><div class=\"sk-toggleable__content fitted\"><pre>ColumnTransformer(remainder=&#x27;passthrough&#x27;,\n",
       "                  transformers=[(&#x27;dummify&#x27;,\n",
       "                                 OneHotEncoder(handle_unknown=&#x27;ignore&#x27;,\n",
       "                                               sparse_output=False),\n",
       "                                 &lt;sklearn.compose._column_transformer.make_column_selector object at 0x000002A8675DDA60&gt;),\n",
       "                                (&#x27;standardize&#x27;, StandardScaler(),\n",
       "                                 &lt;sklearn.compose._column_transformer.make_column_selector object at 0x000002A8675DCD70&gt;)])</pre></div> </div></div><div class=\"sk-parallel\"><div class=\"sk-parallel-item\"><div class=\"sk-item\"><div class=\"sk-label-container\"><div class=\"sk-label fitted sk-toggleable\"><input class=\"sk-toggleable__control sk-hidden--visually\" id=\"sk-estimator-id-44\" type=\"checkbox\" ><label for=\"sk-estimator-id-44\" class=\"sk-toggleable__label fitted sk-toggleable__label-arrow fitted\">dummify</label><div class=\"sk-toggleable__content fitted\"><pre>&lt;sklearn.compose._column_transformer.make_column_selector object at 0x000002A8675DDA60&gt;</pre></div> </div></div><div class=\"sk-serial\"><div class=\"sk-item\"><div class=\"sk-estimator fitted sk-toggleable\"><input class=\"sk-toggleable__control sk-hidden--visually\" id=\"sk-estimator-id-45\" type=\"checkbox\" ><label for=\"sk-estimator-id-45\" class=\"sk-toggleable__label fitted sk-toggleable__label-arrow fitted\">&nbsp;OneHotEncoder<a class=\"sk-estimator-doc-link fitted\" rel=\"noreferrer\" target=\"_blank\" href=\"https://scikit-learn.org/1.5/modules/generated/sklearn.preprocessing.OneHotEncoder.html\">?<span>Documentation for OneHotEncoder</span></a></label><div class=\"sk-toggleable__content fitted\"><pre>OneHotEncoder(handle_unknown=&#x27;ignore&#x27;, sparse_output=False)</pre></div> </div></div></div></div></div><div class=\"sk-parallel-item\"><div class=\"sk-item\"><div class=\"sk-label-container\"><div class=\"sk-label fitted sk-toggleable\"><input class=\"sk-toggleable__control sk-hidden--visually\" id=\"sk-estimator-id-46\" type=\"checkbox\" ><label for=\"sk-estimator-id-46\" class=\"sk-toggleable__label fitted sk-toggleable__label-arrow fitted\">standardize</label><div class=\"sk-toggleable__content fitted\"><pre>&lt;sklearn.compose._column_transformer.make_column_selector object at 0x000002A8675DCD70&gt;</pre></div> </div></div><div class=\"sk-serial\"><div class=\"sk-item\"><div class=\"sk-estimator fitted sk-toggleable\"><input class=\"sk-toggleable__control sk-hidden--visually\" id=\"sk-estimator-id-47\" type=\"checkbox\" ><label for=\"sk-estimator-id-47\" class=\"sk-toggleable__label fitted sk-toggleable__label-arrow fitted\">&nbsp;StandardScaler<a class=\"sk-estimator-doc-link fitted\" rel=\"noreferrer\" target=\"_blank\" href=\"https://scikit-learn.org/1.5/modules/generated/sklearn.preprocessing.StandardScaler.html\">?<span>Documentation for StandardScaler</span></a></label><div class=\"sk-toggleable__content fitted\"><pre>StandardScaler()</pre></div> </div></div></div></div></div><div class=\"sk-parallel-item\"><div class=\"sk-item\"><div class=\"sk-label-container\"><div class=\"sk-label fitted sk-toggleable\"><input class=\"sk-toggleable__control sk-hidden--visually\" id=\"sk-estimator-id-48\" type=\"checkbox\" ><label for=\"sk-estimator-id-48\" class=\"sk-toggleable__label fitted sk-toggleable__label-arrow fitted\">remainder</label><div class=\"sk-toggleable__content fitted\"><pre>[]</pre></div> </div></div><div class=\"sk-serial\"><div class=\"sk-item\"><div class=\"sk-estimator fitted sk-toggleable\"><input class=\"sk-toggleable__control sk-hidden--visually\" id=\"sk-estimator-id-49\" type=\"checkbox\" ><label for=\"sk-estimator-id-49\" class=\"sk-toggleable__label fitted sk-toggleable__label-arrow fitted\">passthrough</label><div class=\"sk-toggleable__content fitted\"><pre>passthrough</pre></div> </div></div></div></div></div></div></div><div class=\"sk-item\"><div class=\"sk-estimator fitted sk-toggleable\"><input class=\"sk-toggleable__control sk-hidden--visually\" id=\"sk-estimator-id-50\" type=\"checkbox\" ><label for=\"sk-estimator-id-50\" class=\"sk-toggleable__label fitted sk-toggleable__label-arrow fitted\">&nbsp;DecisionTreeClassifier<a class=\"sk-estimator-doc-link fitted\" rel=\"noreferrer\" target=\"_blank\" href=\"https://scikit-learn.org/1.5/modules/generated/sklearn.tree.DecisionTreeClassifier.html\">?<span>Documentation for DecisionTreeClassifier</span></a></label><div class=\"sk-toggleable__content fitted\"><pre>DecisionTreeClassifier(criterion=&#x27;entropy&#x27;, max_depth=3)</pre></div> </div></div></div></div></div></div></div></div></div></div></div>"
      ],
      "text/plain": [
       "GridSearchCV(cv=StratifiedKFold(n_splits=5, random_state=None, shuffle=False),\n",
       "             estimator=Pipeline(steps=[('preprocessing',\n",
       "                                        ColumnTransformer(remainder='passthrough',\n",
       "                                                          transformers=[('dummify',\n",
       "                                                                         OneHotEncoder(handle_unknown='ignore',\n",
       "                                                                                       sparse_output=False),\n",
       "                                                                         <sklearn.compose._column_transformer.make_column_selector object at 0x000002A866EC4320>),\n",
       "                                                                        ('standardize',\n",
       "                                                                         StandardScaler(),\n",
       "                                                                         <sklearn.compose._column_transformer.make_column_selector object at 0x000002A8624312E0>)])),\n",
       "                                       ('dt', DecisionTreeClassifier())]),\n",
       "             n_jobs=-1,\n",
       "             param_grid={'dt__criterion': ['gini', 'entropy'],\n",
       "                         'dt__max_depth': [3, 7, 10, None],\n",
       "                         'dt__min_samples_leaf': [1, 2, 4],\n",
       "                         'dt__min_samples_split': [2, 5, 10]},\n",
       "             scoring='f1_weighted')"
      ]
     },
     "execution_count": 112,
     "metadata": {},
     "output_type": "execute_result"
    }
   ],
   "source": [
    "param_grid = {\n",
    "    \"dt__max_depth\": [3, 7, 10, None],  # Vary max depth of the tree\n",
    "    \"dt__min_samples_split\": [2, 5, 10],  # Vary minimum samples to split\n",
    "    \"dt__min_samples_leaf\": [1, 2, 4],    # Vary minimum samples per leaf\n",
    "    \"dt__criterion\": [\"gini\", \"entropy\"]  # Vary the splitting criterion\n",
    "}\n",
    "\n",
    "# Define the pipeline with DecisionTreeClassifier\n",
    "dt_pipeline = Pipeline(\n",
    "    [(\"preprocessing\", ct),\n",
    "     (\"dt\", DecisionTreeClassifier())]\n",
    ")\n",
    "\n",
    "# Set up GridSearchCV for cross-validation and hyperparameter search\n",
    "grid_search = GridSearchCV(dt_pipeline, param_grid, cv=StratifiedKFold(n_splits=5), scoring='f1_weighted', n_jobs=-1)\n",
    "\n",
    "# Fit the GridSearchCV with your data\n",
    "grid_search.fit(X, y)\n"
   ]
  },
  {
   "cell_type": "code",
   "execution_count": 113,
   "metadata": {},
   "outputs": [
    {
     "data": {
      "image/png": "[encoded data removed]",
      "text/plain": [
       "<Figure size 2000x1000 with 1 Axes>"
      ]
     },
     "metadata": {},
     "output_type": "display_data"
    }
   ],
   "source": [
    "best_tree = grid_search.best_estimator_.named_steps['dt']\n",
    "class_names = y.unique()\n",
    "\n",
    "plt.figure(figsize=(20,10))\n",
    "plot_tree(best_tree, filled=True, feature_names=X.columns, class_names=class_names)\n",
    "plt.show()"
   ]
  },
  {
   "cell_type": "markdown",
   "metadata": {},
   "source": [
    "It seems like there could be some bias since there are so many more hybrid strains than pure strains but it seems that sleepy is the biggest factor of whether it will be a hybrid/indica or a hybrid/sativa."
   ]
  },
  {
   "cell_type": "markdown",
   "metadata": {},
   "source": [
    "## Q2: LDA, QDA, KNN"
   ]
  },
  {
   "cell_type": "markdown",
   "metadata": {},
   "source": [
    "### LDA "
   ]
  },
  {
   "cell_type": "markdown",
   "metadata": {},
   "source": [
    "I switched to an weighted f1_score since the ROC-AUC was giving me a nan and is mainly used for binary classification and we are not able to use OVR or OVO in this section. "
   ]
  },
  {
   "cell_type": "code",
   "execution_count": 114,
   "metadata": {},
   "outputs": [
    {
     "name": "stdout",
     "output_type": "stream",
     "text": [
      "Best Parameters: {'lda__n_components': 1, 'lda__priors': None, 'lda__shrinkage': 'auto', 'lda__solver': 'eigen', 'lda__tol': 0.0001}\n",
      "Best Cross-validated Metric: 0.6173\n",
      "Classification Report:\n",
      "              precision    recall  f1-score   support\n",
      "\n",
      "      hybrid       0.66      0.66      0.66      1123\n",
      "      indica       0.66      0.69      0.68       659\n",
      "      sativa       0.53      0.51      0.52       409\n",
      "\n",
      "    accuracy                           0.64      2191\n",
      "   macro avg       0.62      0.62      0.62      2191\n",
      "weighted avg       0.64      0.64      0.64      2191\n",
      "\n",
      "Confusion Matrix:\n",
      "[[739 211 173]\n",
      " [191 453  15]\n",
      " [182  19 208]]\n"
     ]
    },
    {
     "name": "stderr",
     "output_type": "stream",
     "text": [
      "c:\\Users\\hblin\\AppData\\Local\\Programs\\Python\\Python312\\Lib\\site-packages\\sklearn\\model_selection\\_search.py:1103: UserWarning: One or more of the test scores are non-finite: [0.61726593 0.61726593 0.61726593 0.61726593        nan        nan]\n"
     ]
    }
   ],
   "source": [
    "# unused solvers: \"svd\", \"lsqr\", \n",
    "param_grid = {\n",
    "    \"lda__solver\": [\"eigen\"],  # Different solvers for LDA\n",
    "    \"lda__priors\": [None],  # Uniform priors or None (learned from the data)\n",
    "    \"lda__n_components\": [1, 2, 3],  # Different number of components (for dimensionality reduction)\n",
    "    \"lda__shrinkage\": [\"auto\"],  # Only applicable if solver=\"lsqr\"\n",
    "    \"lda__tol\": [1e-4, 1e-3]  # Different tolerance levels\n",
    "}\n",
    "\n",
    "# Define the pipeline for LDA \n",
    "lda_pipeline = Pipeline(\n",
    "    [(\"preprocessing\", ct),\n",
    "     (\"lda\", LinearDiscriminantAnalysis())]  # Default classifier\n",
    ")\n",
    "\n",
    "# Fit the GridSearchCV\n",
    "grid_search = GridSearchCV(\n",
    "    lda_pipeline,\n",
    "    param_grid,\n",
    "    cv=StratifiedKFold(n_splits=5),  # Ensures proper class distribution\n",
    "    scoring=\"f1_weighted\",\n",
    "    n_jobs=-1\n",
    ")\n",
    "\n",
    "evaluate_grid_search(grid_search, X, y)\n"
   ]
  },
  {
   "cell_type": "markdown",
   "metadata": {},
   "source": [
    "### QDA"
   ]
  },
  {
   "cell_type": "code",
   "execution_count": 115,
   "metadata": {},
   "outputs": [
    {
     "name": "stderr",
     "output_type": "stream",
     "text": [
      "c:\\Users\\hblin\\AppData\\Local\\Programs\\Python\\Python312\\Lib\\site-packages\\sklearn\\model_selection\\_search.py:1103: UserWarning: One or more of the test scores are non-finite: [0.19816971 0.19816971 0.40120018 0.40120018 0.48867278 0.48867278\n",
      "        nan        nan        nan        nan        nan        nan]\n",
      "c:\\Users\\hblin\\AppData\\Local\\Programs\\Python\\Python312\\Lib\\site-packages\\sklearn\\discriminant_analysis.py:947: UserWarning: Variables are collinear\n"
     ]
    },
    {
     "name": "stdout",
     "output_type": "stream",
     "text": [
      "Best Parameters: {'qda__priors': None, 'qda__reg_param': 0.5, 'qda__tol': 0.0001}\n",
      "Best Cross-validated Metric: 0.4887\n",
      "Classification Report:\n",
      "              precision    recall  f1-score   support\n",
      "\n",
      "      hybrid       0.76      0.47      0.58      1123\n",
      "      indica       0.62      0.77      0.69       659\n",
      "      sativa       0.45      0.74      0.56       409\n",
      "\n",
      "    accuracy                           0.61      2191\n",
      "   macro avg       0.61      0.66      0.61      2191\n",
      "weighted avg       0.66      0.61      0.61      2191\n",
      "\n",
      "Confusion Matrix:\n",
      "[[530 287 306]\n",
      " [ 87 509  63]\n",
      " [ 77  28 304]]\n"
     ]
    }
   ],
   "source": [
    "param_grid = {\n",
    "    'qda__priors': [None, .5],  # Priors for class probabilities\n",
    "    'qda__reg_param': [0.0, 0.1, 0.5],  # Regularization parameter (optional)\n",
    "    'qda__tol': [1e-4, 1e-3]  # Tolerance for eigenvalue decomposition (optional)\n",
    "}\n",
    "\n",
    "# Define the pipeline for QDA \n",
    "qda_pipeline = Pipeline(\n",
    "    [(\"preprocessing\", ct),\n",
    "     (\"qda\", QuadraticDiscriminantAnalysis())]  # Default classifier\n",
    ")\n",
    "\n",
    "# Fit the GridSearchCV\n",
    "grid_search = GridSearchCV(\n",
    "    qda_pipeline,\n",
    "    param_grid,\n",
    "    cv=StratifiedKFold(n_splits=5),  # Ensures proper class distribution\n",
    "    scoring=\"f1_weighted\",\n",
    "    n_jobs=-1\n",
    ")\n",
    "\n",
    "evaluate_grid_search(grid_search, X, y)"
   ]
  },
  {
   "cell_type": "markdown",
   "metadata": {},
   "source": [
    "### KNN"
   ]
  },
  {
   "cell_type": "code",
   "execution_count": 119,
   "metadata": {},
   "outputs": [
    {
     "name": "stdout",
     "output_type": "stream",
     "text": [
      "Best Parameters: {'knn__n_neighbors': 20, 'knn__p': 1, 'knn__weights': 'distance'}\n",
      "Best Cross-validated Metric: 0.5696\n",
      "Classification Report:\n",
      "              precision    recall  f1-score   support\n",
      "\n",
      "      hybrid       0.98      1.00      0.99      1123\n",
      "      indica       0.99      0.98      0.99       659\n",
      "      sativa       1.00      0.98      0.99       409\n",
      "\n",
      "    accuracy                           0.99      2191\n",
      "   macro avg       0.99      0.99      0.99      2191\n",
      "weighted avg       0.99      0.99      0.99      2191\n",
      "\n",
      "Confusion Matrix:\n",
      "[[1120    2    1]\n",
      " [  12  647    0]\n",
      " [   7    2  400]]\n"
     ]
    }
   ],
   "source": [
    "param_grid = {\n",
    "    \"knn__n_neighbors\": list(range(5, 100, 5)),  # From 5 to 100 in steps of 5\n",
    "    \"knn__weights\": [\"uniform\", \"distance\"],  # Different weighting schemes\n",
    "    \"knn__p\": [1, 2]  # 1 for Manhattan, 2 for Euclidean distance\n",
    "}\n",
    "\n",
    "knn_pipeline = Pipeline(\n",
    "    [(\"preprocessing\", ct),\n",
    "     (\"knn\", KNeighborsClassifier())]  # Default classifier\n",
    ")\n",
    "\n",
    "# Fit the GridSearchCV\n",
    "grid_search = GridSearchCV(\n",
    "    knn_pipeline,\n",
    "    param_grid,\n",
    "    cv=StratifiedKFold(n_splits=5),  # Ensures proper class distribution\n",
    "    scoring=\"f1_weighted\",\n",
    "    n_jobs=-1\n",
    ")\n",
    "grid_search.fit(X, y)\n",
    "\n",
    "evaluate_grid_search(grid_search, X, y)"
   ]
  },
  {
   "cell_type": "markdown",
   "metadata": {},
   "source": [
    "## Q3:\n",
    "\n",
    "Were your metrics better or worse than in Part One? Why? Which categories were most likely to get mixed up, according to the confusion matrices? Why?"
   ]
  },
  {
   "cell_type": "markdown",
   "metadata": {},
   "source": [
    "The metrics were generally worse than in part 1 with the exception of KNN. With the amount of hybrids, this seemed to skew results, and ended up with them being wrongly predicted. This is most likely because as hybrids, they blend the two strains and are not as easily predicted. The KNN model predicted them very well though. This makes sense overall as with more classes, you are more likely to have more error. "
   ]
  },
  {
   "cell_type": "markdown",
   "metadata": {},
   "source": [
    "# Part 3: Multiclass from Binary\n",
    "\n",
    "SVC and Logistic Regression"
   ]
  },
  {
   "cell_type": "markdown",
   "metadata": {},
   "source": [
    "## Q1\n",
    "\n",
    "Fit and report metrics for OvR versions of the models. That is, for each of the two model types, create three models:\n",
    "\n",
    "Indica vs. Not Indica\n",
    "\n",
    "Sativa vs. Not Sativa\n",
    "\n",
    "Hybrid vs. Not Hybrid"
   ]
  },
  {
   "cell_type": "code",
   "execution_count": 120,
   "metadata": {},
   "outputs": [],
   "source": [
    "cbd['indica'] = (cbd['Type'] == \"indica\").astype(int)\n",
    "cbd['sativa'] = (cbd['Type'] == \"sativa\").astype(int)\n",
    "cbd['hybrid'] = (cbd['Type'] == \"hybrid\").astype(int)"
   ]
  },
  {
   "cell_type": "code",
   "execution_count": 121,
   "metadata": {},
   "outputs": [],
   "source": [
    "X_ovr = cbd.drop([\"Strain\", \"Type\", \"Effects\", \"Flavor\", \"indica\",\"sativa\",\"hybrid\"], axis = 1)\n",
    "\n",
    "y_ovr_i = cbd['indica']\n",
    "\n",
    "y_ovr_s = cbd['sativa']\n",
    "\n",
    "y_ovr_h = cbd['hybrid']"
   ]
  },
  {
   "cell_type": "markdown",
   "metadata": {},
   "source": [
    "### SVC"
   ]
  },
  {
   "cell_type": "code",
   "execution_count": 122,
   "metadata": {},
   "outputs": [
    {
     "name": "stdout",
     "output_type": "stream",
     "text": [
      "Indica classification: \n"
     ]
    },
    {
     "name": "stderr",
     "output_type": "stream",
     "text": [
      "c:\\Users\\hblin\\AppData\\Local\\Programs\\Python\\Python312\\Lib\\site-packages\\sklearn\\svm\\_base.py:297: ConvergenceWarning: Solver terminated early (max_iter=5000).  Consider pre-processing your data with StandardScaler or MinMaxScaler.\n"
     ]
    },
    {
     "name": "stdout",
     "output_type": "stream",
     "text": [
      "Best Parameters: {'svc__C': 10, 'svc__class_weight': 'balanced', 'svc__kernel': 'poly', 'svc__max_iter': 5000, 'svc__shrinking': True, 'svc__tol': 0.0001}\n",
      "Best Cross-validated Metric: 0.7533\n",
      "Classification Report:\n",
      "              precision    recall  f1-score   support\n",
      "\n",
      "           0       0.98      0.92      0.95      1532\n",
      "           1       0.84      0.97      0.90       659\n",
      "\n",
      "    accuracy                           0.93      2191\n",
      "   macro avg       0.91      0.94      0.92      2191\n",
      "weighted avg       0.94      0.93      0.94      2191\n",
      "\n",
      "Confusion Matrix:\n",
      "[[1410  122]\n",
      " [  23  636]]\n",
      "Sativa classification: \n"
     ]
    },
    {
     "name": "stderr",
     "output_type": "stream",
     "text": [
      "c:\\Users\\hblin\\AppData\\Local\\Programs\\Python\\Python312\\Lib\\site-packages\\numpy\\ma\\core.py:2881: RuntimeWarning: invalid value encountered in cast\n"
     ]
    },
    {
     "name": "stdout",
     "output_type": "stream",
     "text": [
      "Best Parameters: {'svc__C': 1, 'svc__class_weight': 'balanced', 'svc__kernel': 'poly', 'svc__max_iter': 5000, 'svc__shrinking': True, 'svc__tol': 0.0001}\n",
      "Best Cross-validated Metric: 0.8048\n",
      "Classification Report:\n",
      "              precision    recall  f1-score   support\n",
      "\n",
      "           0       0.95      0.93      0.94      1782\n",
      "           1       0.73      0.78      0.75       409\n",
      "\n",
      "    accuracy                           0.90      2191\n",
      "   macro avg       0.84      0.86      0.85      2191\n",
      "weighted avg       0.91      0.90      0.91      2191\n",
      "\n",
      "Confusion Matrix:\n",
      "[[1664  118]\n",
      " [  91  318]]\n",
      "Hybrid classification: \n",
      "Best Parameters: {'svc__C': 10, 'svc__class_weight': None, 'svc__kernel': 'poly', 'svc__max_iter': 5000, 'svc__shrinking': True, 'svc__tol': 0.0001}\n",
      "Best Cross-validated Metric: 0.5908\n",
      "Classification Report:\n",
      "              precision    recall  f1-score   support\n",
      "\n",
      "           0       0.91      0.88      0.90      1068\n",
      "           1       0.89      0.92      0.90      1123\n",
      "\n",
      "    accuracy                           0.90      2191\n",
      "   macro avg       0.90      0.90      0.90      2191\n",
      "weighted avg       0.90      0.90      0.90      2191\n",
      "\n",
      "Confusion Matrix:\n",
      "[[ 938  130]\n",
      " [  88 1035]]\n"
     ]
    },
    {
     "name": "stderr",
     "output_type": "stream",
     "text": [
      "c:\\Users\\hblin\\AppData\\Local\\Programs\\Python\\Python312\\Lib\\site-packages\\sklearn\\svm\\_base.py:297: ConvergenceWarning: Solver terminated early (max_iter=5000).  Consider pre-processing your data with StandardScaler or MinMaxScaler.\n"
     ]
    }
   ],
   "source": [
    "param_grid = {\n",
    "    \"svc__C\": [0.1, 1, 10, 100, 1000],\n",
    "    \"svc__kernel\": ['poly'],\n",
    "    \"svc__class_weight\": [None, 'balanced'],\n",
    "    \"svc__shrinking\": [True, False],\n",
    "    \"svc__tol\": [1e-4, 1e-5, 1e-6],\n",
    "    \"svc__max_iter\": [1000, 5000, -1]\n",
    "}\n",
    "\n",
    "svc_pipeline = Pipeline([\n",
    "    (\"preprocessing\", ct),\n",
    "    (\"svc\", SVC(probability=True))  # Use probability=True for probability outputs\n",
    "])\n",
    "\n",
    "# Define the parameter grid for C (regularization parameter)\n",
    "\n",
    "grid_search = GridSearchCV(\n",
    "    svc_pipeline,\n",
    "    param_grid,\n",
    "    cv=StratifiedKFold(n_splits=5),  # Ensures proper class distribution\n",
    "    scoring=\"f1_weighted\",\n",
    "    n_jobs=-1\n",
    ")\n",
    "\n",
    "print(\"Indica classification: \")\n",
    "evaluate_grid_search(grid_search, X_ovr, y_ovr_i)\n",
    "\n",
    "print(\"Sativa classification: \")\n",
    "evaluate_grid_search(grid_search, X_ovr, y_ovr_s)\n",
    "\n",
    "print(\"Hybrid classification: \")\n",
    "evaluate_grid_search(grid_search, X_ovr, y_ovr_h)"
   ]
  },
  {
   "cell_type": "markdown",
   "metadata": {},
   "source": [
    "### Logistic"
   ]
  },
  {
   "cell_type": "code",
   "execution_count": 124,
   "metadata": {},
   "outputs": [
    {
     "name": "stdout",
     "output_type": "stream",
     "text": [
      "Indica classification: \n",
      "Best Parameters: {'lgr__C': 0.1, 'lgr__penalty': 'l2', 'lgr__solver': 'liblinear'}\n",
      "Best Cross-validated Metric: 0.7893\n",
      "Classification Report:\n",
      "              precision    recall  f1-score   support\n",
      "\n",
      "           0       0.85      0.88      0.87      1532\n",
      "           1       0.70      0.65      0.68       659\n",
      "\n",
      "    accuracy                           0.81      2191\n",
      "   macro avg       0.78      0.77      0.77      2191\n",
      "weighted avg       0.81      0.81      0.81      2191\n",
      "\n",
      "Confusion Matrix:\n",
      "[[1349  183]\n",
      " [ 230  429]]\n",
      "Sativa classification: \n",
      "Best Parameters: {'lgr__C': 0.001, 'lgr__penalty': 'l2', 'lgr__solver': 'liblinear'}\n",
      "Best Cross-validated Metric: 0.8128\n",
      "Classification Report:\n",
      "              precision    recall  f1-score   support\n",
      "\n",
      "           0       0.89      0.90      0.89      1782\n",
      "           1       0.53      0.50      0.52       409\n",
      "\n",
      "    accuracy                           0.82      2191\n",
      "   macro avg       0.71      0.70      0.70      2191\n",
      "weighted avg       0.82      0.82      0.82      2191\n",
      "\n",
      "Confusion Matrix:\n",
      "[[1603  179]\n",
      " [ 205  204]]\n",
      "Hybrid classification: \n",
      "Best Parameters: {'lgr__C': 10, 'lgr__penalty': 'l2', 'lgr__solver': 'liblinear'}\n",
      "Best Cross-validated Metric: 0.6151\n",
      "Classification Report:\n",
      "              precision    recall  f1-score   support\n",
      "\n",
      "           0       0.66      0.60      0.63      1068\n",
      "           1       0.65      0.70      0.67      1123\n",
      "\n",
      "    accuracy                           0.65      2191\n",
      "   macro avg       0.65      0.65      0.65      2191\n",
      "weighted avg       0.65      0.65      0.65      2191\n",
      "\n",
      "Confusion Matrix:\n",
      "[[645 423]\n",
      " [337 786]]\n"
     ]
    }
   ],
   "source": [
    "param_grid = {\n",
    "    \"lgr__C\": [0.001, 0.1, 1, 10, 100],  # Regularization strength\n",
    "    \"lgr__penalty\": [\"l2\"],  # L2 penalty (regularization term)\n",
    "    \"lgr__solver\": [\"lbfgs\", \"liblinear\"],  # Different solvers\n",
    "}\n",
    "\n",
    "lgr_pipeline = Pipeline(\n",
    "    [(\"preprocessing\", ct),\n",
    "     (\"lgr\", LogisticRegression())]  # Default classifier\n",
    ")\n",
    "\n",
    "grid_search = GridSearchCV(\n",
    "    lgr_pipeline,\n",
    "    param_grid,\n",
    "    cv=StratifiedKFold(n_splits=5),  # Ensures proper class distribution\n",
    "    scoring=\"f1_weighted\",\n",
    "    n_jobs=-1\n",
    ")\n",
    "\n",
    "print(\"Indica classification: \")\n",
    "evaluate_grid_search(grid_search, X_ovr, y_ovr_i)\n",
    "\n",
    "print(\"Sativa classification: \")\n",
    "evaluate_grid_search(grid_search, X_ovr, y_ovr_s)\n",
    "\n",
    "print(\"Hybrid classification: \")\n",
    "evaluate_grid_search(grid_search, X_ovr, y_ovr_h)"
   ]
  },
  {
   "cell_type": "markdown",
   "metadata": {},
   "source": [
    "## Q2"
   ]
  },
  {
   "cell_type": "markdown",
   "metadata": {},
   "source": [
    "Based on the OVR weighted f1 results, the best model was the Logistic Sativa Classification, and the worst was the SVC Hybrid Classification. This does make sense since previous models were having difficulty distinguishing hybrids before. It could be because there are so many more hybrids in the dataset as well. "
   ]
  },
  {
   "cell_type": "markdown",
   "metadata": {},
   "source": [
    "## Q3\n",
    "\n",
    "Fit and report metrics for OvO versions of the models. That is, for each of the two model types, create three models:\n",
    "\n",
    "Indica vs. Sativa\n",
    "\n",
    "Indica vs. Hybrid\n",
    "\n",
    "Hybrid vs. Sativa"
   ]
  },
  {
   "cell_type": "code",
   "execution_count": 125,
   "metadata": {},
   "outputs": [],
   "source": [
    "X_ovo = cbd.drop([\"indica\",\"sativa\",\"hybrid\"], axis = 1)\n",
    "\n",
    "\n",
    "indsat = cbd[cbd['Type'].isin([\"indica\", \"sativa\"])]\n",
    "X_indsat = indsat.drop([\"Strain\", \"Type\", \"Effects\", \"Flavor\",\"indica\",\"sativa\",\"hybrid\"], axis = 1)\n",
    "y_indsat = indsat[\"Type\"]\n",
    "\n",
    "indhyb = cbd[cbd['Type'].isin([\"indica\", \"hybrid\"])]\n",
    "X_indhyb = indhyb.drop([\"Strain\", \"Type\", \"Effects\", \"Flavor\", \"indica\",\"sativa\",\"hybrid\"], axis = 1)\n",
    "y_indhyb = indhyb[\"Type\"]\n",
    "\n",
    "hybsat = cbd[cbd['Type'].isin([\"hybrid\", \"sativa\"])]\n",
    "X_hybsat = hybsat.drop([\"Strain\", \"Type\", \"Effects\", \"Flavor\", \"indica\",\"sativa\",\"hybrid\"], axis = 1)\n",
    "y_hybsat = hybsat[\"Type\"]\n",
    "\n"
   ]
  },
  {
   "cell_type": "markdown",
   "metadata": {},
   "source": [
    "### SVC "
   ]
  },
  {
   "cell_type": "code",
   "execution_count": 126,
   "metadata": {},
   "outputs": [
    {
     "name": "stdout",
     "output_type": "stream",
     "text": [
      "Indica vs. Sativa: \n",
      "Best Parameters: {'svc__C': 10, 'svc__class_weight': 'balanced', 'svc__kernel': 'poly', 'svc__max_iter': 5000, 'svc__shrinking': True, 'svc__tol': 0.0001}\n",
      "Best Cross-validated Metric: 0.8490\n",
      "Classification Report:\n",
      "              precision    recall  f1-score   support\n",
      "\n",
      "      indica       0.98      0.99      0.99       659\n",
      "      sativa       0.99      0.97      0.98       409\n",
      "\n",
      "    accuracy                           0.98      1068\n",
      "   macro avg       0.98      0.98      0.98      1068\n",
      "weighted avg       0.98      0.98      0.98      1068\n",
      "\n",
      "Confusion Matrix:\n",
      "[[653   6]\n",
      " [ 13 396]]\n",
      "Indica vs. Hybrid: \n"
     ]
    },
    {
     "name": "stderr",
     "output_type": "stream",
     "text": [
      "c:\\Users\\hblin\\AppData\\Local\\Programs\\Python\\Python312\\Lib\\site-packages\\sklearn\\svm\\_base.py:297: ConvergenceWarning: Solver terminated early (max_iter=1000).  Consider pre-processing your data with StandardScaler or MinMaxScaler.\n"
     ]
    },
    {
     "name": "stdout",
     "output_type": "stream",
     "text": [
      "Best Parameters: {'svc__C': 10, 'svc__class_weight': None, 'svc__kernel': 'poly', 'svc__max_iter': 1000, 'svc__shrinking': True, 'svc__tol': 0.0001}\n",
      "Best Cross-validated Metric: 0.7119\n",
      "Classification Report:\n",
      "              precision    recall  f1-score   support\n",
      "\n",
      "      hybrid       0.95      0.94      0.95      1123\n",
      "      indica       0.91      0.91      0.91       659\n",
      "\n",
      "    accuracy                           0.93      1782\n",
      "   macro avg       0.93      0.93      0.93      1782\n",
      "weighted avg       0.93      0.93      0.93      1782\n",
      "\n",
      "Confusion Matrix:\n",
      "[[1061   62]\n",
      " [  61  598]]\n",
      "Hybrid vs. Sativa: \n",
      "Best Parameters: {'svc__C': 1, 'svc__class_weight': 'balanced', 'svc__kernel': 'poly', 'svc__max_iter': 1000, 'svc__shrinking': True, 'svc__tol': 0.0001}\n",
      "Best Cross-validated Metric: 0.7261\n",
      "Classification Report:\n",
      "              precision    recall  f1-score   support\n",
      "\n",
      "      hybrid       0.91      0.24      0.38      1123\n",
      "      sativa       0.31      0.94      0.47       409\n",
      "\n",
      "    accuracy                           0.42      1532\n",
      "   macro avg       0.61      0.59      0.42      1532\n",
      "weighted avg       0.75      0.42      0.40      1532\n",
      "\n",
      "Confusion Matrix:\n",
      "[[267 856]\n",
      " [ 25 384]]\n"
     ]
    },
    {
     "name": "stderr",
     "output_type": "stream",
     "text": [
      "c:\\Users\\hblin\\AppData\\Local\\Programs\\Python\\Python312\\Lib\\site-packages\\sklearn\\svm\\_base.py:297: ConvergenceWarning: Solver terminated early (max_iter=1000).  Consider pre-processing your data with StandardScaler or MinMaxScaler.\n"
     ]
    }
   ],
   "source": [
    "param_grid = {\n",
    "    \"svc__C\": [0.1, 1, 10, 100, 1000],\n",
    "    \"svc__kernel\": ['poly'],\n",
    "    \"svc__class_weight\": [None, 'balanced'],\n",
    "    \"svc__shrinking\": [True, False],\n",
    "    \"svc__tol\": [1e-4, 1e-5, 1e-6],\n",
    "    \"svc__max_iter\": [1000, 5000, -1]\n",
    "}\n",
    "\n",
    "svc_pipeline = Pipeline([\n",
    "    (\"preprocessing\", ct),\n",
    "    (\"svc\", SVC(probability=True))  # Use probability=True for probability outputs\n",
    "])\n",
    "\n",
    "# Define the parameter grid for C (regularization parameter)\n",
    "\n",
    "grid_search = GridSearchCV(\n",
    "    svc_pipeline,\n",
    "    param_grid,\n",
    "    cv=StratifiedKFold(n_splits=5),  # Ensures proper class distribution\n",
    "    scoring=\"f1_weighted\",\n",
    "    n_jobs=-1\n",
    ")\n",
    "\n",
    "print(\"Indica vs. Sativa: \")\n",
    "evaluate_grid_search(grid_search, X_indsat, y_indsat)\n",
    "\n",
    "print(\"Indica vs. Hybrid: \")\n",
    "evaluate_grid_search(grid_search, X_indhyb, y_indhyb)\n",
    "\n",
    "print(\"Hybrid vs. Sativa: \")\n",
    "evaluate_grid_search(grid_search, X_hybsat, y_hybsat)"
   ]
  },
  {
   "cell_type": "markdown",
   "metadata": {},
   "source": [
    "### Logistic"
   ]
  },
  {
   "cell_type": "code",
   "execution_count": null,
   "metadata": {},
   "outputs": [
    {
     "name": "stdout",
     "output_type": "stream",
     "text": [
      "Indica vs. Sativa: \n",
      "Best Parameters: {'lgr__C': 0.001, 'lgr__penalty': 'l2', 'lgr__solver': 'liblinear'}\n",
      "Best Cross-validated Metric: 0.9385\n",
      "Classification Report:\n",
      "              precision    recall  f1-score   support\n",
      "\n",
      "      indica       0.92      0.89      0.90       659\n",
      "      sativa       0.83      0.87      0.85       409\n",
      "\n",
      "    accuracy                           0.88      1068\n",
      "   macro avg       0.87      0.88      0.88      1068\n",
      "weighted avg       0.88      0.88      0.88      1068\n",
      "\n",
      "Confusion Matrix:\n",
      "[[585  74]\n",
      " [ 53 356]]\n",
      "Indica vs. Hybrid: \n",
      "Best Parameters: {'lgr__C': 0.001, 'lgr__penalty': 'l2', 'lgr__solver': 'lbfgs'}\n",
      "Best Cross-validated Metric: 0.8040\n",
      "Classification Report:\n",
      "              precision    recall  f1-score   support\n",
      "\n",
      "      hybrid       0.71      0.93      0.81      1123\n",
      "      indica       0.75      0.36      0.49       659\n",
      "\n",
      "    accuracy                           0.72      1782\n",
      "   macro avg       0.73      0.65      0.65      1782\n",
      "weighted avg       0.73      0.72      0.69      1782\n",
      "\n",
      "Confusion Matrix:\n",
      "[[1044   79]\n",
      " [ 419  240]]\n",
      "Hybrid vs. Sativa: \n",
      "Best Parameters: {'lgr__C': 0.001, 'lgr__penalty': 'l2', 'lgr__solver': 'lbfgs'}\n",
      "Best Cross-validated Metric: 0.7517\n",
      "Classification Report:\n",
      "              precision    recall  f1-score   support\n",
      "\n",
      "      hybrid       0.73      1.00      0.85      1123\n",
      "      sativa       1.00      0.01      0.01       409\n",
      "\n",
      "    accuracy                           0.73      1532\n",
      "   macro avg       0.87      0.50      0.43      1532\n",
      "weighted avg       0.81      0.73      0.62      1532\n",
      "\n",
      "Confusion Matrix:\n",
      "[[1123    0]\n",
      " [ 406    3]]\n"
     ]
    }
   ],
   "source": [
    "param_grid = {\n",
    "    \"lgr__C\": [0.001, 0.1, 1, 10, 100],  # Regularization strength\n",
    "    \"lgr__penalty\": [\"l2\"],  # L2 penalty (regularization term)\n",
    "    \"lgr__solver\": [\"lbfgs\", \"liblinear\"],  # Different solvers\n",
    "}\n",
    "\n",
    "lgr_pipeline = Pipeline(\n",
    "    [(\"preprocessing\", ct),\n",
    "     (\"lgr\", LogisticRegression())]  # Default classifier\n",
    ")\n",
    "\n",
    "grid_search = GridSearchCV(\n",
    "    lgr_pipeline,\n",
    "    param_grid,\n",
    "    cv=StratifiedKFold(n_splits=5),  # Ensures proper class distribution\n",
    "    scoring=\"f1_weighted\",\n",
    "    n_jobs=-1\n",
    ")\n",
    "\n",
    "print(\"Indica vs. Sativa: \")\n",
    "evaluate_grid_search(grid_search, X_indsat, y_indsat)\n",
    "\n",
    "print(\"Indica vs. Hybrid: \")\n",
    "evaluate_grid_search(grid_search, X_indhyb, y_indhyb)\n",
    "\n",
    "print(\"Hybrid vs. Sativa: \")\n",
    "evaluate_grid_search(grid_search, X_hybsat, y_hybsat)"
   ]
  },
  {
   "cell_type": "markdown",
   "metadata": {},
   "source": [
    "## Q4\n",
    "\n",
    "\n",
    "Which of the six models did the best job distinguishing at differentiating the two groups? Which did the worst? Does this make intuitive sense?"
   ]
  },
  {
   "cell_type": "markdown",
   "metadata": {},
   "source": [
    "The best model was the Logistic Indica vs Sativa model in terms of the ovo weighted f1. The worst model was the hybrid vs indica SVC. Hybrids seem to still be difficult to identify even with a weighted f1. The hybrids may also hold a lot of similar characteristics to one strain or the other. "
   ]
  },
  {
   "cell_type": "markdown",
   "metadata": {},
   "source": [
    "## Q5\n",
    "\n",
    "\n",
    "Suppose you had simply input the full data, with three classes, into the LogisticRegression function. Would this have automatically taken an “OvO” approach or an “OvR” approach?\n",
    "\n",
    "What about for SVC?"
   ]
  },
  {
   "cell_type": "markdown",
   "metadata": {},
   "source": [
    "They both take on the OVR method as a default. \n",
    "\n",
    "LogisticRegression:\n",
    "\n",
    "Logistic Regression (aka logit, MaxEnt) classifier.\n",
    "\n",
    "In the multiclass case, the training algorithm uses the one-vs-rest (OvR) scheme if the ‘multi_class’ option is set to ‘ovr’, and uses the cross-entropy loss if the ‘multi_class’ option is set to ‘multinomial’. (Currently the ‘multinomial’ option is supported only by the ‘lbfgs’, ‘sag’, ‘saga’ and ‘newton-cg’ solvers.)\n",
    "\n",
    "\n",
    "SVC:\n",
    "\n",
    "decision_function_shape{‘ovo’, ‘ovr’}, default=’ovr’\n",
    "Whether to return a one-vs-rest (‘ovr’) decision function of shape (n_samples, n_classes) as all other classifiers, or the original one-vs-one (‘ovo’) decision function of libsvm which has shape (n_samples, n_classes * (n_classes - 1) / 2). However, note that internally, one-vs-one (‘ovo’) is always used as a multi-class strategy to train models; an ovr matrix is only constructed from the ovo matrix. The parameter is ignored for binary classification."
   ]
  }
 ],
 "metadata": {
  "kernelspec": {
   "display_name": "Python 3",
   "language": "python",
   "name": "python3"
  },
  "language_info": {
   "codemirror_mode": {
    "name": "ipython",
    "version": 3
   },
   "file_extension": ".py",
   "mimetype": "text/x-python",
   "name": "python",
   "nbconvert_exporter": "python",
   "pygments_lexer": "ipython3",
   "version": "3.12.5"
  }
 },
 "nbformat": 4,
 "nbformat_minor": 2
}
