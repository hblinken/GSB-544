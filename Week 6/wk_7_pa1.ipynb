{
 "cells": [
  {
   "cell_type": "markdown",
   "metadata": {},
   "source": [
    "# Week 7 Notes"
   ]
  },
  {
   "cell_type": "code",
   "execution_count": 35,
   "metadata": {},
   "outputs": [],
   "source": [
    "import pandas as pd\n",
    "import numpy as np\n",
    "import plotnine as plt\n",
    "from plotnine import *\n",
    "from sklearn.compose import ColumnTransformer\n",
    "from sklearn.impute import SimpleImputer\n",
    "from sklearn.preprocessing import StandardScaler, OneHotEncoder\n",
    "from sklearn.linear_model import LinearRegression\n",
    "from sklearn.preprocessing import PolynomialFeatures\n",
    "from sklearn.model_selection import train_test_split\n",
    "from sklearn.pipeline import Pipeline\n",
    "from sklearn.metrics import mean_squared_error, r2_score\n",
    "import warnings\n",
    "from sklearn.model_selection import cross_val_score\n",
    "\n",
    "warnings.simplefilter(action='ignore', category=FutureWarning)"
   ]
  },
  {
   "cell_type": "code",
   "execution_count": 28,
   "metadata": {},
   "outputs": [],
   "source": [
    "ames = pd.read_csv(\"C:/Users/hblin/Downloads/AmesHousing.csv\")\n",
    "X = ames.drop(\"SalePrice\", axis=1)\n",
    "y = ames[\"SalePrice\"]\n",
    "\n",
    "\n",
    "X_train, X_test, y_train, y_test = train_test_split(X, y, test_size=0.25, random_state = 123)\n"
   ]
  },
  {
   "cell_type": "code",
   "execution_count": null,
   "metadata": {},
   "outputs": [
    {
     "name": "stdout",
     "output_type": "stream",
     "text": [
      "RMSE: 50591.3232703246\n",
      "Mean RMSE: 55806.32634926364\n"
     ]
    }
   ],
   "source": [
    "# Size and number of rooms\n",
    "ct_dummies = ColumnTransformer(\n",
    "  [(\"standardize\", StandardScaler(), [\"Gr Liv Area\", \"TotRms AbvGrd\"])],\n",
    "  remainder = \"drop\"\n",
    ")\n",
    "\n",
    "lr_pipeline = Pipeline(\n",
    "  [(\"preprocessing\", ct_dummies),\n",
    "  (\"linear_regression\", LinearRegression())]\n",
    ").set_output(transform=\"pandas\")\n",
    "\n",
    "\n",
    "lr_pipeline.fit(X_train, y_train)\n",
    "y_pred = lr_pipeline.predict(X_test)\n",
    "\n",
    "rmse = np.sqrt(mean_squared_error(y_test, y_pred))\n",
    "#print(f\"RMSE: {rmse}\")\n",
    "\n",
    "scores = cross_val_score(lr_pipeline, X, y, cv=5, scoring='neg_root_mean_squared_error')\n",
    "\n",
    "# Calculate the mean RMSE\n",
    "mean_rmse = -scores.mean()  # Take the negative to convert back to positive RMSE\n",
    "print(f\"Mean RMSE: {mean_rmse}\")"
   ]
  },
  {
   "cell_type": "code",
   "execution_count": 41,
   "metadata": {},
   "outputs": [
    {
     "name": "stdout",
     "output_type": "stream",
     "text": [
      "RMSE: 49047.62094866008\n",
      "Mean RMSE: 54153.20862794976\n"
     ]
    }
   ],
   "source": [
    "ct_dummies = ColumnTransformer(\n",
    "  [(\"dummify\", OneHotEncoder(sparse_output = False), [\"Bldg Type\"]),\n",
    "  (\"standardize\", StandardScaler(), [\"Gr Liv Area\", \"TotRms AbvGrd\"])],\n",
    "  remainder = \"drop\"\n",
    ")\n",
    "\n",
    "lr_pipeline = Pipeline(\n",
    "  [(\"preprocessing\", ct_dummies),\n",
    "  (\"linear_regression\", LinearRegression())]\n",
    ").set_output(transform=\"pandas\")\n",
    "\n",
    "\n",
    "lr_pipeline.fit(X_train, y_train)\n",
    "y_pred = lr_pipeline.predict(X_test)\n",
    "\n",
    "rmse = np.sqrt(mean_squared_error(y_test, y_pred))\n",
    "print(f\"RMSE: {rmse}\")\n",
    "\n",
    "scores = cross_val_score(lr_pipeline, X, y, cv=5, scoring='neg_root_mean_squared_error')\n",
    "\n",
    "# Calculate the mean RMSE\n",
    "mean_rmse = -scores.mean()  # Take the negative to convert back to positive RMSE\n",
    "print(f\"Mean RMSE: {mean_rmse}\")"
   ]
  },
  {
   "cell_type": "code",
   "execution_count": null,
   "metadata": {},
   "outputs": [
    {
     "name": "stdout",
     "output_type": "stream",
     "text": [
      "RMSE: 48427.65178552182\n"
     ]
    }
   ],
   "source": [
    "ct_dummies = ColumnTransformer(\n",
    "  [(\"dummify\", OneHotEncoder(sparse_output = False), [\"Bldg Type\"]),\n",
    "  (\"standardize\", StandardScaler(), [\"Gr Liv Area\"])],\n",
    "  remainder = \"drop\"\n",
    ")\n",
    "\n",
    "\n",
    "lr_pipeline = Pipeline(\n",
    "  [(\"preprocessing\", ct_dummies),\n",
    "   (\"interaction\", PolynomialFeatures(interaction_only = True)),\n",
    "  (\"linear_regression\", LinearRegression())]\n",
    ").set_output(transform=\"pandas\")\n",
    "\n",
    "\n",
    "lr_pipeline.fit(X_train, y_train)\n",
    "y_pred = lr_pipeline.predict(X_test)\n",
    "\n",
    "rmse = np.sqrt(mean_squared_error(y_test, y_pred))\n",
    "#print(f\"RMSE: {rmse}\")\n",
    "\n",
    "scores = cross_val_score(lr_pipeline, X, y, cv=5, scoring='neg_root_mean_squared_error')\n",
    "\n",
    "# Calculate the mean RMSE\n",
    "mean_rmse = -scores.mean()  # Take the negative to convert back to positive RMSE\n",
    "print(f\"Mean RMSE: {mean_rmse}\")"
   ]
  },
  {
   "cell_type": "code",
   "execution_count": 42,
   "metadata": {},
   "outputs": [
    {
     "name": "stdout",
     "output_type": "stream",
     "text": [
      "Mean RMSE: 55176.96594338035\n"
     ]
    }
   ],
   "source": [
    "\n",
    "preprocessing = ColumnTransformer(\n",
    "    [\n",
    "        (\"dummify\", OneHotEncoder(sparse_output=False), [\"Bldg Type\"]),\n",
    "        (\"poly_size\", Pipeline([\n",
    "            (\"standardize\", StandardScaler()), \n",
    "            (\"poly\", PolynomialFeatures(degree=5, include_bias=False))\n",
    "        ]), [\"Gr Liv Area\"]),\n",
    "        (\"poly_rooms\", Pipeline([\n",
    "            (\"standardize\", StandardScaler()), \n",
    "            (\"poly\", PolynomialFeatures(degree=5, include_bias=False))\n",
    "        ]), [\"TotRms AbvGrd\"])\n",
    "    ],\n",
    "    remainder=\"drop\"\n",
    ").set_output(transform=\"pandas\")\n",
    "\n",
    "lr_pipeline = Pipeline(\n",
    "  [(\"preprocessing\", preprocessing),\n",
    "  (\"linear_regression\", LinearRegression())]\n",
    ").set_output(transform=\"pandas\")\n",
    "\n",
    "\n",
    "lr_pipeline.fit(X_train, y_train)\n",
    "y_pred = lr_pipeline.predict(X_test)\n",
    "\n",
    "rmse = np.sqrt(mean_squared_error(y_test, y_pred))\n",
    "#print(f\"RMSE: {rmse}\")\n",
    "\n",
    "scores = cross_val_score(lr_pipeline, X, y, cv=5, scoring='neg_root_mean_squared_error')\n",
    "\n",
    "# Calculate the mean RMSE\n",
    "mean_rmse = -scores.mean()  # Take the negative to convert back to positive RMSE\n",
    "print(f\"Mean RMSE: {mean_rmse}\")"
   ]
  },
  {
   "cell_type": "markdown",
   "metadata": {},
   "source": [
    "According to these models, model 3 seems to have performed the best.\n",
    "\n",
    "With the cross validation, the RMSE's also agree that model 3 has performed the best. "
   ]
  },
  {
   "cell_type": "code",
   "execution_count": 33,
   "metadata": {},
   "outputs": [
    {
     "data": {
      "text/plain": [
       "np.float64(0.5331485871994233)"
      ]
     },
     "execution_count": 33,
     "metadata": {},
     "output_type": "execute_result"
    }
   ],
   "source": [
    "from sklearn.model_selection import cross_val_score\n",
    "ct = ColumnTransformer(\n",
    "  [\n",
    "    (\"dummify\", OneHotEncoder(sparse_output = False), [\"Bldg Type\"]),\n",
    "    (\"standardize\", StandardScaler(), [\"Gr Liv Area\", \"TotRms AbvGrd\"])\n",
    "  ],\n",
    "  remainder = \"drop\"\n",
    ")\n",
    "\n",
    "lr_pipeline_1 = Pipeline(\n",
    "  [(\"preprocessing\", ct),\n",
    "  (\"linear_regression\", LinearRegression())]\n",
    ").set_output(transform=\"pandas\")\n",
    "\n",
    "\n",
    "scores = cross_val_score(lr_pipeline_1, X, y, cv=5, scoring='r2')\n",
    "scores.mean()"
   ]
  }
 ],
 "metadata": {
  "kernelspec": {
   "display_name": "Python 3",
   "language": "python",
   "name": "python3"
  },
  "language_info": {
   "codemirror_mode": {
    "name": "ipython",
    "version": 3
   },
   "file_extension": ".py",
   "mimetype": "text/x-python",
   "name": "python",
   "nbconvert_exporter": "python",
   "pygments_lexer": "ipython3",
   "version": "3.12.5"
  }
 },
 "nbformat": 4,
 "nbformat_minor": 2
}
